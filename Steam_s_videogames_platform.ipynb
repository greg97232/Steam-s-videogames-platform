{
 "cells": [
  {
   "cell_type": "code",
   "execution_count": 0,
   "metadata": {
    "application/vnd.databricks.v1+cell": {
     "cellMetadata": {
      "byteLimit": 2048000,
      "rowLimit": 10000
     },
     "inputWidgets": {},
     "nuid": "f8c023dc-dd1b-4907-8d4d-cd7fc610eac4",
     "showTitle": false,
     "title": ""
    }
   },
   "outputs": [],
   "source": [
    "# If you wish to see what's inside the spark object and the sparkContext run these commands\n",
    "# but your code will work regardless since they have already been set up.\n",
    "spark\n",
    "sc = spark.sparkContext"
   ]
  },
  {
   "cell_type": "code",
   "execution_count": 0,
   "metadata": {
    "application/vnd.databricks.v1+cell": {
     "cellMetadata": {
      "byteLimit": 2048000,
      "rowLimit": 10000
     },
     "inputWidgets": {},
     "nuid": "5399fb77-1956-499a-86b4-baebc113176c",
     "showTitle": false,
     "title": ""
    }
   },
   "outputs": [],
   "source": [
    "from pyspark.sql import functions as F # This will load the class where spark sql functions are contained\n",
    "from pyspark.sql import Row # this will let us manipulate rows with spark sql\n",
    "from pyspark.sql.types import * # Import types to convert columns using spark sql\n",
    "from pyspark.sql.functions import split, explode\n",
    "from pyspark.sql.functions import explode\n",
    "from pyspark.sql.functions import col, sum, desc, row_number\n",
    "from pyspark.sql.functions import count\n",
    "from pyspark.sql.functions import to_date, to_timestamp\n",
    "from pyspark.sql.window import Window\n",
    "from pyspark.sql.functions import when\n",
    "from pyspark.sql.functions import expr"
   ]
  },
  {
   "cell_type": "markdown",
   "metadata": {
    "application/vnd.databricks.v1+cell": {
     "cellMetadata": {
      "byteLimit": 2048000,
      "rowLimit": 10000
     },
     "inputWidgets": {},
     "nuid": "3f228c4e-b142-4510-b419-421426d0da81",
     "showTitle": false,
     "title": ""
    }
   },
   "source": [
    "## <div style=\"text-align: center;text-decoration: underline;\">EDA<br><br> ![image eda](https://ppcexpo.com/blog/wp-content/uploads/2022/01/exploratory-data-analysis.jpg) </div>"
   ]
  },
  {
   "cell_type": "code",
   "execution_count": 0,
   "metadata": {
    "application/vnd.databricks.v1+cell": {
     "cellMetadata": {
      "byteLimit": 2048000,
      "rowLimit": 10000
     },
     "inputWidgets": {},
     "nuid": "22849830-46f2-4530-8bc7-d04d33a6f99f",
     "showTitle": false,
     "title": ""
    }
   },
   "outputs": [],
   "source": [
    "# Créez un DataFrame à partir des données\n",
    "steam = spark.read.option(\"multiline\", \"true\").json(\"s3://full-stack-bigdata-datasets/Big_Data/Project_Steam/steam_game_output.json\")"
   ]
  },
  {
   "cell_type": "code",
   "execution_count": 0,
   "metadata": {
    "application/vnd.databricks.v1+cell": {
     "cellMetadata": {
      "byteLimit": 2048000,
      "rowLimit": 10000
     },
     "inputWidgets": {},
     "nuid": "80365989-6335-44fb-ac18-ef36d580dc49",
     "showTitle": false,
     "title": ""
    }
   },
   "outputs": [
    {
     "output_type": "stream",
     "name": "stdout",
     "output_type": "stream",
     "text": [
      "+--------------------+-------+\n|                data|     id|\n+--------------------+-------+\n|{10, [Multi-playe...|     10|\n|{1000000, [Single...|1000000|\n|{1000010, [Single...|1000010|\n|{1000030, [Multi-...|1000030|\n|{1000040, [Single...|1000040|\n|{1000080, [Multi-...|1000080|\n|{1000100, [Single...|1000100|\n|{1000110, [Multi-...|1000110|\n|{1000130, [Single...|1000130|\n|{1000280, [Single...|1000280|\n|{1000310, [Multi-...|1000310|\n|{1000360, [Multi-...|1000360|\n|{1000370, [Single...|1000370|\n|{1000380, [Single...|1000380|\n|{1000410, [Single...|1000410|\n|{1000470, [Single...|1000470|\n|{1000480, [Single...|1000480|\n|{1000500, [Multi-...|1000500|\n|{1000510, [], 0, ...|1000510|\n|{1000540, [Multi-...|1000540|\n+--------------------+-------+\nonly showing top 20 rows\n\nroot\n |-- data: struct (nullable = true)\n |    |-- appid: long (nullable = true)\n |    |-- categories: array (nullable = true)\n |    |    |-- element: string (containsNull = true)\n |    |-- ccu: long (nullable = true)\n |    |-- developer: string (nullable = true)\n |    |-- discount: string (nullable = true)\n |    |-- genre: string (nullable = true)\n |    |-- header_image: string (nullable = true)\n |    |-- initialprice: string (nullable = true)\n |    |-- languages: string (nullable = true)\n |    |-- name: string (nullable = true)\n |    |-- negative: long (nullable = true)\n |    |-- owners: string (nullable = true)\n |    |-- platforms: struct (nullable = true)\n |    |    |-- linux: boolean (nullable = true)\n |    |    |-- mac: boolean (nullable = true)\n |    |    |-- windows: boolean (nullable = true)\n |    |-- positive: long (nullable = true)\n |    |-- price: string (nullable = true)\n |    |-- publisher: string (nullable = true)\n |    |-- release_date: string (nullable = true)\n |    |-- required_age: string (nullable = true)\n |    |-- short_description: string (nullable = true)\n |    |-- tags: struct (nullable = true)\n |    |    |-- 1980s: long (nullable = true)\n |    |    |-- 1990's: long (nullable = true)\n |    |    |-- 2.5D: long (nullable = true)\n |    |    |-- 2D: long (nullable = true)\n |    |    |-- 2D Fighter: long (nullable = true)\n |    |    |-- 2D Platformer: long (nullable = true)\n |    |    |-- 360 Video: long (nullable = true)\n |    |    |-- 3D: long (nullable = true)\n |    |    |-- 3D Fighter: long (nullable = true)\n |    |    |-- 3D Platformer: long (nullable = true)\n |    |    |-- 3D Vision: long (nullable = true)\n |    |    |-- 4 Player Local: long (nullable = true)\n |    |    |-- 4X: long (nullable = true)\n |    |    |-- 6DOF: long (nullable = true)\n |    |    |-- 8-bit Music: long (nullable = true)\n |    |    |-- ATV: long (nullable = true)\n |    |    |-- Abstract: long (nullable = true)\n |    |    |-- Action: long (nullable = true)\n |    |    |-- Action RPG: long (nullable = true)\n |    |    |-- Action RTS: long (nullable = true)\n |    |    |-- Action Roguelike: long (nullable = true)\n |    |    |-- Action-Adventure: long (nullable = true)\n |    |    |-- Addictive: long (nullable = true)\n |    |    |-- Adventure: long (nullable = true)\n |    |    |-- Agriculture: long (nullable = true)\n |    |    |-- Aliens: long (nullable = true)\n |    |    |-- Alternate History: long (nullable = true)\n |    |    |-- Ambient: long (nullable = true)\n |    |    |-- America: long (nullable = true)\n |    |    |-- Animation & Modeling: long (nullable = true)\n |    |    |-- Anime: long (nullable = true)\n |    |    |-- Arcade: long (nullable = true)\n |    |    |-- Archery: long (nullable = true)\n |    |    |-- Arena Shooter: long (nullable = true)\n |    |    |-- Artificial Intelligence: long (nullable = true)\n |    |    |-- Assassin: long (nullable = true)\n |    |    |-- Asymmetric VR: long (nullable = true)\n |    |    |-- Asynchronous Multiplayer: long (nullable = true)\n |    |    |-- Atmospheric: long (nullable = true)\n |    |    |-- Audio Production: long (nullable = true)\n |    |    |-- Auto Battler: long (nullable = true)\n |    |    |-- Automation: long (nullable = true)\n |    |    |-- Automobile Sim: long (nullable = true)\n |    |    |-- BMX: long (nullable = true)\n |    |    |-- Base-Building: long (nullable = true)\n |    |    |-- Baseball: long (nullable = true)\n |    |    |-- Based On A Novel: long (nullable = true)\n |    |    |-- Basketball: long (nullable = true)\n |    |    |-- Battle Royale: long (nullable = true)\n |    |    |-- Beat 'em up: long (nullable = true)\n |    |    |-- Beautiful: long (nullable = true)\n |    |    |-- Benchmark: long (nullable = true)\n |    |    |-- Bikes: long (nullable = true)\n |    |    |-- Blood: long (nullable = true)\n |    |    |-- Board Game: long (nullable = true)\n |    |    |-- Boss Rush: long (nullable = true)\n |    |    |-- Bowling: long (nullable = true)\n |    |    |-- Boxing: long (nullable = true)\n |    |    |-- Building: long (nullable = true)\n |    |    |-- Bullet Hell: long (nullable = true)\n |    |    |-- Bullet Time: long (nullable = true)\n |    |    |-- CRPG: long (nullable = true)\n |    |    |-- Capitalism: long (nullable = true)\n |    |    |-- Card Battler: long (nullable = true)\n |    |    |-- Card Game: long (nullable = true)\n |    |    |-- Cartoon: long (nullable = true)\n |    |    |-- Cartoony: long (nullable = true)\n |    |    |-- Casual: long (nullable = true)\n |    |    |-- Cats: long (nullable = true)\n |    |    |-- Character Action Game: long (nullable = true)\n |    |    |-- Character Customization: long (nullable = true)\n |    |    |-- Chess: long (nullable = true)\n |    |    |-- Choices Matter: long (nullable = true)\n |    |    |-- Choose Your Own Adventure: long (nullable = true)\n |    |    |-- Cinematic: long (nullable = true)\n |    |    |-- City Builder: long (nullable = true)\n |    |    |-- Class-Based: long (nullable = true)\n |    |    |-- Classic: long (nullable = true)\n |    |    |-- Clicker: long (nullable = true)\n |    |    |-- Co-op: long (nullable = true)\n |    |    |-- Co-op Campaign: long (nullable = true)\n |    |    |-- Coding: long (nullable = true)\n |    |    |-- Cold War: long (nullable = true)\n |    |    |-- Collectathon: long (nullable = true)\n |    |    |-- Colony Sim: long (nullable = true)\n |    |    |-- Colorful: long (nullable = true)\n |    |    |-- Combat: long (nullable = true)\n |    |    |-- Combat Racing: long (nullable = true)\n |    |    |-- Comedy: long (nullable = true)\n |    |    |-- Comic Book: long (nullable = true)\n |    |    |-- Competitive: long (nullable = true)\n |    |    |-- Conspiracy: long (nullable = true)\n |    |    |-- Controller: long (nullable = true)\n |    |    |-- Conversation: long (nullable = true)\n |    |    |-- Cooking: long (nullable = true)\n |    |    |-- Cozy: long (nullable = true)\n |    |    |-- Crafting: long (nullable = true)\n |    |    |-- Creature Collector: long (nullable = true)\n |    |    |-- Cricket: long (nullable = true)\n |    |    |-- Crime: long (nullable = true)\n |    |    |-- Crowdfunded: long (nullable = true)\n |    |    |-- Cult Classic: long (nullable = true)\n |    |    |-- Cute: long (nullable = true)\n |    |    |-- Cyberpunk: long (nullable = true)\n |    |    |-- Cycling: long (nullable = true)\n |    |    |-- Dark: long (nullable = true)\n |    |    |-- Dark Comedy: long (nullable = true)\n |    |    |-- Dark Fantasy: long (nullable = true)\n |    |    |-- Dark Humor: long (nullable = true)\n |    |    |-- Dating Sim: long (nullable = true)\n |    |    |-- Deckbuilding: long (nullable = true)\n |    |    |-- Demons: long (nullable = true)\n |    |    |-- Design & Illustration: long (nullable = true)\n |    |    |-- Destruction: long (nullable = true)\n |    |    |-- Detective: long (nullable = true)\n |    |    |-- Difficult: long (nullable = true)\n |    |    |-- Dinosaurs: long (nullable = true)\n |    |    |-- Diplomacy: long (nullable = true)\n |    |    |-- Documentary: long (nullable = true)\n |    |    |-- Dog: long (nullable = true)\n |    |    |-- Dragons: long (nullable = true)\n |    |    |-- Drama: long (nullable = true)\n |    |    |-- Driving: long (nullable = true)\n |    |    |-- Dungeon Crawler: long (nullable = true)\n |    |    |-- Dungeons & Dragons: long (nullable = true)\n |    |    |-- Dynamic Narration: long (nullable = true)\n |    |    |-- Dystopian : long (nullable = true)\n |    |    |-- Early Access: long (nullable = true)\n |    |    |-- Economy: long (nullable = true)\n |    |    |-- Education: long (nullable = true)\n |    |    |-- Electronic: long (nullable = true)\n |    |    |-- Electronic Music: long (nullable = true)\n |    |    |-- Emotional: long (nullable = true)\n |    |    |-- Epic: long (nullable = true)\n |    |    |-- Episodic: long (nullable = true)\n |    |    |-- Escape Room: long (nullable = true)\n |    |    |-- Experience: long (nullable = true)\n |    |    |-- Experimental: long (nullable = true)\n |    |    |-- Exploration: long (nullable = true)\n |    |    |-- FMV: long (nullable = true)\n |    |    |-- FPS: long (nullable = true)\n |    |    |-- Faith: long (nullable = true)\n |    |    |-- Family Friendly: long (nullable = true)\n |    |    |-- Fantasy: long (nullable = true)\n |    |    |-- Farming: long (nullable = true)\n |    |    |-- Farming Sim: long (nullable = true)\n |    |    |-- Fast-Paced: long (nullable = true)\n |    |    |-- Feature Film: long (nullable = true)\n |    |    |-- Female Protagonist: long (nullable = true)\n |    |    |-- Fighting: long (nullable = true)\n |    |    |-- First-Person: long (nullable = true)\n |    |    |-- Fishing: long (nullable = true)\n |    |    |-- Flight: long (nullable = true)\n |    |    |-- Football: long (nullable = true)\n |    |    |-- Foreign: long (nullable = true)\n |    |    |-- Free to Play: long (nullable = true)\n |    |    |-- Funny: long (nullable = true)\n |    |    |-- Futuristic: long (nullable = true)\n |    |    |-- Gambling: long (nullable = true)\n |    |    |-- Game Development: long (nullable = true)\n |    |    |-- GameMaker: long (nullable = true)\n |    |    |-- Games Workshop: long (nullable = true)\n |    |    |-- Gaming: long (nullable = true)\n |    |    |-- God Game: long (nullable = true)\n |    |    |-- Golf: long (nullable = true)\n |    |    |-- Gore: long (nullable = true)\n |    |    |-- Gothic: long (nullable = true)\n |    |    |-- Grand Strategy: long (nullable = true)\n |    |    |-- Great Soundtrack: long (nullable = true)\n |    |    |-- Grid-Based Movement: long (nullable = true)\n |    |    |-- Gun Customization: long (nullable = true)\n |    |    |-- Hack and Slash: long (nullable = true)\n |    |    |-- Hacking: long (nullable = true)\n |    |    |-- Hand-drawn: long (nullable = true)\n |    |    |-- Hardware: long (nullable = true)\n |    |    |-- Heist: long (nullable = true)\n |    |    |-- Hentai: long (nullable = true)\n |    |    |-- Hero Shooter: long (nullable = true)\n |    |    |-- Hex Grid: long (nullable = true)\n |    |    |-- Hidden Object: long (nullable = true)\n |    |    |-- Historical: long (nullable = true)\n |    |    |-- Hockey: long (nullable = true)\n |    |    |-- Horror: long (nullable = true)\n |    |    |-- Horses: long (nullable = true)\n |    |    |-- Hunting: long (nullable = true)\n |    |    |-- Idler: long (nullable = true)\n |    |    |-- Illuminati: long (nullable = true)\n |    |    |-- Immersive: long (nullable = true)\n |    |    |-- Immersive Sim: long (nullable = true)\n |    |    |-- Indie: long (nullable = true)\n |    |    |-- Instrumental Music: long (nullable = true)\n |    |    |-- Intentionally Awkward Controls: long (nullable = true)\n |    |    |-- Interactive Fiction: long (nullable = true)\n |    |    |-- Inventory Management: long (nullable = true)\n |    |    |-- Investigation: long (nullable = true)\n |    |    |-- Isometric: long (nullable = true)\n |    |    |-- JRPG: long (nullable = true)\n |    |    |-- Jet: long (nullable = true)\n |    |    |-- Job Simulator: long (nullable = true)\n |    |    |-- Jump Scare: long (nullable = true)\n |    |    |-- Kickstarter: long (nullable = true)\n |    |    |-- LEGO: long (nullable = true)\n |    |    |-- LGBTQ+: long (nullable = true)\n |    |    |-- Lemmings: long (nullable = true)\n |    |    |-- Level Editor: long (nullable = true)\n |    |    |-- Life Sim: long (nullable = true)\n |    |    |-- Linear: long (nullable = true)\n |    |    |-- Local Co-Op: long (nullable = true)\n |    |    |-- Local Multiplayer: long (nullable = true)\n |    |    |-- Logic: long (nullable = true)\n |    |    |-- Loot: long (nullable = true)\n |    |    |-- Looter Shooter: long (nullable = true)\n |    |    |-- Lore-Rich: long (nullable = true)\n |    |    |-- Lovecraftian: long (nullable = true)\n |    |    |-- MMORPG: long (nullable = true)\n |    |    |-- MOBA: long (nullable = true)\n |    |    |-- Magic: long (nullable = true)\n |    |    |-- Mahjong: long (nullable = true)\n |    |    |-- Management: long (nullable = true)\n |    |    |-- Mars: long (nullable = true)\n |    |    |-- Martial Arts: long (nullable = true)\n |    |    |-- Massively Multiplayer: long (nullable = true)\n |    |    |-- Masterpiece: long (nullable = true)\n |    |    |-- Match 3: long (nullable = true)\n |    |    |-- Mature: long (nullable = true)\n |    |    |-- Mechs: long (nullable = true)\n |    |    |-- Medical Sim: long (nullable = true)\n |    |    |-- Medieval: long (nullable = true)\n |    |    |-- Memes: long (nullable = true)\n |    |    |-- Metroidvania: long (nullable = true)\n |    |    |-- Military: long (nullable = true)\n |    |    |-- Mini Golf: long (nullable = true)\n |    |    |-- Minigames: long (nullable = true)\n |    |    |-- Minimalist: long (nullable = true)\n |    |    |-- Mining: long (nullable = true)\n |    |    |-- Mod: long (nullable = true)\n |    |    |-- Moddable: long (nullable = true)\n |    |    |-- Modern: long (nullable = true)\n |    |    |-- Motocross: long (nullable = true)\n |    |    |-- Motorbike: long (nullable = true)\n |    |    |-- Mouse only: long (nullable = true)\n |    |    |-- Movie: long (nullable = true)\n |    |    |-- Multiplayer: long (nullable = true)\n |    |    |-- Multiple Endings: long (nullable = true)\n |    |    |-- Music: long (nullable = true)\n |    |    |-- Music-Based Procedural Generation: long (nullable = true)\n |    |    |-- Musou: long (nullable = true)\n |    |    |-- Mystery: long (nullable = true)\n |    |    |-- Mystery Dungeon: long (nullable = true)\n |    |    |-- Mythology: long (nullable = true)\n |    |    |-- NSFW: long (nullable = true)\n |    |    |-- Narration: long (nullable = true)\n |    |    |-- Narrative: long (nullable = true)\n |    |    |-- Nature: long (nullable = true)\n |    |    |-- Naval: long (nullable = true)\n |    |    |-- Naval Combat: long (nullable = true)\n |    |    |-- Ninja: long (nullable = true)\n |    |    |-- Noir: long (nullable = true)\n |    |    |-- Nonlinear: long (nullable = true)\n |    |    |-- Nostalgia: long (nullable = true)\n |    |    |-- Nudity: long (nullable = true)\n |    |    |-- Offroad: long (nullable = true)\n |    |    |-- Old School: long (nullable = true)\n |    |    |-- On-Rails Shooter: long (nullable = true)\n |    |    |-- Online Co-Op: long (nullable = true)\n |    |    |-- Open World: long (nullable = true)\n |    |    |-- Open World Survival Craft: long (nullable = true)\n |    |    |-- Otome: long (nullable = true)\n |    |    |-- Outbreak Sim: long (nullable = true)\n |    |    |-- Parkour: long (nullable = true)\n |    |    |-- Parody : long (nullable = true)\n |    |    |-- Party: long (nullable = true)\n |    |    |-- Party Game: long (nullable = true)\n |    |    |-- Party-Based RPG: long (nullable = true)\n |    |    |-- Perma Death: long (nullable = true)\n |    |    |-- Philosophical: long (nullable = true)\n |    |    |-- Photo Editing: long (nullable = true)\n |    |    |-- Physics: long (nullable = true)\n |    |    |-- Pinball: long (nullable = true)\n |    |    |-- Pirates: long (nullable = true)\n |    |    |-- Pixel Graphics: long (nullable = true)\n |    |    |-- Platformer: long (nullable = true)\n |    |    |-- Point & Click: long (nullable = true)\n |    |    |-- Political: long (nullable = true)\n |    |    |-- Political Sim: long (nullable = true)\n |    |    |-- Politics: long (nullable = true)\n |    |    |-- Pool: long (nullable = true)\n |    |    |-- Post-apocalyptic: long (nullable = true)\n |    |    |-- Precision Platformer: long (nullable = true)\n |    |    |-- Procedural Generation: long (nullable = true)\n |    |    |-- Programming: long (nullable = true)\n |    |    |-- Psychedelic: long (nullable = true)\n |    |    |-- Psychological: long (nullable = true)\n |    |    |-- Psychological Horror: long (nullable = true)\n |    |    |-- Puzzle: long (nullable = true)\n |    |    |-- Puzzle-Platformer: long (nullable = true)\n |    |    |-- PvE: long (nullable = true)\n |    |    |-- PvP: long (nullable = true)\n |    |    |-- Quick-Time Events: long (nullable = true)\n |    |    |-- RPG: long (nullable = true)\n |    |    |-- RPGMaker: long (nullable = true)\n |    |    |-- RTS: long (nullable = true)\n |    |    |-- Racing: long (nullable = true)\n |    |    |-- Real Time Tactics: long (nullable = true)\n |    |    |-- Real-Time: long (nullable = true)\n |    |    |-- Real-Time with Pause: long (nullable = true)\n |    |    |-- Realistic: long (nullable = true)\n |    |    |-- Reboot: long (nullable = true)\n |    |    |-- Relaxing: long (nullable = true)\n |    |    |-- Remake: long (nullable = true)\n |    |    |-- Replay Value: long (nullable = true)\n |    |    |-- Resource Management: long (nullable = true)\n |    |    |-- Retro: long (nullable = true)\n |    |    |-- Rhythm: long (nullable = true)\n |    |    |-- Robots: long (nullable = true)\n |    |    |-- Rock Music: long (nullable = true)\n |    |    |-- Rogue-like: long (nullable = true)\n |    |    |-- Rogue-lite: long (nullable = true)\n |    |    |-- Roguelike Deckbuilder: long (nullable = true)\n |    |    |-- Roguevania: long (nullable = true)\n |    |    |-- Romance: long (nullable = true)\n |    |    |-- Rome: long (nullable = true)\n |    |    |-- Rugby: long (nullable = true)\n |    |    |-- Runner: long (nullable = true)\n |    |    |-- Sailing: long (nullable = true)\n |    |    |-- Sandbox: long (nullable = true)\n |    |    |-- Satire: long (nullable = true)\n |    |    |-- Sci-fi: long (nullable = true)\n |    |    |-- Science: long (nullable = true)\n |    |    |-- Score Attack: long (nullable = true)\n |    |    |-- Sequel: long (nullable = true)\n |    |    |-- Sexual Content: long (nullable = true)\n |    |    |-- Shoot 'Em Up: long (nullable = true)\n |    |    |-- Shooter: long (nullable = true)\n |    |    |-- Shop Keeper: long (nullable = true)\n |    |    |-- Short: long (nullable = true)\n |    |    |-- Side Scroller: long (nullable = true)\n |    |    |-- Silent Protagonist: long (nullable = true)\n |    |    |-- Simulation: long (nullable = true)\n |    |    |-- Singleplayer: long (nullable = true)\n |    |    |-- Skateboarding: long (nullable = true)\n |    |    |-- Skating: long (nullable = true)\n |    |    |-- Skiing: long (nullable = true)\n |    |    |-- Sniper: long (nullable = true)\n |    |    |-- Snooker: long (nullable = true)\n |    |    |-- Snow: long (nullable = true)\n |    |    |-- Snowboarding: long (nullable = true)\n |    |    |-- Soccer: long (nullable = true)\n |    |    |-- Social Deduction: long (nullable = true)\n |    |    |-- Software: long (nullable = true)\n |    |    |-- Software Training: long (nullable = true)\n |    |    |-- Sokoban: long (nullable = true)\n |    |    |-- Solitaire: long (nullable = true)\n |    |    |-- Souls-like: long (nullable = true)\n |    |    |-- Soundtrack: long (nullable = true)\n |    |    |-- Space: long (nullable = true)\n |    |    |-- Space Sim: long (nullable = true)\n |    |    |-- Spaceships: long (nullable = true)\n |    |    |-- Spectacle fighter: long (nullable = true)\n |    |    |-- Spelling: long (nullable = true)\n |    |    |-- Split Screen: long (nullable = true)\n |    |    |-- Sports: long (nullable = true)\n |    |    |-- Stealth: long (nullable = true)\n |    |    |-- Steam Machine: long (nullable = true)\n |    |    |-- Steampunk: long (nullable = true)\n |    |    |-- Story Rich: long (nullable = true)\n |    |    |-- Strategy: long (nullable = true)\n |    |    |-- Strategy RPG: long (nullable = true)\n |    |    |-- Stylized: long (nullable = true)\n |    |    |-- Submarine: long (nullable = true)\n |    |    |-- Superhero: long (nullable = true)\n |    |    |-- Supernatural: long (nullable = true)\n |    |    |-- Surreal: long (nullable = true)\n |    |    |-- Survival: long (nullable = true)\n |    |    |-- Survival Horror: long (nullable = true)\n |    |    |-- Swordplay: long (nullable = true)\n |    |    |-- Tabletop: long (nullable = true)\n |    |    |-- Tactical: long (nullable = true)\n |    |    |-- Tactical RPG: long (nullable = true)\n |    |    |-- Tanks: long (nullable = true)\n |    |    |-- Team-Based: long (nullable = true)\n |    |    |-- Tennis: long (nullable = true)\n |    |    |-- Text-Based: long (nullable = true)\n |    |    |-- Third Person: long (nullable = true)\n |    |    |-- Third-Person Shooter: long (nullable = true)\n |    |    |-- Thriller: long (nullable = true)\n |    |    |-- Tile-Matching: long (nullable = true)\n |    |    |-- Time Attack: long (nullable = true)\n |    |    |-- Time Management: long (nullable = true)\n |    |    |-- Time Manipulation: long (nullable = true)\n |    |    |-- Time Travel: long (nullable = true)\n |    |    |-- Top-Down: long (nullable = true)\n |    |    |-- Top-Down Shooter: long (nullable = true)\n |    |    |-- Touch-Friendly: long (nullable = true)\n |    |    |-- Tower Defense: long (nullable = true)\n |    |    |-- TrackIR: long (nullable = true)\n |    |    |-- Trading: long (nullable = true)\n |    |    |-- Trading Card Game: long (nullable = true)\n |    |    |-- Traditional Roguelike: long (nullable = true)\n |    |    |-- Trains: long (nullable = true)\n |    |    |-- Transhumanism: long (nullable = true)\n |    |    |-- Transportation: long (nullable = true)\n |    |    |-- Trivia: long (nullable = true)\n |    |    |-- Turn-Based: long (nullable = true)\n |    |    |-- Turn-Based Combat: long (nullable = true)\n |    |    |-- Turn-Based Strategy: long (nullable = true)\n |    |    |-- Turn-Based Tactics: long (nullable = true)\n |    |    |-- Tutorial: long (nullable = true)\n |    |    |-- Twin Stick Shooter: long (nullable = true)\n |    |    |-- Typing: long (nullable = true)\n |    |    |-- Underground: long (nullable = true)\n |    |    |-- Underwater: long (nullable = true)\n |    |    |-- Unforgiving: long (nullable = true)\n |    |    |-- Utilities: long (nullable = true)\n |    |    |-- VR: long (nullable = true)\n |    |    |-- VR Only: long (nullable = true)\n |    |    |-- Vampire: long (nullable = true)\n |    |    |-- Vehicular Combat: long (nullable = true)\n |    |    |-- Video Production: long (nullable = true)\n |    |    |-- Vikings: long (nullable = true)\n |    |    |-- Villain Protagonist: long (nullable = true)\n |    |    |-- Violent: long (nullable = true)\n |    |    |-- Visual Novel: long (nullable = true)\n |    |    |-- Voice Control: long (nullable = true)\n |    |    |-- Volleyball: long (nullable = true)\n |    |    |-- Voxel: long (nullable = true)\n |    |    |-- Walking Simulator: long (nullable = true)\n |    |    |-- War: long (nullable = true)\n |    |    |-- Wargame: long (nullable = true)\n |    |    |-- Warhammer 40K: long (nullable = true)\n |    |    |-- Web Publishing: long (nullable = true)\n |    |    |-- Well-Written: long (nullable = true)\n |    |    |-- Werewolves: long (nullable = true)\n |    |    |-- Western: long (nullable = true)\n |    |    |-- Wholesome: long (nullable = true)\n |    |    |-- Word Game: long (nullable = true)\n |    |    |-- World War I: long (nullable = true)\n |    |    |-- World War II: long (nullable = true)\n |    |    |-- Wrestling: long (nullable = true)\n |    |    |-- Zombies: long (nullable = true)\n |    |    |-- e-sports: long (nullable = true)\n |    |-- type: string (nullable = true)\n |    |-- website: string (nullable = true)\n |-- id: string (nullable = true)\n\n"
     ]
    }
   ],
   "source": [
    "steam.show()\n",
    "steam.printSchema()"
   ]
  },
  {
   "cell_type": "code",
   "execution_count": 0,
   "metadata": {
    "application/vnd.databricks.v1+cell": {
     "cellMetadata": {
      "byteLimit": 2048000,
      "rowLimit": 10000
     },
     "inputWidgets": {},
     "nuid": "fc3a3bed-9b13-4659-99d9-b58369ad7e8a",
     "showTitle": false,
     "title": ""
    }
   },
   "outputs": [],
   "source": [
    "\n",
    "# Liste des colonnes à extraire\n",
    "columns_to_extract = ['genre', 'publisher', 'platforms','positive','negative','categories','name','developer','discount','initialprice','ccu','release_date','languages','required_age']\n",
    "\n",
    "# Boucle à travers chaque colonne et appliquez getField() pour extraire la valeur\n",
    "for column in columns_to_extract:\n",
    "    steam = steam.withColumn(column, col(\"data\").getField(column))"
   ]
  },
  {
   "cell_type": "code",
   "execution_count": 0,
   "metadata": {
    "application/vnd.databricks.v1+cell": {
     "cellMetadata": {
      "byteLimit": 2048000,
      "rowLimit": 10000
     },
     "inputWidgets": {},
     "nuid": "eb89b6cd-94ad-4583-8615-619e5a676724",
     "showTitle": false,
     "title": ""
    }
   },
   "outputs": [
    {
     "output_type": "stream",
     "name": "stdout",
     "output_type": "stream",
     "text": [
      "+--------------------+\n|nombre_valeurs_vides|\n+--------------------+\n|                  99|\n+--------------------+\n\n"
     ]
    }
   ],
   "source": [
    "# Créer une vue temporaire pour pouvoir utiliser SQL\n",
    "steam.createOrReplaceTempView(\"table_temporaire\")\n",
    "\n",
    "# Exécuter une requête SQL pour compter le nombre de valeurs vides dans une colonne spécifique\n",
    "resultatc = spark.sql(\"SELECT COUNT(CASE WHEN release_date IS NULL OR release_date = '' THEN 1 END) AS nombre_valeurs_vides FROM table_temporaire\")\n",
    "\n",
    "# Afficher le nombre de valeurs vides dans la colonne spécifique\n",
    "resultatc.show()\n",
    "\n"
   ]
  },
  {
   "cell_type": "code",
   "execution_count": 0,
   "metadata": {
    "application/vnd.databricks.v1+cell": {
     "cellMetadata": {
      "byteLimit": 2048000,
      "rowLimit": 10000
     },
     "inputWidgets": {},
     "nuid": "d7c4b8b2-7e03-4792-b504-7239fd68c205",
     "showTitle": false,
     "title": ""
    }
   },
   "outputs": [
    {
     "output_type": "stream",
     "name": "stdout",
     "output_type": "stream",
     "text": [
      "+--------------------+-------+--------------------+----------------------------+--------------------+--------+--------+--------------------+------------------------------------+----------------------------+--------+------------+-----+------------+--------------------+------------+-----+\n|                data|     id|               genre|                   publisher|           platforms|positive|negative|          categories|                                name|                   developer|discount|initialprice|  ccu|release_date|           languages|required_age|price|\n+--------------------+-------+--------------------+----------------------------+--------------------+--------+--------+--------------------+------------------------------------+----------------------------+--------+------------+-----+------------+--------------------+------------+-----+\n|{10, [Multi-playe...|     10|              Action|                       Valve|  {true, true, true}|  201215|    5199|[Multi-player, Va...|                      Counter-Strike|                       Valve|       0|         999|13990|   2000/11/1|English, French, ...|           0|  999|\n|{1000000, [Single...|1000000|Action, Adventure...|        PsychoFlux Entert...|{false, false, true}|      27|       5|[Single-player, P...|                           ASCENXION|        IndigoBlue Game S...|       0|         999|    0|  2021/05/14|English, Korean, ...|           0|  999|\n|{1000010, [Single...|1000010|Adventure, Indie,...|        Team17, NEXT Studios|{false, false, true}|    4032|     646|[Single-player, P...|                         Crown Trick|                NEXT Studios|      70|        1999|   99|  2020/10/16|Simplified Chines...|           0| 1999|\n|{1000030, [Multi-...|1000030|Action, Indie, Si...|         Vertigo Gaming Inc.| {false, true, true}|    1575|     115|[Multi-player, Si...|                Cook, Serve, Deli...|         Vertigo Gaming Inc.|       0|        1999|   76|  2020/10/14|             English|           0| 1999|\n|{1000040, [Single...|1000040|Action, Casual, I...|               DoubleC Games|{false, false, true}|       0|       1|     [Single-player]|                            细胞战争|               DoubleC Games|       0|         199|    0|  2019/03/30|  Simplified Chinese|           0|  199|\n|{1000080, [Multi-...|1000080|Action, Adventure...|                    2P Games| {false, true, true}|    1018|     462|[Multi-player, Si...|                             Zengeon|          IndieLeague Studio|      60|        1999|    3|  2019/06/24|Simplified Chines...|           0| 1999|\n|{1000100, [Single...|1000100|Adventure, Indie,...|             Starship Studio|{false, false, true}|      18|       6|[Single-player, S...|干支セトラ　陽ノ卷｜干支etc.　陽之卷|                    七月九日|       0|        1299|    0|  2019/01/24|Japanese, Simplif...|           0| 1299|\n|{1000110, [Multi-...|1000110|Action, Adventure...|          重庆环游者网络科技|{false, false, true}|      50|      34|[Multi-player, Si...|            Jumping Master(跳跳大咖)|          重庆环游者网络科技|       0|           0|    0|   2019/04/8|English, Simplifi...|           0|    0|\n|{1000130, [Single...|1000130|       Casual, Indie|            Simon Codrington| {false, true, true}|       6|       0|[Single-player, S...|                       Cube Defender|            Simon Codrington|       0|         299|    0|   2019/01/6|             English|           0|  299|\n|{1000280, [Single...|1000280|          Indie, RPG|                Villain Role|{false, false, true}|      32|      12|     [Single-player]|                Tower of Origin2-...|                Villain Role|       0|        1399|    0|   2021/09/9|English, Simplifi...|           0| 1399|\n|{1000310, [Multi-...|1000310|Action, RPG, Stra...|海南众铖互娱网络科技有限公司|{false, false, true}|       1|       5|[Multi-player, Si...|                      人气动漫大乱斗|海南众铖互娱网络科技有限公司|       0|          99|    0|  2019/12/17|  Simplified Chinese|           0|   99|\n|{1000360, [Multi-...|1000360|Action, Early Access|                      Kubold|{false, false, true}|    4031|     315|[Multi-player, Si...|                       Hellish Quart|                      Kubold|       0|        1699|   59|  2021/02/16|English, Simplifi...|           0| 1699|\n|{1000370, [Single...|1000370|               Indie|                 LFiO Studio|{false, false, true}|       0|       1|     [Single-player]|                      SurReal Subway|                 LFiO Studio|       0|           0|    0|   2019/01/3|             English|           0|    0|\n|{1000380, [Single...|1000380|Action, Adventure...|            Fireroot Studios|{false, false, true}|     309|      87|[Single-player, S...|                        Rogue Reaper|            Fireroot Studios|       0|           0|    0|   2019/02/1|             English|           0|    0|\n|{1000410, [Single...|1000410|Action, Early Access|        3D Realms, Fulqru...|{false, false, true}|    1212|     328|     [Single-player]|                 WRATH: Aeon of Ruin|                   KillPixel|       0|        2499|    6|  2019/11/22|             English|           0| 2499|\n|{1000470, [Single...|1000470|Adventure, Indie,...|                DarkDes Labs|{false, false, true}|      55|      13|[Single-player, S...|                Drawngeon: Dungeo...|                DarkDes Labs|       0|         499|    0|  2019/05/24|English, Russian,...|           0|  499|\n|{1000480, [Single...|1000480|Action, Indie, RP...|                Meadow Games|  {true, true, true}|       9|       6|     [Single-player]|                       Battle Motion|                Meadow Games|       0|         999|    0|   2019/02/4|             English|           0|  999|\n|{1000500, [Multi-...|1000500|Action, Casual, I...|                    Amonga99|  {true, true, true}|       9|       3|[Multi-player, Si...|                The Undisputables...|                    Amonga99|       0|         699|    0|   2021/12/5|English, French, ...|           0|  699|\n|{1000510, [], 0, ...|1000510|           Education|            1337 Game Design|{false, false, true}|     104|      21|                  []|                The Marvellous Ma...|            1337 Game Design|       0|           0|    0|  2019/02/11|             English|           0|    0|\n|{1000540, [Multi-...|1000540|Casual, Free to P...|              Hellride Games|{false, false, true}|      53|      12|[Multi-player, St...|                    Tactical Control|              Hellride Games|       0|           0|    0|  2019/03/21|             English|           0|    0|\n+--------------------+-------+--------------------+----------------------------+--------------------+--------+--------+--------------------+------------------------------------+----------------------------+--------+------------+-----+------------+--------------------+------------+-----+\nonly showing top 20 rows\n\nroot\n |-- data: struct (nullable = true)\n |    |-- appid: long (nullable = true)\n |    |-- categories: array (nullable = true)\n |    |    |-- element: string (containsNull = true)\n |    |-- ccu: long (nullable = true)\n |    |-- developer: string (nullable = true)\n |    |-- discount: string (nullable = true)\n |    |-- genre: string (nullable = true)\n |    |-- header_image: string (nullable = true)\n |    |-- initialprice: string (nullable = true)\n |    |-- languages: string (nullable = true)\n |    |-- name: string (nullable = true)\n |    |-- negative: long (nullable = true)\n |    |-- owners: string (nullable = true)\n |    |-- platforms: struct (nullable = true)\n |    |    |-- linux: boolean (nullable = true)\n |    |    |-- mac: boolean (nullable = true)\n |    |    |-- windows: boolean (nullable = true)\n |    |-- positive: long (nullable = true)\n |    |-- price: string (nullable = true)\n |    |-- publisher: string (nullable = true)\n |    |-- release_date: string (nullable = true)\n |    |-- required_age: string (nullable = true)\n |    |-- short_description: string (nullable = true)\n |    |-- tags: struct (nullable = true)\n |    |    |-- 1980s: long (nullable = true)\n |    |    |-- 1990's: long (nullable = true)\n |    |    |-- 2.5D: long (nullable = true)\n |    |    |-- 2D: long (nullable = true)\n |    |    |-- 2D Fighter: long (nullable = true)\n |    |    |-- 2D Platformer: long (nullable = true)\n |    |    |-- 360 Video: long (nullable = true)\n |    |    |-- 3D: long (nullable = true)\n |    |    |-- 3D Fighter: long (nullable = true)\n |    |    |-- 3D Platformer: long (nullable = true)\n |    |    |-- 3D Vision: long (nullable = true)\n |    |    |-- 4 Player Local: long (nullable = true)\n |    |    |-- 4X: long (nullable = true)\n |    |    |-- 6DOF: long (nullable = true)\n |    |    |-- 8-bit Music: long (nullable = true)\n |    |    |-- ATV: long (nullable = true)\n |    |    |-- Abstract: long (nullable = true)\n |    |    |-- Action: long (nullable = true)\n |    |    |-- Action RPG: long (nullable = true)\n |    |    |-- Action RTS: long (nullable = true)\n |    |    |-- Action Roguelike: long (nullable = true)\n |    |    |-- Action-Adventure: long (nullable = true)\n |    |    |-- Addictive: long (nullable = true)\n |    |    |-- Adventure: long (nullable = true)\n |    |    |-- Agriculture: long (nullable = true)\n |    |    |-- Aliens: long (nullable = true)\n |    |    |-- Alternate History: long (nullable = true)\n |    |    |-- Ambient: long (nullable = true)\n |    |    |-- America: long (nullable = true)\n |    |    |-- Animation & Modeling: long (nullable = true)\n |    |    |-- Anime: long (nullable = true)\n |    |    |-- Arcade: long (nullable = true)\n |    |    |-- Archery: long (nullable = true)\n |    |    |-- Arena Shooter: long (nullable = true)\n |    |    |-- Artificial Intelligence: long (nullable = true)\n |    |    |-- Assassin: long (nullable = true)\n |    |    |-- Asymmetric VR: long (nullable = true)\n |    |    |-- Asynchronous Multiplayer: long (nullable = true)\n |    |    |-- Atmospheric: long (nullable = true)\n |    |    |-- Audio Production: long (nullable = true)\n |    |    |-- Auto Battler: long (nullable = true)\n |    |    |-- Automation: long (nullable = true)\n |    |    |-- Automobile Sim: long (nullable = true)\n |    |    |-- BMX: long (nullable = true)\n |    |    |-- Base-Building: long (nullable = true)\n |    |    |-- Baseball: long (nullable = true)\n |    |    |-- Based On A Novel: long (nullable = true)\n |    |    |-- Basketball: long (nullable = true)\n |    |    |-- Battle Royale: long (nullable = true)\n |    |    |-- Beat 'em up: long (nullable = true)\n |    |    |-- Beautiful: long (nullable = true)\n |    |    |-- Benchmark: long (nullable = true)\n |    |    |-- Bikes: long (nullable = true)\n |    |    |-- Blood: long (nullable = true)\n |    |    |-- Board Game: long (nullable = true)\n |    |    |-- Boss Rush: long (nullable = true)\n |    |    |-- Bowling: long (nullable = true)\n |    |    |-- Boxing: long (nullable = true)\n |    |    |-- Building: long (nullable = true)\n |    |    |-- Bullet Hell: long (nullable = true)\n |    |    |-- Bullet Time: long (nullable = true)\n |    |    |-- CRPG: long (nullable = true)\n |    |    |-- Capitalism: long (nullable = true)\n |    |    |-- Card Battler: long (nullable = true)\n |    |    |-- Card Game: long (nullable = true)\n |    |    |-- Cartoon: long (nullable = true)\n |    |    |-- Cartoony: long (nullable = true)\n |    |    |-- Casual: long (nullable = true)\n |    |    |-- Cats: long (nullable = true)\n |    |    |-- Character Action Game: long (nullable = true)\n |    |    |-- Character Customization: long (nullable = true)\n |    |    |-- Chess: long (nullable = true)\n |    |    |-- Choices Matter: long (nullable = true)\n |    |    |-- Choose Your Own Adventure: long (nullable = true)\n |    |    |-- Cinematic: long (nullable = true)\n |    |    |-- City Builder: long (nullable = true)\n |    |    |-- Class-Based: long (nullable = true)\n |    |    |-- Classic: long (nullable = true)\n |    |    |-- Clicker: long (nullable = true)\n |    |    |-- Co-op: long (nullable = true)\n |    |    |-- Co-op Campaign: long (nullable = true)\n |    |    |-- Coding: long (nullable = true)\n |    |    |-- Cold War: long (nullable = true)\n |    |    |-- Collectathon: long (nullable = true)\n |    |    |-- Colony Sim: long (nullable = true)\n |    |    |-- Colorful: long (nullable = true)\n |    |    |-- Combat: long (nullable = true)\n |    |    |-- Combat Racing: long (nullable = true)\n |    |    |-- Comedy: long (nullable = true)\n |    |    |-- Comic Book: long (nullable = true)\n |    |    |-- Competitive: long (nullable = true)\n |    |    |-- Conspiracy: long (nullable = true)\n |    |    |-- Controller: long (nullable = true)\n |    |    |-- Conversation: long (nullable = true)\n |    |    |-- Cooking: long (nullable = true)\n |    |    |-- Cozy: long (nullable = true)\n |    |    |-- Crafting: long (nullable = true)\n |    |    |-- Creature Collector: long (nullable = true)\n |    |    |-- Cricket: long (nullable = true)\n |    |    |-- Crime: long (nullable = true)\n |    |    |-- Crowdfunded: long (nullable = true)\n |    |    |-- Cult Classic: long (nullable = true)\n |    |    |-- Cute: long (nullable = true)\n |    |    |-- Cyberpunk: long (nullable = true)\n |    |    |-- Cycling: long (nullable = true)\n |    |    |-- Dark: long (nullable = true)\n |    |    |-- Dark Comedy: long (nullable = true)\n |    |    |-- Dark Fantasy: long (nullable = true)\n |    |    |-- Dark Humor: long (nullable = true)\n |    |    |-- Dating Sim: long (nullable = true)\n |    |    |-- Deckbuilding: long (nullable = true)\n |    |    |-- Demons: long (nullable = true)\n |    |    |-- Design & Illustration: long (nullable = true)\n |    |    |-- Destruction: long (nullable = true)\n |    |    |-- Detective: long (nullable = true)\n |    |    |-- Difficult: long (nullable = true)\n |    |    |-- Dinosaurs: long (nullable = true)\n |    |    |-- Diplomacy: long (nullable = true)\n |    |    |-- Documentary: long (nullable = true)\n |    |    |-- Dog: long (nullable = true)\n |    |    |-- Dragons: long (nullable = true)\n |    |    |-- Drama: long (nullable = true)\n |    |    |-- Driving: long (nullable = true)\n |    |    |-- Dungeon Crawler: long (nullable = true)\n |    |    |-- Dungeons & Dragons: long (nullable = true)\n |    |    |-- Dynamic Narration: long (nullable = true)\n |    |    |-- Dystopian : long (nullable = true)\n |    |    |-- Early Access: long (nullable = true)\n |    |    |-- Economy: long (nullable = true)\n |    |    |-- Education: long (nullable = true)\n |    |    |-- Electronic: long (nullable = true)\n |    |    |-- Electronic Music: long (nullable = true)\n |    |    |-- Emotional: long (nullable = true)\n |    |    |-- Epic: long (nullable = true)\n |    |    |-- Episodic: long (nullable = true)\n |    |    |-- Escape Room: long (nullable = true)\n |    |    |-- Experience: long (nullable = true)\n |    |    |-- Experimental: long (nullable = true)\n |    |    |-- Exploration: long (nullable = true)\n |    |    |-- FMV: long (nullable = true)\n |    |    |-- FPS: long (nullable = true)\n |    |    |-- Faith: long (nullable = true)\n |    |    |-- Family Friendly: long (nullable = true)\n |    |    |-- Fantasy: long (nullable = true)\n |    |    |-- Farming: long (nullable = true)\n |    |    |-- Farming Sim: long (nullable = true)\n |    |    |-- Fast-Paced: long (nullable = true)\n |    |    |-- Feature Film: long (nullable = true)\n |    |    |-- Female Protagonist: long (nullable = true)\n |    |    |-- Fighting: long (nullable = true)\n |    |    |-- First-Person: long (nullable = true)\n |    |    |-- Fishing: long (nullable = true)\n |    |    |-- Flight: long (nullable = true)\n |    |    |-- Football: long (nullable = true)\n |    |    |-- Foreign: long (nullable = true)\n |    |    |-- Free to Play: long (nullable = true)\n |    |    |-- Funny: long (nullable = true)\n |    |    |-- Futuristic: long (nullable = true)\n |    |    |-- Gambling: long (nullable = true)\n |    |    |-- Game Development: long (nullable = true)\n |    |    |-- GameMaker: long (nullable = true)\n |    |    |-- Games Workshop: long (nullable = true)\n |    |    |-- Gaming: long (nullable = true)\n |    |    |-- God Game: long (nullable = true)\n |    |    |-- Golf: long (nullable = true)\n |    |    |-- Gore: long (nullable = true)\n |    |    |-- Gothic: long (nullable = true)\n |    |    |-- Grand Strategy: long (nullable = true)\n |    |    |-- Great Soundtrack: long (nullable = true)\n |    |    |-- Grid-Based Movement: long (nullable = true)\n |    |    |-- Gun Customization: long (nullable = true)\n |    |    |-- Hack and Slash: long (nullable = true)\n |    |    |-- Hacking: long (nullable = true)\n |    |    |-- Hand-drawn: long (nullable = true)\n |    |    |-- Hardware: long (nullable = true)\n |    |    |-- Heist: long (nullable = true)\n |    |    |-- Hentai: long (nullable = true)\n |    |    |-- Hero Shooter: long (nullable = true)\n |    |    |-- Hex Grid: long (nullable = true)\n |    |    |-- Hidden Object: long (nullable = true)\n |    |    |-- Historical: long (nullable = true)\n |    |    |-- Hockey: long (nullable = true)\n |    |    |-- Horror: long (nullable = true)\n |    |    |-- Horses: long (nullable = true)\n |    |    |-- Hunting: long (nullable = true)\n |    |    |-- Idler: long (nullable = true)\n |    |    |-- Illuminati: long (nullable = true)\n |    |    |-- Immersive: long (nullable = true)\n |    |    |-- Immersive Sim: long (nullable = true)\n |    |    |-- Indie: long (nullable = true)\n |    |    |-- Instrumental Music: long (nullable = true)\n |    |    |-- Intentionally Awkward Controls: long (nullable = true)\n |    |    |-- Interactive Fiction: long (nullable = true)\n |    |    |-- Inventory Management: long (nullable = true)\n |    |    |-- Investigation: long (nullable = true)\n |    |    |-- Isometric: long (nullable = true)\n |    |    |-- JRPG: long (nullable = true)\n |    |    |-- Jet: long (nullable = true)\n |    |    |-- Job Simulator: long (nullable = true)\n |    |    |-- Jump Scare: long (nullable = true)\n |    |    |-- Kickstarter: long (nullable = true)\n |    |    |-- LEGO: long (nullable = true)\n |    |    |-- LGBTQ+: long (nullable = true)\n |    |    |-- Lemmings: long (nullable = true)\n |    |    |-- Level Editor: long (nullable = true)\n |    |    |-- Life Sim: long (nullable = true)\n |    |    |-- Linear: long (nullable = true)\n |    |    |-- Local Co-Op: long (nullable = true)\n |    |    |-- Local Multiplayer: long (nullable = true)\n |    |    |-- Logic: long (nullable = true)\n |    |    |-- Loot: long (nullable = true)\n |    |    |-- Looter Shooter: long (nullable = true)\n |    |    |-- Lore-Rich: long (nullable = true)\n |    |    |-- Lovecraftian: long (nullable = true)\n |    |    |-- MMORPG: long (nullable = true)\n |    |    |-- MOBA: long (nullable = true)\n |    |    |-- Magic: long (nullable = true)\n |    |    |-- Mahjong: long (nullable = true)\n |    |    |-- Management: long (nullable = true)\n |    |    |-- Mars: long (nullable = true)\n |    |    |-- Martial Arts: long (nullable = true)\n |    |    |-- Massively Multiplayer: long (nullable = true)\n |    |    |-- Masterpiece: long (nullable = true)\n |    |    |-- Match 3: long (nullable = true)\n |    |    |-- Mature: long (nullable = true)\n |    |    |-- Mechs: long (nullable = true)\n |    |    |-- Medical Sim: long (nullable = true)\n |    |    |-- Medieval: long (nullable = true)\n |    |    |-- Memes: long (nullable = true)\n |    |    |-- Metroidvania: long (nullable = true)\n |    |    |-- Military: long (nullable = true)\n |    |    |-- Mini Golf: long (nullable = true)\n |    |    |-- Minigames: long (nullable = true)\n |    |    |-- Minimalist: long (nullable = true)\n |    |    |-- Mining: long (nullable = true)\n |    |    |-- Mod: long (nullable = true)\n |    |    |-- Moddable: long (nullable = true)\n |    |    |-- Modern: long (nullable = true)\n |    |    |-- Motocross: long (nullable = true)\n |    |    |-- Motorbike: long (nullable = true)\n |    |    |-- Mouse only: long (nullable = true)\n |    |    |-- Movie: long (nullable = true)\n |    |    |-- Multiplayer: long (nullable = true)\n |    |    |-- Multiple Endings: long (nullable = true)\n |    |    |-- Music: long (nullable = true)\n |    |    |-- Music-Based Procedural Generation: long (nullable = true)\n |    |    |-- Musou: long (nullable = true)\n |    |    |-- Mystery: long (nullable = true)\n |    |    |-- Mystery Dungeon: long (nullable = true)\n |    |    |-- Mythology: long (nullable = true)\n |    |    |-- NSFW: long (nullable = true)\n |    |    |-- Narration: long (nullable = true)\n |    |    |-- Narrative: long (nullable = true)\n |    |    |-- Nature: long (nullable = true)\n |    |    |-- Naval: long (nullable = true)\n |    |    |-- Naval Combat: long (nullable = true)\n |    |    |-- Ninja: long (nullable = true)\n |    |    |-- Noir: long (nullable = true)\n |    |    |-- Nonlinear: long (nullable = true)\n |    |    |-- Nostalgia: long (nullable = true)\n |    |    |-- Nudity: long (nullable = true)\n |    |    |-- Offroad: long (nullable = true)\n |    |    |-- Old School: long (nullable = true)\n |    |    |-- On-Rails Shooter: long (nullable = true)\n |    |    |-- Online Co-Op: long (nullable = true)\n |    |    |-- Open World: long (nullable = true)\n |    |    |-- Open World Survival Craft: long (nullable = true)\n |    |    |-- Otome: long (nullable = true)\n |    |    |-- Outbreak Sim: long (nullable = true)\n |    |    |-- Parkour: long (nullable = true)\n |    |    |-- Parody : long (nullable = true)\n |    |    |-- Party: long (nullable = true)\n |    |    |-- Party Game: long (nullable = true)\n |    |    |-- Party-Based RPG: long (nullable = true)\n |    |    |-- Perma Death: long (nullable = true)\n |    |    |-- Philosophical: long (nullable = true)\n |    |    |-- Photo Editing: long (nullable = true)\n |    |    |-- Physics: long (nullable = true)\n |    |    |-- Pinball: long (nullable = true)\n |    |    |-- Pirates: long (nullable = true)\n |    |    |-- Pixel Graphics: long (nullable = true)\n |    |    |-- Platformer: long (nullable = true)\n |    |    |-- Point & Click: long (nullable = true)\n |    |    |-- Political: long (nullable = true)\n |    |    |-- Political Sim: long (nullable = true)\n |    |    |-- Politics: long (nullable = true)\n |    |    |-- Pool: long (nullable = true)\n |    |    |-- Post-apocalyptic: long (nullable = true)\n |    |    |-- Precision Platformer: long (nullable = true)\n |    |    |-- Procedural Generation: long (nullable = true)\n |    |    |-- Programming: long (nullable = true)\n |    |    |-- Psychedelic: long (nullable = true)\n |    |    |-- Psychological: long (nullable = true)\n |    |    |-- Psychological Horror: long (nullable = true)\n |    |    |-- Puzzle: long (nullable = true)\n |    |    |-- Puzzle-Platformer: long (nullable = true)\n |    |    |-- PvE: long (nullable = true)\n |    |    |-- PvP: long (nullable = true)\n |    |    |-- Quick-Time Events: long (nullable = true)\n |    |    |-- RPG: long (nullable = true)\n |    |    |-- RPGMaker: long (nullable = true)\n |    |    |-- RTS: long (nullable = true)\n |    |    |-- Racing: long (nullable = true)\n |    |    |-- Real Time Tactics: long (nullable = true)\n |    |    |-- Real-Time: long (nullable = true)\n |    |    |-- Real-Time with Pause: long (nullable = true)\n |    |    |-- Realistic: long (nullable = true)\n |    |    |-- Reboot: long (nullable = true)\n |    |    |-- Relaxing: long (nullable = true)\n |    |    |-- Remake: long (nullable = true)\n |    |    |-- Replay Value: long (nullable = true)\n |    |    |-- Resource Management: long (nullable = true)\n |    |    |-- Retro: long (nullable = true)\n |    |    |-- Rhythm: long (nullable = true)\n |    |    |-- Robots: long (nullable = true)\n |    |    |-- Rock Music: long (nullable = true)\n |    |    |-- Rogue-like: long (nullable = true)\n |    |    |-- Rogue-lite: long (nullable = true)\n |    |    |-- Roguelike Deckbuilder: long (nullable = true)\n |    |    |-- Roguevania: long (nullable = true)\n |    |    |-- Romance: long (nullable = true)\n |    |    |-- Rome: long (nullable = true)\n |    |    |-- Rugby: long (nullable = true)\n |    |    |-- Runner: long (nullable = true)\n |    |    |-- Sailing: long (nullable = true)\n |    |    |-- Sandbox: long (nullable = true)\n |    |    |-- Satire: long (nullable = true)\n |    |    |-- Sci-fi: long (nullable = true)\n |    |    |-- Science: long (nullable = true)\n |    |    |-- Score Attack: long (nullable = true)\n |    |    |-- Sequel: long (nullable = true)\n |    |    |-- Sexual Content: long (nullable = true)\n |    |    |-- Shoot 'Em Up: long (nullable = true)\n |    |    |-- Shooter: long (nullable = true)\n |    |    |-- Shop Keeper: long (nullable = true)\n |    |    |-- Short: long (nullable = true)\n |    |    |-- Side Scroller: long (nullable = true)\n |    |    |-- Silent Protagonist: long (nullable = true)\n |    |    |-- Simulation: long (nullable = true)\n |    |    |-- Singleplayer: long (nullable = true)\n |    |    |-- Skateboarding: long (nullable = true)\n |    |    |-- Skating: long (nullable = true)\n |    |    |-- Skiing: long (nullable = true)\n |    |    |-- Sniper: long (nullable = true)\n |    |    |-- Snooker: long (nullable = true)\n |    |    |-- Snow: long (nullable = true)\n |    |    |-- Snowboarding: long (nullable = true)\n |    |    |-- Soccer: long (nullable = true)\n |    |    |-- Social Deduction: long (nullable = true)\n |    |    |-- Software: long (nullable = true)\n |    |    |-- Software Training: long (nullable = true)\n |    |    |-- Sokoban: long (nullable = true)\n |    |    |-- Solitaire: long (nullable = true)\n |    |    |-- Souls-like: long (nullable = true)\n |    |    |-- Soundtrack: long (nullable = true)\n |    |    |-- Space: long (nullable = true)\n |    |    |-- Space Sim: long (nullable = true)\n |    |    |-- Spaceships: long (nullable = true)\n |    |    |-- Spectacle fighter: long (nullable = true)\n |    |    |-- Spelling: long (nullable = true)\n |    |    |-- Split Screen: long (nullable = true)\n |    |    |-- Sports: long (nullable = true)\n |    |    |-- Stealth: long (nullable = true)\n |    |    |-- Steam Machine: long (nullable = true)\n |    |    |-- Steampunk: long (nullable = true)\n |    |    |-- Story Rich: long (nullable = true)\n |    |    |-- Strategy: long (nullable = true)\n |    |    |-- Strategy RPG: long (nullable = true)\n |    |    |-- Stylized: long (nullable = true)\n |    |    |-- Submarine: long (nullable = true)\n |    |    |-- Superhero: long (nullable = true)\n |    |    |-- Supernatural: long (nullable = true)\n |    |    |-- Surreal: long (nullable = true)\n |    |    |-- Survival: long (nullable = true)\n |    |    |-- Survival Horror: long (nullable = true)\n |    |    |-- Swordplay: long (nullable = true)\n |    |    |-- Tabletop: long (nullable = true)\n |    |    |-- Tactical: long (nullable = true)\n |    |    |-- Tactical RPG: long (nullable = true)\n |    |    |-- Tanks: long (nullable = true)\n |    |    |-- Team-Based: long (nullable = true)\n |    |    |-- Tennis: long (nullable = true)\n |    |    |-- Text-Based: long (nullable = true)\n |    |    |-- Third Person: long (nullable = true)\n |    |    |-- Third-Person Shooter: long (nullable = true)\n |    |    |-- Thriller: long (nullable = true)\n |    |    |-- Tile-Matching: long (nullable = true)\n |    |    |-- Time Attack: long (nullable = true)\n |    |    |-- Time Management: long (nullable = true)\n |    |    |-- Time Manipulation: long (nullable = true)\n |    |    |-- Time Travel: long (nullable = true)\n |    |    |-- Top-Down: long (nullable = true)\n |    |    |-- Top-Down Shooter: long (nullable = true)\n |    |    |-- Touch-Friendly: long (nullable = true)\n |    |    |-- Tower Defense: long (nullable = true)\n |    |    |-- TrackIR: long (nullable = true)\n |    |    |-- Trading: long (nullable = true)\n |    |    |-- Trading Card Game: long (nullable = true)\n |    |    |-- Traditional Roguelike: long (nullable = true)\n |    |    |-- Trains: long (nullable = true)\n |    |    |-- Transhumanism: long (nullable = true)\n |    |    |-- Transportation: long (nullable = true)\n |    |    |-- Trivia: long (nullable = true)\n |    |    |-- Turn-Based: long (nullable = true)\n |    |    |-- Turn-Based Combat: long (nullable = true)\n |    |    |-- Turn-Based Strategy: long (nullable = true)\n |    |    |-- Turn-Based Tactics: long (nullable = true)\n |    |    |-- Tutorial: long (nullable = true)\n |    |    |-- Twin Stick Shooter: long (nullable = true)\n |    |    |-- Typing: long (nullable = true)\n |    |    |-- Underground: long (nullable = true)\n |    |    |-- Underwater: long (nullable = true)\n |    |    |-- Unforgiving: long (nullable = true)\n |    |    |-- Utilities: long (nullable = true)\n |    |    |-- VR: long (nullable = true)\n |    |    |-- VR Only: long (nullable = true)\n |    |    |-- Vampire: long (nullable = true)\n |    |    |-- Vehicular Combat: long (nullable = true)\n |    |    |-- Video Production: long (nullable = true)\n |    |    |-- Vikings: long (nullable = true)\n |    |    |-- Villain Protagonist: long (nullable = true)\n |    |    |-- Violent: long (nullable = true)\n |    |    |-- Visual Novel: long (nullable = true)\n |    |    |-- Voice Control: long (nullable = true)\n |    |    |-- Volleyball: long (nullable = true)\n |    |    |-- Voxel: long (nullable = true)\n |    |    |-- Walking Simulator: long (nullable = true)\n |    |    |-- War: long (nullable = true)\n |    |    |-- Wargame: long (nullable = true)\n |    |    |-- Warhammer 40K: long (nullable = true)\n |    |    |-- Web Publishing: long (nullable = true)\n |    |    |-- Well-Written: long (nullable = true)\n |    |    |-- Werewolves: long (nullable = true)\n |    |    |-- Western: long (nullable = true)\n |    |    |-- Wholesome: long (nullable = true)\n |    |    |-- Word Game: long (nullable = true)\n |    |    |-- World War I: long (nullable = true)\n |    |    |-- World War II: long (nullable = true)\n |    |    |-- Wrestling: long (nullable = true)\n |    |    |-- Zombies: long (nullable = true)\n |    |    |-- e-sports: long (nullable = true)\n |    |-- type: string (nullable = true)\n |    |-- website: string (nullable = true)\n |-- id: string (nullable = true)\n |-- genre: string (nullable = true)\n |-- publisher: string (nullable = true)\n |-- platforms: struct (nullable = true)\n |    |-- linux: boolean (nullable = true)\n |    |-- mac: boolean (nullable = true)\n |    |-- windows: boolean (nullable = true)\n |-- positive: long (nullable = true)\n |-- negative: long (nullable = true)\n |-- categories: array (nullable = true)\n |    |-- element: string (containsNull = true)\n |-- name: string (nullable = true)\n |-- developer: string (nullable = true)\n |-- discount: string (nullable = true)\n |-- initialprice: string (nullable = true)\n |-- ccu: long (nullable = true)\n |-- release_date: string (nullable = true)\n |-- languages: string (nullable = true)\n |-- required_age: string (nullable = true)\n |-- price: integer (nullable = true)\n\n"
     ]
    }
   ],
   "source": [
    "# Utilisez la fonction cast() pour convertir la colonne string en INTEGER\n",
    "dfint = steam.withColumn(\"price\", col(\"initialprice\").cast(\"INTEGER\"))\n",
    "\n",
    "# Afficher le DataFrame résultant\n",
    "dfint.show()\n",
    "\n",
    "dfint.printSchema()"
   ]
  },
  {
   "cell_type": "code",
   "execution_count": 0,
   "metadata": {
    "application/vnd.databricks.v1+cell": {
     "cellMetadata": {
      "byteLimit": 2048000,
      "rowLimit": 10000
     },
     "inputWidgets": {},
     "nuid": "57576f0e-f07a-4abe-be2a-290f71320ac6",
     "showTitle": false,
     "title": ""
    }
   },
   "outputs": [
    {
     "output_type": "stream",
     "name": "stdout",
     "output_type": "stream",
     "text": [
      "+--------------------+-------+--------------------+----------------------------+--------------------+--------+--------+--------------------+------------------------------------+----------------------------+--------+------------+-----+------------+--------------------+------------+-----+-----+\n|                data|     id|               genre|                   publisher|           platforms|positive|negative|          categories|                                name|                   developer|discount|initialprice|  ccu|release_date|           languages|required_age|price|promo|\n+--------------------+-------+--------------------+----------------------------+--------------------+--------+--------+--------------------+------------------------------------+----------------------------+--------+------------+-----+------------+--------------------+------------+-----+-----+\n|{10, [Multi-playe...|     10|              Action|                       Valve|  {true, true, true}|  201215|    5199|[Multi-player, Va...|                      Counter-Strike|                       Valve|       0|         999|13990|   2000/11/1|English, French, ...|           0|  999|    0|\n|{1000000, [Single...|1000000|Action, Adventure...|        PsychoFlux Entert...|{false, false, true}|      27|       5|[Single-player, P...|                           ASCENXION|        IndigoBlue Game S...|       0|         999|    0|  2021/05/14|English, Korean, ...|           0|  999|    0|\n|{1000010, [Single...|1000010|Adventure, Indie,...|        Team17, NEXT Studios|{false, false, true}|    4032|     646|[Single-player, P...|                         Crown Trick|                NEXT Studios|      70|        1999|   99|  2020/10/16|Simplified Chines...|           0| 1999|   70|\n|{1000030, [Multi-...|1000030|Action, Indie, Si...|         Vertigo Gaming Inc.| {false, true, true}|    1575|     115|[Multi-player, Si...|                Cook, Serve, Deli...|         Vertigo Gaming Inc.|       0|        1999|   76|  2020/10/14|             English|           0| 1999|    0|\n|{1000040, [Single...|1000040|Action, Casual, I...|               DoubleC Games|{false, false, true}|       0|       1|     [Single-player]|                            细胞战争|               DoubleC Games|       0|         199|    0|  2019/03/30|  Simplified Chinese|           0|  199|    0|\n|{1000080, [Multi-...|1000080|Action, Adventure...|                    2P Games| {false, true, true}|    1018|     462|[Multi-player, Si...|                             Zengeon|          IndieLeague Studio|      60|        1999|    3|  2019/06/24|Simplified Chines...|           0| 1999|   60|\n|{1000100, [Single...|1000100|Adventure, Indie,...|             Starship Studio|{false, false, true}|      18|       6|[Single-player, S...|干支セトラ　陽ノ卷｜干支etc.　陽之卷|                    七月九日|       0|        1299|    0|  2019/01/24|Japanese, Simplif...|           0| 1299|    0|\n|{1000110, [Multi-...|1000110|Action, Adventure...|          重庆环游者网络科技|{false, false, true}|      50|      34|[Multi-player, Si...|            Jumping Master(跳跳大咖)|          重庆环游者网络科技|       0|           0|    0|   2019/04/8|English, Simplifi...|           0|    0|    0|\n|{1000130, [Single...|1000130|       Casual, Indie|            Simon Codrington| {false, true, true}|       6|       0|[Single-player, S...|                       Cube Defender|            Simon Codrington|       0|         299|    0|   2019/01/6|             English|           0|  299|    0|\n|{1000280, [Single...|1000280|          Indie, RPG|                Villain Role|{false, false, true}|      32|      12|     [Single-player]|                Tower of Origin2-...|                Villain Role|       0|        1399|    0|   2021/09/9|English, Simplifi...|           0| 1399|    0|\n|{1000310, [Multi-...|1000310|Action, RPG, Stra...|海南众铖互娱网络科技有限公司|{false, false, true}|       1|       5|[Multi-player, Si...|                      人气动漫大乱斗|海南众铖互娱网络科技有限公司|       0|          99|    0|  2019/12/17|  Simplified Chinese|           0|   99|    0|\n|{1000360, [Multi-...|1000360|Action, Early Access|                      Kubold|{false, false, true}|    4031|     315|[Multi-player, Si...|                       Hellish Quart|                      Kubold|       0|        1699|   59|  2021/02/16|English, Simplifi...|           0| 1699|    0|\n|{1000370, [Single...|1000370|               Indie|                 LFiO Studio|{false, false, true}|       0|       1|     [Single-player]|                      SurReal Subway|                 LFiO Studio|       0|           0|    0|   2019/01/3|             English|           0|    0|    0|\n|{1000380, [Single...|1000380|Action, Adventure...|            Fireroot Studios|{false, false, true}|     309|      87|[Single-player, S...|                        Rogue Reaper|            Fireroot Studios|       0|           0|    0|   2019/02/1|             English|           0|    0|    0|\n|{1000410, [Single...|1000410|Action, Early Access|        3D Realms, Fulqru...|{false, false, true}|    1212|     328|     [Single-player]|                 WRATH: Aeon of Ruin|                   KillPixel|       0|        2499|    6|  2019/11/22|             English|           0| 2499|    0|\n|{1000470, [Single...|1000470|Adventure, Indie,...|                DarkDes Labs|{false, false, true}|      55|      13|[Single-player, S...|                Drawngeon: Dungeo...|                DarkDes Labs|       0|         499|    0|  2019/05/24|English, Russian,...|           0|  499|    0|\n|{1000480, [Single...|1000480|Action, Indie, RP...|                Meadow Games|  {true, true, true}|       9|       6|     [Single-player]|                       Battle Motion|                Meadow Games|       0|         999|    0|   2019/02/4|             English|           0|  999|    0|\n|{1000500, [Multi-...|1000500|Action, Casual, I...|                    Amonga99|  {true, true, true}|       9|       3|[Multi-player, Si...|                The Undisputables...|                    Amonga99|       0|         699|    0|   2021/12/5|English, French, ...|           0|  699|    0|\n|{1000510, [], 0, ...|1000510|           Education|            1337 Game Design|{false, false, true}|     104|      21|                  []|                The Marvellous Ma...|            1337 Game Design|       0|           0|    0|  2019/02/11|             English|           0|    0|    0|\n|{1000540, [Multi-...|1000540|Casual, Free to P...|              Hellride Games|{false, false, true}|      53|      12|[Multi-player, St...|                    Tactical Control|              Hellride Games|       0|           0|    0|  2019/03/21|             English|           0|    0|    0|\n+--------------------+-------+--------------------+----------------------------+--------------------+--------+--------+--------------------+------------------------------------+----------------------------+--------+------------+-----+------------+--------------------+------------+-----+-----+\nonly showing top 20 rows\n\nroot\n |-- data: struct (nullable = true)\n |    |-- appid: long (nullable = true)\n |    |-- categories: array (nullable = true)\n |    |    |-- element: string (containsNull = true)\n |    |-- ccu: long (nullable = true)\n |    |-- developer: string (nullable = true)\n |    |-- discount: string (nullable = true)\n |    |-- genre: string (nullable = true)\n |    |-- header_image: string (nullable = true)\n |    |-- initialprice: string (nullable = true)\n |    |-- languages: string (nullable = true)\n |    |-- name: string (nullable = true)\n |    |-- negative: long (nullable = true)\n |    |-- owners: string (nullable = true)\n |    |-- platforms: struct (nullable = true)\n |    |    |-- linux: boolean (nullable = true)\n |    |    |-- mac: boolean (nullable = true)\n |    |    |-- windows: boolean (nullable = true)\n |    |-- positive: long (nullable = true)\n |    |-- price: string (nullable = true)\n |    |-- publisher: string (nullable = true)\n |    |-- release_date: string (nullable = true)\n |    |-- required_age: string (nullable = true)\n |    |-- short_description: string (nullable = true)\n |    |-- tags: struct (nullable = true)\n |    |    |-- 1980s: long (nullable = true)\n |    |    |-- 1990's: long (nullable = true)\n |    |    |-- 2.5D: long (nullable = true)\n |    |    |-- 2D: long (nullable = true)\n |    |    |-- 2D Fighter: long (nullable = true)\n |    |    |-- 2D Platformer: long (nullable = true)\n |    |    |-- 360 Video: long (nullable = true)\n |    |    |-- 3D: long (nullable = true)\n |    |    |-- 3D Fighter: long (nullable = true)\n |    |    |-- 3D Platformer: long (nullable = true)\n |    |    |-- 3D Vision: long (nullable = true)\n |    |    |-- 4 Player Local: long (nullable = true)\n |    |    |-- 4X: long (nullable = true)\n |    |    |-- 6DOF: long (nullable = true)\n |    |    |-- 8-bit Music: long (nullable = true)\n |    |    |-- ATV: long (nullable = true)\n |    |    |-- Abstract: long (nullable = true)\n |    |    |-- Action: long (nullable = true)\n |    |    |-- Action RPG: long (nullable = true)\n |    |    |-- Action RTS: long (nullable = true)\n |    |    |-- Action Roguelike: long (nullable = true)\n |    |    |-- Action-Adventure: long (nullable = true)\n |    |    |-- Addictive: long (nullable = true)\n |    |    |-- Adventure: long (nullable = true)\n |    |    |-- Agriculture: long (nullable = true)\n |    |    |-- Aliens: long (nullable = true)\n |    |    |-- Alternate History: long (nullable = true)\n |    |    |-- Ambient: long (nullable = true)\n |    |    |-- America: long (nullable = true)\n |    |    |-- Animation & Modeling: long (nullable = true)\n |    |    |-- Anime: long (nullable = true)\n |    |    |-- Arcade: long (nullable = true)\n |    |    |-- Archery: long (nullable = true)\n |    |    |-- Arena Shooter: long (nullable = true)\n |    |    |-- Artificial Intelligence: long (nullable = true)\n |    |    |-- Assassin: long (nullable = true)\n |    |    |-- Asymmetric VR: long (nullable = true)\n |    |    |-- Asynchronous Multiplayer: long (nullable = true)\n |    |    |-- Atmospheric: long (nullable = true)\n |    |    |-- Audio Production: long (nullable = true)\n |    |    |-- Auto Battler: long (nullable = true)\n |    |    |-- Automation: long (nullable = true)\n |    |    |-- Automobile Sim: long (nullable = true)\n |    |    |-- BMX: long (nullable = true)\n |    |    |-- Base-Building: long (nullable = true)\n |    |    |-- Baseball: long (nullable = true)\n |    |    |-- Based On A Novel: long (nullable = true)\n |    |    |-- Basketball: long (nullable = true)\n |    |    |-- Battle Royale: long (nullable = true)\n |    |    |-- Beat 'em up: long (nullable = true)\n |    |    |-- Beautiful: long (nullable = true)\n |    |    |-- Benchmark: long (nullable = true)\n |    |    |-- Bikes: long (nullable = true)\n |    |    |-- Blood: long (nullable = true)\n |    |    |-- Board Game: long (nullable = true)\n |    |    |-- Boss Rush: long (nullable = true)\n |    |    |-- Bowling: long (nullable = true)\n |    |    |-- Boxing: long (nullable = true)\n |    |    |-- Building: long (nullable = true)\n |    |    |-- Bullet Hell: long (nullable = true)\n |    |    |-- Bullet Time: long (nullable = true)\n |    |    |-- CRPG: long (nullable = true)\n |    |    |-- Capitalism: long (nullable = true)\n |    |    |-- Card Battler: long (nullable = true)\n |    |    |-- Card Game: long (nullable = true)\n |    |    |-- Cartoon: long (nullable = true)\n |    |    |-- Cartoony: long (nullable = true)\n |    |    |-- Casual: long (nullable = true)\n |    |    |-- Cats: long (nullable = true)\n |    |    |-- Character Action Game: long (nullable = true)\n |    |    |-- Character Customization: long (nullable = true)\n |    |    |-- Chess: long (nullable = true)\n |    |    |-- Choices Matter: long (nullable = true)\n |    |    |-- Choose Your Own Adventure: long (nullable = true)\n |    |    |-- Cinematic: long (nullable = true)\n |    |    |-- City Builder: long (nullable = true)\n |    |    |-- Class-Based: long (nullable = true)\n |    |    |-- Classic: long (nullable = true)\n |    |    |-- Clicker: long (nullable = true)\n |    |    |-- Co-op: long (nullable = true)\n |    |    |-- Co-op Campaign: long (nullable = true)\n |    |    |-- Coding: long (nullable = true)\n |    |    |-- Cold War: long (nullable = true)\n |    |    |-- Collectathon: long (nullable = true)\n |    |    |-- Colony Sim: long (nullable = true)\n |    |    |-- Colorful: long (nullable = true)\n |    |    |-- Combat: long (nullable = true)\n |    |    |-- Combat Racing: long (nullable = true)\n |    |    |-- Comedy: long (nullable = true)\n |    |    |-- Comic Book: long (nullable = true)\n |    |    |-- Competitive: long (nullable = true)\n |    |    |-- Conspiracy: long (nullable = true)\n |    |    |-- Controller: long (nullable = true)\n |    |    |-- Conversation: long (nullable = true)\n |    |    |-- Cooking: long (nullable = true)\n |    |    |-- Cozy: long (nullable = true)\n |    |    |-- Crafting: long (nullable = true)\n |    |    |-- Creature Collector: long (nullable = true)\n |    |    |-- Cricket: long (nullable = true)\n |    |    |-- Crime: long (nullable = true)\n |    |    |-- Crowdfunded: long (nullable = true)\n |    |    |-- Cult Classic: long (nullable = true)\n |    |    |-- Cute: long (nullable = true)\n |    |    |-- Cyberpunk: long (nullable = true)\n |    |    |-- Cycling: long (nullable = true)\n |    |    |-- Dark: long (nullable = true)\n |    |    |-- Dark Comedy: long (nullable = true)\n |    |    |-- Dark Fantasy: long (nullable = true)\n |    |    |-- Dark Humor: long (nullable = true)\n |    |    |-- Dating Sim: long (nullable = true)\n |    |    |-- Deckbuilding: long (nullable = true)\n |    |    |-- Demons: long (nullable = true)\n |    |    |-- Design & Illustration: long (nullable = true)\n |    |    |-- Destruction: long (nullable = true)\n |    |    |-- Detective: long (nullable = true)\n |    |    |-- Difficult: long (nullable = true)\n |    |    |-- Dinosaurs: long (nullable = true)\n |    |    |-- Diplomacy: long (nullable = true)\n |    |    |-- Documentary: long (nullable = true)\n |    |    |-- Dog: long (nullable = true)\n |    |    |-- Dragons: long (nullable = true)\n |    |    |-- Drama: long (nullable = true)\n |    |    |-- Driving: long (nullable = true)\n |    |    |-- Dungeon Crawler: long (nullable = true)\n |    |    |-- Dungeons & Dragons: long (nullable = true)\n |    |    |-- Dynamic Narration: long (nullable = true)\n |    |    |-- Dystopian : long (nullable = true)\n |    |    |-- Early Access: long (nullable = true)\n |    |    |-- Economy: long (nullable = true)\n |    |    |-- Education: long (nullable = true)\n |    |    |-- Electronic: long (nullable = true)\n |    |    |-- Electronic Music: long (nullable = true)\n |    |    |-- Emotional: long (nullable = true)\n |    |    |-- Epic: long (nullable = true)\n |    |    |-- Episodic: long (nullable = true)\n |    |    |-- Escape Room: long (nullable = true)\n |    |    |-- Experience: long (nullable = true)\n |    |    |-- Experimental: long (nullable = true)\n |    |    |-- Exploration: long (nullable = true)\n |    |    |-- FMV: long (nullable = true)\n |    |    |-- FPS: long (nullable = true)\n |    |    |-- Faith: long (nullable = true)\n |    |    |-- Family Friendly: long (nullable = true)\n |    |    |-- Fantasy: long (nullable = true)\n |    |    |-- Farming: long (nullable = true)\n |    |    |-- Farming Sim: long (nullable = true)\n |    |    |-- Fast-Paced: long (nullable = true)\n |    |    |-- Feature Film: long (nullable = true)\n |    |    |-- Female Protagonist: long (nullable = true)\n |    |    |-- Fighting: long (nullable = true)\n |    |    |-- First-Person: long (nullable = true)\n |    |    |-- Fishing: long (nullable = true)\n |    |    |-- Flight: long (nullable = true)\n |    |    |-- Football: long (nullable = true)\n |    |    |-- Foreign: long (nullable = true)\n |    |    |-- Free to Play: long (nullable = true)\n |    |    |-- Funny: long (nullable = true)\n |    |    |-- Futuristic: long (nullable = true)\n |    |    |-- Gambling: long (nullable = true)\n |    |    |-- Game Development: long (nullable = true)\n |    |    |-- GameMaker: long (nullable = true)\n |    |    |-- Games Workshop: long (nullable = true)\n |    |    |-- Gaming: long (nullable = true)\n |    |    |-- God Game: long (nullable = true)\n |    |    |-- Golf: long (nullable = true)\n |    |    |-- Gore: long (nullable = true)\n |    |    |-- Gothic: long (nullable = true)\n |    |    |-- Grand Strategy: long (nullable = true)\n |    |    |-- Great Soundtrack: long (nullable = true)\n |    |    |-- Grid-Based Movement: long (nullable = true)\n |    |    |-- Gun Customization: long (nullable = true)\n |    |    |-- Hack and Slash: long (nullable = true)\n |    |    |-- Hacking: long (nullable = true)\n |    |    |-- Hand-drawn: long (nullable = true)\n |    |    |-- Hardware: long (nullable = true)\n |    |    |-- Heist: long (nullable = true)\n |    |    |-- Hentai: long (nullable = true)\n |    |    |-- Hero Shooter: long (nullable = true)\n |    |    |-- Hex Grid: long (nullable = true)\n |    |    |-- Hidden Object: long (nullable = true)\n |    |    |-- Historical: long (nullable = true)\n |    |    |-- Hockey: long (nullable = true)\n |    |    |-- Horror: long (nullable = true)\n |    |    |-- Horses: long (nullable = true)\n |    |    |-- Hunting: long (nullable = true)\n |    |    |-- Idler: long (nullable = true)\n |    |    |-- Illuminati: long (nullable = true)\n |    |    |-- Immersive: long (nullable = true)\n |    |    |-- Immersive Sim: long (nullable = true)\n |    |    |-- Indie: long (nullable = true)\n |    |    |-- Instrumental Music: long (nullable = true)\n |    |    |-- Intentionally Awkward Controls: long (nullable = true)\n |    |    |-- Interactive Fiction: long (nullable = true)\n |    |    |-- Inventory Management: long (nullable = true)\n |    |    |-- Investigation: long (nullable = true)\n |    |    |-- Isometric: long (nullable = true)\n |    |    |-- JRPG: long (nullable = true)\n |    |    |-- Jet: long (nullable = true)\n |    |    |-- Job Simulator: long (nullable = true)\n |    |    |-- Jump Scare: long (nullable = true)\n |    |    |-- Kickstarter: long (nullable = true)\n |    |    |-- LEGO: long (nullable = true)\n |    |    |-- LGBTQ+: long (nullable = true)\n |    |    |-- Lemmings: long (nullable = true)\n |    |    |-- Level Editor: long (nullable = true)\n |    |    |-- Life Sim: long (nullable = true)\n |    |    |-- Linear: long (nullable = true)\n |    |    |-- Local Co-Op: long (nullable = true)\n |    |    |-- Local Multiplayer: long (nullable = true)\n |    |    |-- Logic: long (nullable = true)\n |    |    |-- Loot: long (nullable = true)\n |    |    |-- Looter Shooter: long (nullable = true)\n |    |    |-- Lore-Rich: long (nullable = true)\n |    |    |-- Lovecraftian: long (nullable = true)\n |    |    |-- MMORPG: long (nullable = true)\n |    |    |-- MOBA: long (nullable = true)\n |    |    |-- Magic: long (nullable = true)\n |    |    |-- Mahjong: long (nullable = true)\n |    |    |-- Management: long (nullable = true)\n |    |    |-- Mars: long (nullable = true)\n |    |    |-- Martial Arts: long (nullable = true)\n |    |    |-- Massively Multiplayer: long (nullable = true)\n |    |    |-- Masterpiece: long (nullable = true)\n |    |    |-- Match 3: long (nullable = true)\n |    |    |-- Mature: long (nullable = true)\n |    |    |-- Mechs: long (nullable = true)\n |    |    |-- Medical Sim: long (nullable = true)\n |    |    |-- Medieval: long (nullable = true)\n |    |    |-- Memes: long (nullable = true)\n |    |    |-- Metroidvania: long (nullable = true)\n |    |    |-- Military: long (nullable = true)\n |    |    |-- Mini Golf: long (nullable = true)\n |    |    |-- Minigames: long (nullable = true)\n |    |    |-- Minimalist: long (nullable = true)\n |    |    |-- Mining: long (nullable = true)\n |    |    |-- Mod: long (nullable = true)\n |    |    |-- Moddable: long (nullable = true)\n |    |    |-- Modern: long (nullable = true)\n |    |    |-- Motocross: long (nullable = true)\n |    |    |-- Motorbike: long (nullable = true)\n |    |    |-- Mouse only: long (nullable = true)\n |    |    |-- Movie: long (nullable = true)\n |    |    |-- Multiplayer: long (nullable = true)\n |    |    |-- Multiple Endings: long (nullable = true)\n |    |    |-- Music: long (nullable = true)\n |    |    |-- Music-Based Procedural Generation: long (nullable = true)\n |    |    |-- Musou: long (nullable = true)\n |    |    |-- Mystery: long (nullable = true)\n |    |    |-- Mystery Dungeon: long (nullable = true)\n |    |    |-- Mythology: long (nullable = true)\n |    |    |-- NSFW: long (nullable = true)\n |    |    |-- Narration: long (nullable = true)\n |    |    |-- Narrative: long (nullable = true)\n |    |    |-- Nature: long (nullable = true)\n |    |    |-- Naval: long (nullable = true)\n |    |    |-- Naval Combat: long (nullable = true)\n |    |    |-- Ninja: long (nullable = true)\n |    |    |-- Noir: long (nullable = true)\n |    |    |-- Nonlinear: long (nullable = true)\n |    |    |-- Nostalgia: long (nullable = true)\n |    |    |-- Nudity: long (nullable = true)\n |    |    |-- Offroad: long (nullable = true)\n |    |    |-- Old School: long (nullable = true)\n |    |    |-- On-Rails Shooter: long (nullable = true)\n |    |    |-- Online Co-Op: long (nullable = true)\n |    |    |-- Open World: long (nullable = true)\n |    |    |-- Open World Survival Craft: long (nullable = true)\n |    |    |-- Otome: long (nullable = true)\n |    |    |-- Outbreak Sim: long (nullable = true)\n |    |    |-- Parkour: long (nullable = true)\n |    |    |-- Parody : long (nullable = true)\n |    |    |-- Party: long (nullable = true)\n |    |    |-- Party Game: long (nullable = true)\n |    |    |-- Party-Based RPG: long (nullable = true)\n |    |    |-- Perma Death: long (nullable = true)\n |    |    |-- Philosophical: long (nullable = true)\n |    |    |-- Photo Editing: long (nullable = true)\n |    |    |-- Physics: long (nullable = true)\n |    |    |-- Pinball: long (nullable = true)\n |    |    |-- Pirates: long (nullable = true)\n |    |    |-- Pixel Graphics: long (nullable = true)\n |    |    |-- Platformer: long (nullable = true)\n |    |    |-- Point & Click: long (nullable = true)\n |    |    |-- Political: long (nullable = true)\n |    |    |-- Political Sim: long (nullable = true)\n |    |    |-- Politics: long (nullable = true)\n |    |    |-- Pool: long (nullable = true)\n |    |    |-- Post-apocalyptic: long (nullable = true)\n |    |    |-- Precision Platformer: long (nullable = true)\n |    |    |-- Procedural Generation: long (nullable = true)\n |    |    |-- Programming: long (nullable = true)\n |    |    |-- Psychedelic: long (nullable = true)\n |    |    |-- Psychological: long (nullable = true)\n |    |    |-- Psychological Horror: long (nullable = true)\n |    |    |-- Puzzle: long (nullable = true)\n |    |    |-- Puzzle-Platformer: long (nullable = true)\n |    |    |-- PvE: long (nullable = true)\n |    |    |-- PvP: long (nullable = true)\n |    |    |-- Quick-Time Events: long (nullable = true)\n |    |    |-- RPG: long (nullable = true)\n |    |    |-- RPGMaker: long (nullable = true)\n |    |    |-- RTS: long (nullable = true)\n |    |    |-- Racing: long (nullable = true)\n |    |    |-- Real Time Tactics: long (nullable = true)\n |    |    |-- Real-Time: long (nullable = true)\n |    |    |-- Real-Time with Pause: long (nullable = true)\n |    |    |-- Realistic: long (nullable = true)\n |    |    |-- Reboot: long (nullable = true)\n |    |    |-- Relaxing: long (nullable = true)\n |    |    |-- Remake: long (nullable = true)\n |    |    |-- Replay Value: long (nullable = true)\n |    |    |-- Resource Management: long (nullable = true)\n |    |    |-- Retro: long (nullable = true)\n |    |    |-- Rhythm: long (nullable = true)\n |    |    |-- Robots: long (nullable = true)\n |    |    |-- Rock Music: long (nullable = true)\n |    |    |-- Rogue-like: long (nullable = true)\n |    |    |-- Rogue-lite: long (nullable = true)\n |    |    |-- Roguelike Deckbuilder: long (nullable = true)\n |    |    |-- Roguevania: long (nullable = true)\n |    |    |-- Romance: long (nullable = true)\n |    |    |-- Rome: long (nullable = true)\n |    |    |-- Rugby: long (nullable = true)\n |    |    |-- Runner: long (nullable = true)\n |    |    |-- Sailing: long (nullable = true)\n |    |    |-- Sandbox: long (nullable = true)\n |    |    |-- Satire: long (nullable = true)\n |    |    |-- Sci-fi: long (nullable = true)\n |    |    |-- Science: long (nullable = true)\n |    |    |-- Score Attack: long (nullable = true)\n |    |    |-- Sequel: long (nullable = true)\n |    |    |-- Sexual Content: long (nullable = true)\n |    |    |-- Shoot 'Em Up: long (nullable = true)\n |    |    |-- Shooter: long (nullable = true)\n |    |    |-- Shop Keeper: long (nullable = true)\n |    |    |-- Short: long (nullable = true)\n |    |    |-- Side Scroller: long (nullable = true)\n |    |    |-- Silent Protagonist: long (nullable = true)\n |    |    |-- Simulation: long (nullable = true)\n |    |    |-- Singleplayer: long (nullable = true)\n |    |    |-- Skateboarding: long (nullable = true)\n |    |    |-- Skating: long (nullable = true)\n |    |    |-- Skiing: long (nullable = true)\n |    |    |-- Sniper: long (nullable = true)\n |    |    |-- Snooker: long (nullable = true)\n |    |    |-- Snow: long (nullable = true)\n |    |    |-- Snowboarding: long (nullable = true)\n |    |    |-- Soccer: long (nullable = true)\n |    |    |-- Social Deduction: long (nullable = true)\n |    |    |-- Software: long (nullable = true)\n |    |    |-- Software Training: long (nullable = true)\n |    |    |-- Sokoban: long (nullable = true)\n |    |    |-- Solitaire: long (nullable = true)\n |    |    |-- Souls-like: long (nullable = true)\n |    |    |-- Soundtrack: long (nullable = true)\n |    |    |-- Space: long (nullable = true)\n |    |    |-- Space Sim: long (nullable = true)\n |    |    |-- Spaceships: long (nullable = true)\n |    |    |-- Spectacle fighter: long (nullable = true)\n |    |    |-- Spelling: long (nullable = true)\n |    |    |-- Split Screen: long (nullable = true)\n |    |    |-- Sports: long (nullable = true)\n |    |    |-- Stealth: long (nullable = true)\n |    |    |-- Steam Machine: long (nullable = true)\n |    |    |-- Steampunk: long (nullable = true)\n |    |    |-- Story Rich: long (nullable = true)\n |    |    |-- Strategy: long (nullable = true)\n |    |    |-- Strategy RPG: long (nullable = true)\n |    |    |-- Stylized: long (nullable = true)\n |    |    |-- Submarine: long (nullable = true)\n |    |    |-- Superhero: long (nullable = true)\n |    |    |-- Supernatural: long (nullable = true)\n |    |    |-- Surreal: long (nullable = true)\n |    |    |-- Survival: long (nullable = true)\n |    |    |-- Survival Horror: long (nullable = true)\n |    |    |-- Swordplay: long (nullable = true)\n |    |    |-- Tabletop: long (nullable = true)\n |    |    |-- Tactical: long (nullable = true)\n |    |    |-- Tactical RPG: long (nullable = true)\n |    |    |-- Tanks: long (nullable = true)\n |    |    |-- Team-Based: long (nullable = true)\n |    |    |-- Tennis: long (nullable = true)\n |    |    |-- Text-Based: long (nullable = true)\n |    |    |-- Third Person: long (nullable = true)\n |    |    |-- Third-Person Shooter: long (nullable = true)\n |    |    |-- Thriller: long (nullable = true)\n |    |    |-- Tile-Matching: long (nullable = true)\n |    |    |-- Time Attack: long (nullable = true)\n |    |    |-- Time Management: long (nullable = true)\n |    |    |-- Time Manipulation: long (nullable = true)\n |    |    |-- Time Travel: long (nullable = true)\n |    |    |-- Top-Down: long (nullable = true)\n |    |    |-- Top-Down Shooter: long (nullable = true)\n |    |    |-- Touch-Friendly: long (nullable = true)\n |    |    |-- Tower Defense: long (nullable = true)\n |    |    |-- TrackIR: long (nullable = true)\n |    |    |-- Trading: long (nullable = true)\n |    |    |-- Trading Card Game: long (nullable = true)\n |    |    |-- Traditional Roguelike: long (nullable = true)\n |    |    |-- Trains: long (nullable = true)\n |    |    |-- Transhumanism: long (nullable = true)\n |    |    |-- Transportation: long (nullable = true)\n |    |    |-- Trivia: long (nullable = true)\n |    |    |-- Turn-Based: long (nullable = true)\n |    |    |-- Turn-Based Combat: long (nullable = true)\n |    |    |-- Turn-Based Strategy: long (nullable = true)\n |    |    |-- Turn-Based Tactics: long (nullable = true)\n |    |    |-- Tutorial: long (nullable = true)\n |    |    |-- Twin Stick Shooter: long (nullable = true)\n |    |    |-- Typing: long (nullable = true)\n |    |    |-- Underground: long (nullable = true)\n |    |    |-- Underwater: long (nullable = true)\n |    |    |-- Unforgiving: long (nullable = true)\n |    |    |-- Utilities: long (nullable = true)\n |    |    |-- VR: long (nullable = true)\n |    |    |-- VR Only: long (nullable = true)\n |    |    |-- Vampire: long (nullable = true)\n |    |    |-- Vehicular Combat: long (nullable = true)\n |    |    |-- Video Production: long (nullable = true)\n |    |    |-- Vikings: long (nullable = true)\n |    |    |-- Villain Protagonist: long (nullable = true)\n |    |    |-- Violent: long (nullable = true)\n |    |    |-- Visual Novel: long (nullable = true)\n |    |    |-- Voice Control: long (nullable = true)\n |    |    |-- Volleyball: long (nullable = true)\n |    |    |-- Voxel: long (nullable = true)\n |    |    |-- Walking Simulator: long (nullable = true)\n |    |    |-- War: long (nullable = true)\n |    |    |-- Wargame: long (nullable = true)\n |    |    |-- Warhammer 40K: long (nullable = true)\n |    |    |-- Web Publishing: long (nullable = true)\n |    |    |-- Well-Written: long (nullable = true)\n |    |    |-- Werewolves: long (nullable = true)\n |    |    |-- Western: long (nullable = true)\n |    |    |-- Wholesome: long (nullable = true)\n |    |    |-- Word Game: long (nullable = true)\n |    |    |-- World War I: long (nullable = true)\n |    |    |-- World War II: long (nullable = true)\n |    |    |-- Wrestling: long (nullable = true)\n |    |    |-- Zombies: long (nullable = true)\n |    |    |-- e-sports: long (nullable = true)\n |    |-- type: string (nullable = true)\n |    |-- website: string (nullable = true)\n |-- id: string (nullable = true)\n |-- genre: string (nullable = true)\n |-- publisher: string (nullable = true)\n |-- platforms: struct (nullable = true)\n |    |-- linux: boolean (nullable = true)\n |    |-- mac: boolean (nullable = true)\n |    |-- windows: boolean (nullable = true)\n |-- positive: long (nullable = true)\n |-- negative: long (nullable = true)\n |-- categories: array (nullable = true)\n |    |-- element: string (containsNull = true)\n |-- name: string (nullable = true)\n |-- developer: string (nullable = true)\n |-- discount: string (nullable = true)\n |-- initialprice: string (nullable = true)\n |-- ccu: long (nullable = true)\n |-- release_date: string (nullable = true)\n |-- languages: string (nullable = true)\n |-- required_age: string (nullable = true)\n |-- price: integer (nullable = true)\n |-- promo: integer (nullable = true)\n\n"
     ]
    }
   ],
   "source": [
    "# Utilisez la fonction cast() pour convertir la colonne string en INTEGER\n",
    "dfint1 = dfint.withColumn(\"promo\", col(\"discount\").cast(\"INTEGER\"))\n",
    "\n",
    "# Afficher le DataFrame résultant\n",
    "dfint1.show()\n",
    "\n",
    "dfint1.printSchema()"
   ]
  },
  {
   "cell_type": "code",
   "execution_count": 0,
   "metadata": {
    "application/vnd.databricks.v1+cell": {
     "cellMetadata": {
      "byteLimit": 2048000,
      "rowLimit": 10000
     },
     "inputWidgets": {},
     "nuid": "2c61c9b3-2825-41b8-90c2-6b6ffa05542e",
     "showTitle": false,
     "title": ""
    }
   },
   "outputs": [
    {
     "output_type": "stream",
     "name": "stdout",
     "output_type": "stream",
     "text": [
      "+--------------------+-------+--------------------+----------------------------+--------------------+--------+--------+--------------------+------------------------------------+----------------------------+--------+------------+-----+------------+--------------------+------------+-----+-----+----+\n|                data|     id|               genre|                   publisher|           platforms|positive|negative|          categories|                                name|                   developer|discount|initialprice|  ccu|release_date|           languages|required_age|price|promo|pegi|\n+--------------------+-------+--------------------+----------------------------+--------------------+--------+--------+--------------------+------------------------------------+----------------------------+--------+------------+-----+------------+--------------------+------------+-----+-----+----+\n|{10, [Multi-playe...|     10|              Action|                       Valve|  {true, true, true}|  201215|    5199|[Multi-player, Va...|                      Counter-Strike|                       Valve|       0|         999|13990|   2000/11/1|English, French, ...|           0|  999|    0|   0|\n|{1000000, [Single...|1000000|Action, Adventure...|        PsychoFlux Entert...|{false, false, true}|      27|       5|[Single-player, P...|                           ASCENXION|        IndigoBlue Game S...|       0|         999|    0|  2021/05/14|English, Korean, ...|           0|  999|    0|   0|\n|{1000010, [Single...|1000010|Adventure, Indie,...|        Team17, NEXT Studios|{false, false, true}|    4032|     646|[Single-player, P...|                         Crown Trick|                NEXT Studios|      70|        1999|   99|  2020/10/16|Simplified Chines...|           0| 1999|   70|   0|\n|{1000030, [Multi-...|1000030|Action, Indie, Si...|         Vertigo Gaming Inc.| {false, true, true}|    1575|     115|[Multi-player, Si...|                Cook, Serve, Deli...|         Vertigo Gaming Inc.|       0|        1999|   76|  2020/10/14|             English|           0| 1999|    0|   0|\n|{1000040, [Single...|1000040|Action, Casual, I...|               DoubleC Games|{false, false, true}|       0|       1|     [Single-player]|                            细胞战争|               DoubleC Games|       0|         199|    0|  2019/03/30|  Simplified Chinese|           0|  199|    0|   0|\n|{1000080, [Multi-...|1000080|Action, Adventure...|                    2P Games| {false, true, true}|    1018|     462|[Multi-player, Si...|                             Zengeon|          IndieLeague Studio|      60|        1999|    3|  2019/06/24|Simplified Chines...|           0| 1999|   60|   0|\n|{1000100, [Single...|1000100|Adventure, Indie,...|             Starship Studio|{false, false, true}|      18|       6|[Single-player, S...|干支セトラ　陽ノ卷｜干支etc.　陽之卷|                    七月九日|       0|        1299|    0|  2019/01/24|Japanese, Simplif...|           0| 1299|    0|   0|\n|{1000110, [Multi-...|1000110|Action, Adventure...|          重庆环游者网络科技|{false, false, true}|      50|      34|[Multi-player, Si...|            Jumping Master(跳跳大咖)|          重庆环游者网络科技|       0|           0|    0|   2019/04/8|English, Simplifi...|           0|    0|    0|   0|\n|{1000130, [Single...|1000130|       Casual, Indie|            Simon Codrington| {false, true, true}|       6|       0|[Single-player, S...|                       Cube Defender|            Simon Codrington|       0|         299|    0|   2019/01/6|             English|           0|  299|    0|   0|\n|{1000280, [Single...|1000280|          Indie, RPG|                Villain Role|{false, false, true}|      32|      12|     [Single-player]|                Tower of Origin2-...|                Villain Role|       0|        1399|    0|   2021/09/9|English, Simplifi...|           0| 1399|    0|   0|\n|{1000310, [Multi-...|1000310|Action, RPG, Stra...|海南众铖互娱网络科技有限公司|{false, false, true}|       1|       5|[Multi-player, Si...|                      人气动漫大乱斗|海南众铖互娱网络科技有限公司|       0|          99|    0|  2019/12/17|  Simplified Chinese|           0|   99|    0|   0|\n|{1000360, [Multi-...|1000360|Action, Early Access|                      Kubold|{false, false, true}|    4031|     315|[Multi-player, Si...|                       Hellish Quart|                      Kubold|       0|        1699|   59|  2021/02/16|English, Simplifi...|           0| 1699|    0|   0|\n|{1000370, [Single...|1000370|               Indie|                 LFiO Studio|{false, false, true}|       0|       1|     [Single-player]|                      SurReal Subway|                 LFiO Studio|       0|           0|    0|   2019/01/3|             English|           0|    0|    0|   0|\n|{1000380, [Single...|1000380|Action, Adventure...|            Fireroot Studios|{false, false, true}|     309|      87|[Single-player, S...|                        Rogue Reaper|            Fireroot Studios|       0|           0|    0|   2019/02/1|             English|           0|    0|    0|   0|\n|{1000410, [Single...|1000410|Action, Early Access|        3D Realms, Fulqru...|{false, false, true}|    1212|     328|     [Single-player]|                 WRATH: Aeon of Ruin|                   KillPixel|       0|        2499|    6|  2019/11/22|             English|           0| 2499|    0|   0|\n|{1000470, [Single...|1000470|Adventure, Indie,...|                DarkDes Labs|{false, false, true}|      55|      13|[Single-player, S...|                Drawngeon: Dungeo...|                DarkDes Labs|       0|         499|    0|  2019/05/24|English, Russian,...|           0|  499|    0|   0|\n|{1000480, [Single...|1000480|Action, Indie, RP...|                Meadow Games|  {true, true, true}|       9|       6|     [Single-player]|                       Battle Motion|                Meadow Games|       0|         999|    0|   2019/02/4|             English|           0|  999|    0|   0|\n|{1000500, [Multi-...|1000500|Action, Casual, I...|                    Amonga99|  {true, true, true}|       9|       3|[Multi-player, Si...|                The Undisputables...|                    Amonga99|       0|         699|    0|   2021/12/5|English, French, ...|           0|  699|    0|   0|\n|{1000510, [], 0, ...|1000510|           Education|            1337 Game Design|{false, false, true}|     104|      21|                  []|                The Marvellous Ma...|            1337 Game Design|       0|           0|    0|  2019/02/11|             English|           0|    0|    0|   0|\n|{1000540, [Multi-...|1000540|Casual, Free to P...|              Hellride Games|{false, false, true}|      53|      12|[Multi-player, St...|                    Tactical Control|              Hellride Games|       0|           0|    0|  2019/03/21|             English|           0|    0|    0|   0|\n+--------------------+-------+--------------------+----------------------------+--------------------+--------+--------+--------------------+------------------------------------+----------------------------+--------+------------+-----+------------+--------------------+------------+-----+-----+----+\nonly showing top 20 rows\n\nroot\n |-- data: struct (nullable = true)\n |    |-- appid: long (nullable = true)\n |    |-- categories: array (nullable = true)\n |    |    |-- element: string (containsNull = true)\n |    |-- ccu: long (nullable = true)\n |    |-- developer: string (nullable = true)\n |    |-- discount: string (nullable = true)\n |    |-- genre: string (nullable = true)\n |    |-- header_image: string (nullable = true)\n |    |-- initialprice: string (nullable = true)\n |    |-- languages: string (nullable = true)\n |    |-- name: string (nullable = true)\n |    |-- negative: long (nullable = true)\n |    |-- owners: string (nullable = true)\n |    |-- platforms: struct (nullable = true)\n |    |    |-- linux: boolean (nullable = true)\n |    |    |-- mac: boolean (nullable = true)\n |    |    |-- windows: boolean (nullable = true)\n |    |-- positive: long (nullable = true)\n |    |-- price: string (nullable = true)\n |    |-- publisher: string (nullable = true)\n |    |-- release_date: string (nullable = true)\n |    |-- required_age: string (nullable = true)\n |    |-- short_description: string (nullable = true)\n |    |-- tags: struct (nullable = true)\n |    |    |-- 1980s: long (nullable = true)\n |    |    |-- 1990's: long (nullable = true)\n |    |    |-- 2.5D: long (nullable = true)\n |    |    |-- 2D: long (nullable = true)\n |    |    |-- 2D Fighter: long (nullable = true)\n |    |    |-- 2D Platformer: long (nullable = true)\n |    |    |-- 360 Video: long (nullable = true)\n |    |    |-- 3D: long (nullable = true)\n |    |    |-- 3D Fighter: long (nullable = true)\n |    |    |-- 3D Platformer: long (nullable = true)\n |    |    |-- 3D Vision: long (nullable = true)\n |    |    |-- 4 Player Local: long (nullable = true)\n |    |    |-- 4X: long (nullable = true)\n |    |    |-- 6DOF: long (nullable = true)\n |    |    |-- 8-bit Music: long (nullable = true)\n |    |    |-- ATV: long (nullable = true)\n |    |    |-- Abstract: long (nullable = true)\n |    |    |-- Action: long (nullable = true)\n |    |    |-- Action RPG: long (nullable = true)\n |    |    |-- Action RTS: long (nullable = true)\n |    |    |-- Action Roguelike: long (nullable = true)\n |    |    |-- Action-Adventure: long (nullable = true)\n |    |    |-- Addictive: long (nullable = true)\n |    |    |-- Adventure: long (nullable = true)\n |    |    |-- Agriculture: long (nullable = true)\n |    |    |-- Aliens: long (nullable = true)\n |    |    |-- Alternate History: long (nullable = true)\n |    |    |-- Ambient: long (nullable = true)\n |    |    |-- America: long (nullable = true)\n |    |    |-- Animation & Modeling: long (nullable = true)\n |    |    |-- Anime: long (nullable = true)\n |    |    |-- Arcade: long (nullable = true)\n |    |    |-- Archery: long (nullable = true)\n |    |    |-- Arena Shooter: long (nullable = true)\n |    |    |-- Artificial Intelligence: long (nullable = true)\n |    |    |-- Assassin: long (nullable = true)\n |    |    |-- Asymmetric VR: long (nullable = true)\n |    |    |-- Asynchronous Multiplayer: long (nullable = true)\n |    |    |-- Atmospheric: long (nullable = true)\n |    |    |-- Audio Production: long (nullable = true)\n |    |    |-- Auto Battler: long (nullable = true)\n |    |    |-- Automation: long (nullable = true)\n |    |    |-- Automobile Sim: long (nullable = true)\n |    |    |-- BMX: long (nullable = true)\n |    |    |-- Base-Building: long (nullable = true)\n |    |    |-- Baseball: long (nullable = true)\n |    |    |-- Based On A Novel: long (nullable = true)\n |    |    |-- Basketball: long (nullable = true)\n |    |    |-- Battle Royale: long (nullable = true)\n |    |    |-- Beat 'em up: long (nullable = true)\n |    |    |-- Beautiful: long (nullable = true)\n |    |    |-- Benchmark: long (nullable = true)\n |    |    |-- Bikes: long (nullable = true)\n |    |    |-- Blood: long (nullable = true)\n |    |    |-- Board Game: long (nullable = true)\n |    |    |-- Boss Rush: long (nullable = true)\n |    |    |-- Bowling: long (nullable = true)\n |    |    |-- Boxing: long (nullable = true)\n |    |    |-- Building: long (nullable = true)\n |    |    |-- Bullet Hell: long (nullable = true)\n |    |    |-- Bullet Time: long (nullable = true)\n |    |    |-- CRPG: long (nullable = true)\n |    |    |-- Capitalism: long (nullable = true)\n |    |    |-- Card Battler: long (nullable = true)\n |    |    |-- Card Game: long (nullable = true)\n |    |    |-- Cartoon: long (nullable = true)\n |    |    |-- Cartoony: long (nullable = true)\n |    |    |-- Casual: long (nullable = true)\n |    |    |-- Cats: long (nullable = true)\n |    |    |-- Character Action Game: long (nullable = true)\n |    |    |-- Character Customization: long (nullable = true)\n |    |    |-- Chess: long (nullable = true)\n |    |    |-- Choices Matter: long (nullable = true)\n |    |    |-- Choose Your Own Adventure: long (nullable = true)\n |    |    |-- Cinematic: long (nullable = true)\n |    |    |-- City Builder: long (nullable = true)\n |    |    |-- Class-Based: long (nullable = true)\n |    |    |-- Classic: long (nullable = true)\n |    |    |-- Clicker: long (nullable = true)\n |    |    |-- Co-op: long (nullable = true)\n |    |    |-- Co-op Campaign: long (nullable = true)\n |    |    |-- Coding: long (nullable = true)\n |    |    |-- Cold War: long (nullable = true)\n |    |    |-- Collectathon: long (nullable = true)\n |    |    |-- Colony Sim: long (nullable = true)\n |    |    |-- Colorful: long (nullable = true)\n |    |    |-- Combat: long (nullable = true)\n |    |    |-- Combat Racing: long (nullable = true)\n |    |    |-- Comedy: long (nullable = true)\n |    |    |-- Comic Book: long (nullable = true)\n |    |    |-- Competitive: long (nullable = true)\n |    |    |-- Conspiracy: long (nullable = true)\n |    |    |-- Controller: long (nullable = true)\n |    |    |-- Conversation: long (nullable = true)\n |    |    |-- Cooking: long (nullable = true)\n |    |    |-- Cozy: long (nullable = true)\n |    |    |-- Crafting: long (nullable = true)\n |    |    |-- Creature Collector: long (nullable = true)\n |    |    |-- Cricket: long (nullable = true)\n |    |    |-- Crime: long (nullable = true)\n |    |    |-- Crowdfunded: long (nullable = true)\n |    |    |-- Cult Classic: long (nullable = true)\n |    |    |-- Cute: long (nullable = true)\n |    |    |-- Cyberpunk: long (nullable = true)\n |    |    |-- Cycling: long (nullable = true)\n |    |    |-- Dark: long (nullable = true)\n |    |    |-- Dark Comedy: long (nullable = true)\n |    |    |-- Dark Fantasy: long (nullable = true)\n |    |    |-- Dark Humor: long (nullable = true)\n |    |    |-- Dating Sim: long (nullable = true)\n |    |    |-- Deckbuilding: long (nullable = true)\n |    |    |-- Demons: long (nullable = true)\n |    |    |-- Design & Illustration: long (nullable = true)\n |    |    |-- Destruction: long (nullable = true)\n |    |    |-- Detective: long (nullable = true)\n |    |    |-- Difficult: long (nullable = true)\n |    |    |-- Dinosaurs: long (nullable = true)\n |    |    |-- Diplomacy: long (nullable = true)\n |    |    |-- Documentary: long (nullable = true)\n |    |    |-- Dog: long (nullable = true)\n |    |    |-- Dragons: long (nullable = true)\n |    |    |-- Drama: long (nullable = true)\n |    |    |-- Driving: long (nullable = true)\n |    |    |-- Dungeon Crawler: long (nullable = true)\n |    |    |-- Dungeons & Dragons: long (nullable = true)\n |    |    |-- Dynamic Narration: long (nullable = true)\n |    |    |-- Dystopian : long (nullable = true)\n |    |    |-- Early Access: long (nullable = true)\n |    |    |-- Economy: long (nullable = true)\n |    |    |-- Education: long (nullable = true)\n |    |    |-- Electronic: long (nullable = true)\n |    |    |-- Electronic Music: long (nullable = true)\n |    |    |-- Emotional: long (nullable = true)\n |    |    |-- Epic: long (nullable = true)\n |    |    |-- Episodic: long (nullable = true)\n |    |    |-- Escape Room: long (nullable = true)\n |    |    |-- Experience: long (nullable = true)\n |    |    |-- Experimental: long (nullable = true)\n |    |    |-- Exploration: long (nullable = true)\n |    |    |-- FMV: long (nullable = true)\n |    |    |-- FPS: long (nullable = true)\n |    |    |-- Faith: long (nullable = true)\n |    |    |-- Family Friendly: long (nullable = true)\n |    |    |-- Fantasy: long (nullable = true)\n |    |    |-- Farming: long (nullable = true)\n |    |    |-- Farming Sim: long (nullable = true)\n |    |    |-- Fast-Paced: long (nullable = true)\n |    |    |-- Feature Film: long (nullable = true)\n |    |    |-- Female Protagonist: long (nullable = true)\n |    |    |-- Fighting: long (nullable = true)\n |    |    |-- First-Person: long (nullable = true)\n |    |    |-- Fishing: long (nullable = true)\n |    |    |-- Flight: long (nullable = true)\n |    |    |-- Football: long (nullable = true)\n |    |    |-- Foreign: long (nullable = true)\n |    |    |-- Free to Play: long (nullable = true)\n |    |    |-- Funny: long (nullable = true)\n |    |    |-- Futuristic: long (nullable = true)\n |    |    |-- Gambling: long (nullable = true)\n |    |    |-- Game Development: long (nullable = true)\n |    |    |-- GameMaker: long (nullable = true)\n |    |    |-- Games Workshop: long (nullable = true)\n |    |    |-- Gaming: long (nullable = true)\n |    |    |-- God Game: long (nullable = true)\n |    |    |-- Golf: long (nullable = true)\n |    |    |-- Gore: long (nullable = true)\n |    |    |-- Gothic: long (nullable = true)\n |    |    |-- Grand Strategy: long (nullable = true)\n |    |    |-- Great Soundtrack: long (nullable = true)\n |    |    |-- Grid-Based Movement: long (nullable = true)\n |    |    |-- Gun Customization: long (nullable = true)\n |    |    |-- Hack and Slash: long (nullable = true)\n |    |    |-- Hacking: long (nullable = true)\n |    |    |-- Hand-drawn: long (nullable = true)\n |    |    |-- Hardware: long (nullable = true)\n |    |    |-- Heist: long (nullable = true)\n |    |    |-- Hentai: long (nullable = true)\n |    |    |-- Hero Shooter: long (nullable = true)\n |    |    |-- Hex Grid: long (nullable = true)\n |    |    |-- Hidden Object: long (nullable = true)\n |    |    |-- Historical: long (nullable = true)\n |    |    |-- Hockey: long (nullable = true)\n |    |    |-- Horror: long (nullable = true)\n |    |    |-- Horses: long (nullable = true)\n |    |    |-- Hunting: long (nullable = true)\n |    |    |-- Idler: long (nullable = true)\n |    |    |-- Illuminati: long (nullable = true)\n |    |    |-- Immersive: long (nullable = true)\n |    |    |-- Immersive Sim: long (nullable = true)\n |    |    |-- Indie: long (nullable = true)\n |    |    |-- Instrumental Music: long (nullable = true)\n |    |    |-- Intentionally Awkward Controls: long (nullable = true)\n |    |    |-- Interactive Fiction: long (nullable = true)\n |    |    |-- Inventory Management: long (nullable = true)\n |    |    |-- Investigation: long (nullable = true)\n |    |    |-- Isometric: long (nullable = true)\n |    |    |-- JRPG: long (nullable = true)\n |    |    |-- Jet: long (nullable = true)\n |    |    |-- Job Simulator: long (nullable = true)\n |    |    |-- Jump Scare: long (nullable = true)\n |    |    |-- Kickstarter: long (nullable = true)\n |    |    |-- LEGO: long (nullable = true)\n |    |    |-- LGBTQ+: long (nullable = true)\n |    |    |-- Lemmings: long (nullable = true)\n |    |    |-- Level Editor: long (nullable = true)\n |    |    |-- Life Sim: long (nullable = true)\n |    |    |-- Linear: long (nullable = true)\n |    |    |-- Local Co-Op: long (nullable = true)\n |    |    |-- Local Multiplayer: long (nullable = true)\n |    |    |-- Logic: long (nullable = true)\n |    |    |-- Loot: long (nullable = true)\n |    |    |-- Looter Shooter: long (nullable = true)\n |    |    |-- Lore-Rich: long (nullable = true)\n |    |    |-- Lovecraftian: long (nullable = true)\n |    |    |-- MMORPG: long (nullable = true)\n |    |    |-- MOBA: long (nullable = true)\n |    |    |-- Magic: long (nullable = true)\n |    |    |-- Mahjong: long (nullable = true)\n |    |    |-- Management: long (nullable = true)\n |    |    |-- Mars: long (nullable = true)\n |    |    |-- Martial Arts: long (nullable = true)\n |    |    |-- Massively Multiplayer: long (nullable = true)\n |    |    |-- Masterpiece: long (nullable = true)\n |    |    |-- Match 3: long (nullable = true)\n |    |    |-- Mature: long (nullable = true)\n |    |    |-- Mechs: long (nullable = true)\n |    |    |-- Medical Sim: long (nullable = true)\n |    |    |-- Medieval: long (nullable = true)\n |    |    |-- Memes: long (nullable = true)\n |    |    |-- Metroidvania: long (nullable = true)\n |    |    |-- Military: long (nullable = true)\n |    |    |-- Mini Golf: long (nullable = true)\n |    |    |-- Minigames: long (nullable = true)\n |    |    |-- Minimalist: long (nullable = true)\n |    |    |-- Mining: long (nullable = true)\n |    |    |-- Mod: long (nullable = true)\n |    |    |-- Moddable: long (nullable = true)\n |    |    |-- Modern: long (nullable = true)\n |    |    |-- Motocross: long (nullable = true)\n |    |    |-- Motorbike: long (nullable = true)\n |    |    |-- Mouse only: long (nullable = true)\n |    |    |-- Movie: long (nullable = true)\n |    |    |-- Multiplayer: long (nullable = true)\n |    |    |-- Multiple Endings: long (nullable = true)\n |    |    |-- Music: long (nullable = true)\n |    |    |-- Music-Based Procedural Generation: long (nullable = true)\n |    |    |-- Musou: long (nullable = true)\n |    |    |-- Mystery: long (nullable = true)\n |    |    |-- Mystery Dungeon: long (nullable = true)\n |    |    |-- Mythology: long (nullable = true)\n |    |    |-- NSFW: long (nullable = true)\n |    |    |-- Narration: long (nullable = true)\n |    |    |-- Narrative: long (nullable = true)\n |    |    |-- Nature: long (nullable = true)\n |    |    |-- Naval: long (nullable = true)\n |    |    |-- Naval Combat: long (nullable = true)\n |    |    |-- Ninja: long (nullable = true)\n |    |    |-- Noir: long (nullable = true)\n |    |    |-- Nonlinear: long (nullable = true)\n |    |    |-- Nostalgia: long (nullable = true)\n |    |    |-- Nudity: long (nullable = true)\n |    |    |-- Offroad: long (nullable = true)\n |    |    |-- Old School: long (nullable = true)\n |    |    |-- On-Rails Shooter: long (nullable = true)\n |    |    |-- Online Co-Op: long (nullable = true)\n |    |    |-- Open World: long (nullable = true)\n |    |    |-- Open World Survival Craft: long (nullable = true)\n |    |    |-- Otome: long (nullable = true)\n |    |    |-- Outbreak Sim: long (nullable = true)\n |    |    |-- Parkour: long (nullable = true)\n |    |    |-- Parody : long (nullable = true)\n |    |    |-- Party: long (nullable = true)\n |    |    |-- Party Game: long (nullable = true)\n |    |    |-- Party-Based RPG: long (nullable = true)\n |    |    |-- Perma Death: long (nullable = true)\n |    |    |-- Philosophical: long (nullable = true)\n |    |    |-- Photo Editing: long (nullable = true)\n |    |    |-- Physics: long (nullable = true)\n |    |    |-- Pinball: long (nullable = true)\n |    |    |-- Pirates: long (nullable = true)\n |    |    |-- Pixel Graphics: long (nullable = true)\n |    |    |-- Platformer: long (nullable = true)\n |    |    |-- Point & Click: long (nullable = true)\n |    |    |-- Political: long (nullable = true)\n |    |    |-- Political Sim: long (nullable = true)\n |    |    |-- Politics: long (nullable = true)\n |    |    |-- Pool: long (nullable = true)\n |    |    |-- Post-apocalyptic: long (nullable = true)\n |    |    |-- Precision Platformer: long (nullable = true)\n |    |    |-- Procedural Generation: long (nullable = true)\n |    |    |-- Programming: long (nullable = true)\n |    |    |-- Psychedelic: long (nullable = true)\n |    |    |-- Psychological: long (nullable = true)\n |    |    |-- Psychological Horror: long (nullable = true)\n |    |    |-- Puzzle: long (nullable = true)\n |    |    |-- Puzzle-Platformer: long (nullable = true)\n |    |    |-- PvE: long (nullable = true)\n |    |    |-- PvP: long (nullable = true)\n |    |    |-- Quick-Time Events: long (nullable = true)\n |    |    |-- RPG: long (nullable = true)\n |    |    |-- RPGMaker: long (nullable = true)\n |    |    |-- RTS: long (nullable = true)\n |    |    |-- Racing: long (nullable = true)\n |    |    |-- Real Time Tactics: long (nullable = true)\n |    |    |-- Real-Time: long (nullable = true)\n |    |    |-- Real-Time with Pause: long (nullable = true)\n |    |    |-- Realistic: long (nullable = true)\n |    |    |-- Reboot: long (nullable = true)\n |    |    |-- Relaxing: long (nullable = true)\n |    |    |-- Remake: long (nullable = true)\n |    |    |-- Replay Value: long (nullable = true)\n |    |    |-- Resource Management: long (nullable = true)\n |    |    |-- Retro: long (nullable = true)\n |    |    |-- Rhythm: long (nullable = true)\n |    |    |-- Robots: long (nullable = true)\n |    |    |-- Rock Music: long (nullable = true)\n |    |    |-- Rogue-like: long (nullable = true)\n |    |    |-- Rogue-lite: long (nullable = true)\n |    |    |-- Roguelike Deckbuilder: long (nullable = true)\n |    |    |-- Roguevania: long (nullable = true)\n |    |    |-- Romance: long (nullable = true)\n |    |    |-- Rome: long (nullable = true)\n |    |    |-- Rugby: long (nullable = true)\n |    |    |-- Runner: long (nullable = true)\n |    |    |-- Sailing: long (nullable = true)\n |    |    |-- Sandbox: long (nullable = true)\n |    |    |-- Satire: long (nullable = true)\n |    |    |-- Sci-fi: long (nullable = true)\n |    |    |-- Science: long (nullable = true)\n |    |    |-- Score Attack: long (nullable = true)\n |    |    |-- Sequel: long (nullable = true)\n |    |    |-- Sexual Content: long (nullable = true)\n |    |    |-- Shoot 'Em Up: long (nullable = true)\n |    |    |-- Shooter: long (nullable = true)\n |    |    |-- Shop Keeper: long (nullable = true)\n |    |    |-- Short: long (nullable = true)\n |    |    |-- Side Scroller: long (nullable = true)\n |    |    |-- Silent Protagonist: long (nullable = true)\n |    |    |-- Simulation: long (nullable = true)\n |    |    |-- Singleplayer: long (nullable = true)\n |    |    |-- Skateboarding: long (nullable = true)\n |    |    |-- Skating: long (nullable = true)\n |    |    |-- Skiing: long (nullable = true)\n |    |    |-- Sniper: long (nullable = true)\n |    |    |-- Snooker: long (nullable = true)\n |    |    |-- Snow: long (nullable = true)\n |    |    |-- Snowboarding: long (nullable = true)\n |    |    |-- Soccer: long (nullable = true)\n |    |    |-- Social Deduction: long (nullable = true)\n |    |    |-- Software: long (nullable = true)\n |    |    |-- Software Training: long (nullable = true)\n |    |    |-- Sokoban: long (nullable = true)\n |    |    |-- Solitaire: long (nullable = true)\n |    |    |-- Souls-like: long (nullable = true)\n |    |    |-- Soundtrack: long (nullable = true)\n |    |    |-- Space: long (nullable = true)\n |    |    |-- Space Sim: long (nullable = true)\n |    |    |-- Spaceships: long (nullable = true)\n |    |    |-- Spectacle fighter: long (nullable = true)\n |    |    |-- Spelling: long (nullable = true)\n |    |    |-- Split Screen: long (nullable = true)\n |    |    |-- Sports: long (nullable = true)\n |    |    |-- Stealth: long (nullable = true)\n |    |    |-- Steam Machine: long (nullable = true)\n |    |    |-- Steampunk: long (nullable = true)\n |    |    |-- Story Rich: long (nullable = true)\n |    |    |-- Strategy: long (nullable = true)\n |    |    |-- Strategy RPG: long (nullable = true)\n |    |    |-- Stylized: long (nullable = true)\n |    |    |-- Submarine: long (nullable = true)\n |    |    |-- Superhero: long (nullable = true)\n |    |    |-- Supernatural: long (nullable = true)\n |    |    |-- Surreal: long (nullable = true)\n |    |    |-- Survival: long (nullable = true)\n |    |    |-- Survival Horror: long (nullable = true)\n |    |    |-- Swordplay: long (nullable = true)\n |    |    |-- Tabletop: long (nullable = true)\n |    |    |-- Tactical: long (nullable = true)\n |    |    |-- Tactical RPG: long (nullable = true)\n |    |    |-- Tanks: long (nullable = true)\n |    |    |-- Team-Based: long (nullable = true)\n |    |    |-- Tennis: long (nullable = true)\n |    |    |-- Text-Based: long (nullable = true)\n |    |    |-- Third Person: long (nullable = true)\n |    |    |-- Third-Person Shooter: long (nullable = true)\n |    |    |-- Thriller: long (nullable = true)\n |    |    |-- Tile-Matching: long (nullable = true)\n |    |    |-- Time Attack: long (nullable = true)\n |    |    |-- Time Management: long (nullable = true)\n |    |    |-- Time Manipulation: long (nullable = true)\n |    |    |-- Time Travel: long (nullable = true)\n |    |    |-- Top-Down: long (nullable = true)\n |    |    |-- Top-Down Shooter: long (nullable = true)\n |    |    |-- Touch-Friendly: long (nullable = true)\n |    |    |-- Tower Defense: long (nullable = true)\n |    |    |-- TrackIR: long (nullable = true)\n |    |    |-- Trading: long (nullable = true)\n |    |    |-- Trading Card Game: long (nullable = true)\n |    |    |-- Traditional Roguelike: long (nullable = true)\n |    |    |-- Trains: long (nullable = true)\n |    |    |-- Transhumanism: long (nullable = true)\n |    |    |-- Transportation: long (nullable = true)\n |    |    |-- Trivia: long (nullable = true)\n |    |    |-- Turn-Based: long (nullable = true)\n |    |    |-- Turn-Based Combat: long (nullable = true)\n |    |    |-- Turn-Based Strategy: long (nullable = true)\n |    |    |-- Turn-Based Tactics: long (nullable = true)\n |    |    |-- Tutorial: long (nullable = true)\n |    |    |-- Twin Stick Shooter: long (nullable = true)\n |    |    |-- Typing: long (nullable = true)\n |    |    |-- Underground: long (nullable = true)\n |    |    |-- Underwater: long (nullable = true)\n |    |    |-- Unforgiving: long (nullable = true)\n |    |    |-- Utilities: long (nullable = true)\n |    |    |-- VR: long (nullable = true)\n |    |    |-- VR Only: long (nullable = true)\n |    |    |-- Vampire: long (nullable = true)\n |    |    |-- Vehicular Combat: long (nullable = true)\n |    |    |-- Video Production: long (nullable = true)\n |    |    |-- Vikings: long (nullable = true)\n |    |    |-- Villain Protagonist: long (nullable = true)\n |    |    |-- Violent: long (nullable = true)\n |    |    |-- Visual Novel: long (nullable = true)\n |    |    |-- Voice Control: long (nullable = true)\n |    |    |-- Volleyball: long (nullable = true)\n |    |    |-- Voxel: long (nullable = true)\n |    |    |-- Walking Simulator: long (nullable = true)\n |    |    |-- War: long (nullable = true)\n |    |    |-- Wargame: long (nullable = true)\n |    |    |-- Warhammer 40K: long (nullable = true)\n |    |    |-- Web Publishing: long (nullable = true)\n |    |    |-- Well-Written: long (nullable = true)\n |    |    |-- Werewolves: long (nullable = true)\n |    |    |-- Western: long (nullable = true)\n |    |    |-- Wholesome: long (nullable = true)\n |    |    |-- Word Game: long (nullable = true)\n |    |    |-- World War I: long (nullable = true)\n |    |    |-- World War II: long (nullable = true)\n |    |    |-- Wrestling: long (nullable = true)\n |    |    |-- Zombies: long (nullable = true)\n |    |    |-- e-sports: long (nullable = true)\n |    |-- type: string (nullable = true)\n |    |-- website: string (nullable = true)\n |-- id: string (nullable = true)\n |-- genre: string (nullable = true)\n |-- publisher: string (nullable = true)\n |-- platforms: struct (nullable = true)\n |    |-- linux: boolean (nullable = true)\n |    |-- mac: boolean (nullable = true)\n |    |-- windows: boolean (nullable = true)\n |-- positive: long (nullable = true)\n |-- negative: long (nullable = true)\n |-- categories: array (nullable = true)\n |    |-- element: string (containsNull = true)\n |-- name: string (nullable = true)\n |-- developer: string (nullable = true)\n |-- discount: string (nullable = true)\n |-- initialprice: string (nullable = true)\n |-- ccu: long (nullable = true)\n |-- release_date: string (nullable = true)\n |-- languages: string (nullable = true)\n |-- required_age: string (nullable = true)\n |-- price: integer (nullable = true)\n |-- promo: integer (nullable = true)\n |-- pegi: integer (nullable = true)\n\n"
     ]
    }
   ],
   "source": [
    "# Utilisez la fonction cast() pour convertir la colonne string en INTEGER\n",
    "dfint2 = dfint1.withColumn(\"pegi\", col(\"required_age\").cast(\"INTEGER\"))\n",
    "\n",
    "# Afficher le DataFrame résultant\n",
    "dfint2.show()\n",
    "\n",
    "dfint2.printSchema()"
   ]
  },
  {
   "cell_type": "code",
   "execution_count": 0,
   "metadata": {
    "application/vnd.databricks.v1+cell": {
     "cellMetadata": {
      "byteLimit": 2048000,
      "rowLimit": 10000
     },
     "inputWidgets": {},
     "nuid": "740a3b95-f864-4de4-835d-72b5993ee02c",
     "showTitle": false,
     "title": ""
    }
   },
   "outputs": [
    {
     "output_type": "stream",
     "name": "stdout",
     "output_type": "stream",
     "text": [
      "+--------------------+-------+--------------------+----------------------------+--------------------+--------+--------+--------------------+------------------------------------+----------------------------+--------+------------+-----+------------+--------------------+------------+-----+-----+----+-----------+\n|                data|     id|               genre|                   publisher|           platforms|positive|negative|          categories|                                name|                   developer|discount|initialprice|  ccu|release_date|           languages|required_age|price|promo|pegi|reviewsgood|\n+--------------------+-------+--------------------+----------------------------+--------------------+--------+--------+--------------------+------------------------------------+----------------------------+--------+------------+-----+------------+--------------------+------------+-----+-----+----+-----------+\n|{10, [Multi-playe...|     10|              Action|                       Valve|  {true, true, true}|  201215|    5199|[Multi-player, Va...|                      Counter-Strike|                       Valve|       0|         999|13990|   2000/11/1|English, French, ...|           0|  999|    0|   0|     201215|\n|{1000000, [Single...|1000000|Action, Adventure...|        PsychoFlux Entert...|{false, false, true}|      27|       5|[Single-player, P...|                           ASCENXION|        IndigoBlue Game S...|       0|         999|    0|  2021/05/14|English, Korean, ...|           0|  999|    0|   0|         27|\n|{1000010, [Single...|1000010|Adventure, Indie,...|        Team17, NEXT Studios|{false, false, true}|    4032|     646|[Single-player, P...|                         Crown Trick|                NEXT Studios|      70|        1999|   99|  2020/10/16|Simplified Chines...|           0| 1999|   70|   0|       4032|\n|{1000030, [Multi-...|1000030|Action, Indie, Si...|         Vertigo Gaming Inc.| {false, true, true}|    1575|     115|[Multi-player, Si...|                Cook, Serve, Deli...|         Vertigo Gaming Inc.|       0|        1999|   76|  2020/10/14|             English|           0| 1999|    0|   0|       1575|\n|{1000040, [Single...|1000040|Action, Casual, I...|               DoubleC Games|{false, false, true}|       0|       1|     [Single-player]|                            细胞战争|               DoubleC Games|       0|         199|    0|  2019/03/30|  Simplified Chinese|           0|  199|    0|   0|          0|\n|{1000080, [Multi-...|1000080|Action, Adventure...|                    2P Games| {false, true, true}|    1018|     462|[Multi-player, Si...|                             Zengeon|          IndieLeague Studio|      60|        1999|    3|  2019/06/24|Simplified Chines...|           0| 1999|   60|   0|       1018|\n|{1000100, [Single...|1000100|Adventure, Indie,...|             Starship Studio|{false, false, true}|      18|       6|[Single-player, S...|干支セトラ　陽ノ卷｜干支etc.　陽之卷|                    七月九日|       0|        1299|    0|  2019/01/24|Japanese, Simplif...|           0| 1299|    0|   0|         18|\n|{1000110, [Multi-...|1000110|Action, Adventure...|          重庆环游者网络科技|{false, false, true}|      50|      34|[Multi-player, Si...|            Jumping Master(跳跳大咖)|          重庆环游者网络科技|       0|           0|    0|   2019/04/8|English, Simplifi...|           0|    0|    0|   0|         50|\n|{1000130, [Single...|1000130|       Casual, Indie|            Simon Codrington| {false, true, true}|       6|       0|[Single-player, S...|                       Cube Defender|            Simon Codrington|       0|         299|    0|   2019/01/6|             English|           0|  299|    0|   0|          6|\n|{1000280, [Single...|1000280|          Indie, RPG|                Villain Role|{false, false, true}|      32|      12|     [Single-player]|                Tower of Origin2-...|                Villain Role|       0|        1399|    0|   2021/09/9|English, Simplifi...|           0| 1399|    0|   0|         32|\n|{1000310, [Multi-...|1000310|Action, RPG, Stra...|海南众铖互娱网络科技有限公司|{false, false, true}|       1|       5|[Multi-player, Si...|                      人气动漫大乱斗|海南众铖互娱网络科技有限公司|       0|          99|    0|  2019/12/17|  Simplified Chinese|           0|   99|    0|   0|          1|\n|{1000360, [Multi-...|1000360|Action, Early Access|                      Kubold|{false, false, true}|    4031|     315|[Multi-player, Si...|                       Hellish Quart|                      Kubold|       0|        1699|   59|  2021/02/16|English, Simplifi...|           0| 1699|    0|   0|       4031|\n|{1000370, [Single...|1000370|               Indie|                 LFiO Studio|{false, false, true}|       0|       1|     [Single-player]|                      SurReal Subway|                 LFiO Studio|       0|           0|    0|   2019/01/3|             English|           0|    0|    0|   0|          0|\n|{1000380, [Single...|1000380|Action, Adventure...|            Fireroot Studios|{false, false, true}|     309|      87|[Single-player, S...|                        Rogue Reaper|            Fireroot Studios|       0|           0|    0|   2019/02/1|             English|           0|    0|    0|   0|        309|\n|{1000410, [Single...|1000410|Action, Early Access|        3D Realms, Fulqru...|{false, false, true}|    1212|     328|     [Single-player]|                 WRATH: Aeon of Ruin|                   KillPixel|       0|        2499|    6|  2019/11/22|             English|           0| 2499|    0|   0|       1212|\n|{1000470, [Single...|1000470|Adventure, Indie,...|                DarkDes Labs|{false, false, true}|      55|      13|[Single-player, S...|                Drawngeon: Dungeo...|                DarkDes Labs|       0|         499|    0|  2019/05/24|English, Russian,...|           0|  499|    0|   0|         55|\n|{1000480, [Single...|1000480|Action, Indie, RP...|                Meadow Games|  {true, true, true}|       9|       6|     [Single-player]|                       Battle Motion|                Meadow Games|       0|         999|    0|   2019/02/4|             English|           0|  999|    0|   0|          9|\n|{1000500, [Multi-...|1000500|Action, Casual, I...|                    Amonga99|  {true, true, true}|       9|       3|[Multi-player, Si...|                The Undisputables...|                    Amonga99|       0|         699|    0|   2021/12/5|English, French, ...|           0|  699|    0|   0|          9|\n|{1000510, [], 0, ...|1000510|           Education|            1337 Game Design|{false, false, true}|     104|      21|                  []|                The Marvellous Ma...|            1337 Game Design|       0|           0|    0|  2019/02/11|             English|           0|    0|    0|   0|        104|\n|{1000540, [Multi-...|1000540|Casual, Free to P...|              Hellride Games|{false, false, true}|      53|      12|[Multi-player, St...|                    Tactical Control|              Hellride Games|       0|           0|    0|  2019/03/21|             English|           0|    0|    0|   0|         53|\n+--------------------+-------+--------------------+----------------------------+--------------------+--------+--------+--------------------+------------------------------------+----------------------------+--------+------------+-----+------------+--------------------+------------+-----+-----+----+-----------+\nonly showing top 20 rows\n\nroot\n |-- data: struct (nullable = true)\n |    |-- appid: long (nullable = true)\n |    |-- categories: array (nullable = true)\n |    |    |-- element: string (containsNull = true)\n |    |-- ccu: long (nullable = true)\n |    |-- developer: string (nullable = true)\n |    |-- discount: string (nullable = true)\n |    |-- genre: string (nullable = true)\n |    |-- header_image: string (nullable = true)\n |    |-- initialprice: string (nullable = true)\n |    |-- languages: string (nullable = true)\n |    |-- name: string (nullable = true)\n |    |-- negative: long (nullable = true)\n |    |-- owners: string (nullable = true)\n |    |-- platforms: struct (nullable = true)\n |    |    |-- linux: boolean (nullable = true)\n |    |    |-- mac: boolean (nullable = true)\n |    |    |-- windows: boolean (nullable = true)\n |    |-- positive: long (nullable = true)\n |    |-- price: string (nullable = true)\n |    |-- publisher: string (nullable = true)\n |    |-- release_date: string (nullable = true)\n |    |-- required_age: string (nullable = true)\n |    |-- short_description: string (nullable = true)\n |    |-- tags: struct (nullable = true)\n |    |    |-- 1980s: long (nullable = true)\n |    |    |-- 1990's: long (nullable = true)\n |    |    |-- 2.5D: long (nullable = true)\n |    |    |-- 2D: long (nullable = true)\n |    |    |-- 2D Fighter: long (nullable = true)\n |    |    |-- 2D Platformer: long (nullable = true)\n |    |    |-- 360 Video: long (nullable = true)\n |    |    |-- 3D: long (nullable = true)\n |    |    |-- 3D Fighter: long (nullable = true)\n |    |    |-- 3D Platformer: long (nullable = true)\n |    |    |-- 3D Vision: long (nullable = true)\n |    |    |-- 4 Player Local: long (nullable = true)\n |    |    |-- 4X: long (nullable = true)\n |    |    |-- 6DOF: long (nullable = true)\n |    |    |-- 8-bit Music: long (nullable = true)\n |    |    |-- ATV: long (nullable = true)\n |    |    |-- Abstract: long (nullable = true)\n |    |    |-- Action: long (nullable = true)\n |    |    |-- Action RPG: long (nullable = true)\n |    |    |-- Action RTS: long (nullable = true)\n |    |    |-- Action Roguelike: long (nullable = true)\n |    |    |-- Action-Adventure: long (nullable = true)\n |    |    |-- Addictive: long (nullable = true)\n |    |    |-- Adventure: long (nullable = true)\n |    |    |-- Agriculture: long (nullable = true)\n |    |    |-- Aliens: long (nullable = true)\n |    |    |-- Alternate History: long (nullable = true)\n |    |    |-- Ambient: long (nullable = true)\n |    |    |-- America: long (nullable = true)\n |    |    |-- Animation & Modeling: long (nullable = true)\n |    |    |-- Anime: long (nullable = true)\n |    |    |-- Arcade: long (nullable = true)\n |    |    |-- Archery: long (nullable = true)\n |    |    |-- Arena Shooter: long (nullable = true)\n |    |    |-- Artificial Intelligence: long (nullable = true)\n |    |    |-- Assassin: long (nullable = true)\n |    |    |-- Asymmetric VR: long (nullable = true)\n |    |    |-- Asynchronous Multiplayer: long (nullable = true)\n |    |    |-- Atmospheric: long (nullable = true)\n |    |    |-- Audio Production: long (nullable = true)\n |    |    |-- Auto Battler: long (nullable = true)\n |    |    |-- Automation: long (nullable = true)\n |    |    |-- Automobile Sim: long (nullable = true)\n |    |    |-- BMX: long (nullable = true)\n |    |    |-- Base-Building: long (nullable = true)\n |    |    |-- Baseball: long (nullable = true)\n |    |    |-- Based On A Novel: long (nullable = true)\n |    |    |-- Basketball: long (nullable = true)\n |    |    |-- Battle Royale: long (nullable = true)\n |    |    |-- Beat 'em up: long (nullable = true)\n |    |    |-- Beautiful: long (nullable = true)\n |    |    |-- Benchmark: long (nullable = true)\n |    |    |-- Bikes: long (nullable = true)\n |    |    |-- Blood: long (nullable = true)\n |    |    |-- Board Game: long (nullable = true)\n |    |    |-- Boss Rush: long (nullable = true)\n |    |    |-- Bowling: long (nullable = true)\n |    |    |-- Boxing: long (nullable = true)\n |    |    |-- Building: long (nullable = true)\n |    |    |-- Bullet Hell: long (nullable = true)\n |    |    |-- Bullet Time: long (nullable = true)\n |    |    |-- CRPG: long (nullable = true)\n |    |    |-- Capitalism: long (nullable = true)\n |    |    |-- Card Battler: long (nullable = true)\n |    |    |-- Card Game: long (nullable = true)\n |    |    |-- Cartoon: long (nullable = true)\n |    |    |-- Cartoony: long (nullable = true)\n |    |    |-- Casual: long (nullable = true)\n |    |    |-- Cats: long (nullable = true)\n |    |    |-- Character Action Game: long (nullable = true)\n |    |    |-- Character Customization: long (nullable = true)\n |    |    |-- Chess: long (nullable = true)\n |    |    |-- Choices Matter: long (nullable = true)\n |    |    |-- Choose Your Own Adventure: long (nullable = true)\n |    |    |-- Cinematic: long (nullable = true)\n |    |    |-- City Builder: long (nullable = true)\n |    |    |-- Class-Based: long (nullable = true)\n |    |    |-- Classic: long (nullable = true)\n |    |    |-- Clicker: long (nullable = true)\n |    |    |-- Co-op: long (nullable = true)\n |    |    |-- Co-op Campaign: long (nullable = true)\n |    |    |-- Coding: long (nullable = true)\n |    |    |-- Cold War: long (nullable = true)\n |    |    |-- Collectathon: long (nullable = true)\n |    |    |-- Colony Sim: long (nullable = true)\n |    |    |-- Colorful: long (nullable = true)\n |    |    |-- Combat: long (nullable = true)\n |    |    |-- Combat Racing: long (nullable = true)\n |    |    |-- Comedy: long (nullable = true)\n |    |    |-- Comic Book: long (nullable = true)\n |    |    |-- Competitive: long (nullable = true)\n |    |    |-- Conspiracy: long (nullable = true)\n |    |    |-- Controller: long (nullable = true)\n |    |    |-- Conversation: long (nullable = true)\n |    |    |-- Cooking: long (nullable = true)\n |    |    |-- Cozy: long (nullable = true)\n |    |    |-- Crafting: long (nullable = true)\n |    |    |-- Creature Collector: long (nullable = true)\n |    |    |-- Cricket: long (nullable = true)\n |    |    |-- Crime: long (nullable = true)\n |    |    |-- Crowdfunded: long (nullable = true)\n |    |    |-- Cult Classic: long (nullable = true)\n |    |    |-- Cute: long (nullable = true)\n |    |    |-- Cyberpunk: long (nullable = true)\n |    |    |-- Cycling: long (nullable = true)\n |    |    |-- Dark: long (nullable = true)\n |    |    |-- Dark Comedy: long (nullable = true)\n |    |    |-- Dark Fantasy: long (nullable = true)\n |    |    |-- Dark Humor: long (nullable = true)\n |    |    |-- Dating Sim: long (nullable = true)\n |    |    |-- Deckbuilding: long (nullable = true)\n |    |    |-- Demons: long (nullable = true)\n |    |    |-- Design & Illustration: long (nullable = true)\n |    |    |-- Destruction: long (nullable = true)\n |    |    |-- Detective: long (nullable = true)\n |    |    |-- Difficult: long (nullable = true)\n |    |    |-- Dinosaurs: long (nullable = true)\n |    |    |-- Diplomacy: long (nullable = true)\n |    |    |-- Documentary: long (nullable = true)\n |    |    |-- Dog: long (nullable = true)\n |    |    |-- Dragons: long (nullable = true)\n |    |    |-- Drama: long (nullable = true)\n |    |    |-- Driving: long (nullable = true)\n |    |    |-- Dungeon Crawler: long (nullable = true)\n |    |    |-- Dungeons & Dragons: long (nullable = true)\n |    |    |-- Dynamic Narration: long (nullable = true)\n |    |    |-- Dystopian : long (nullable = true)\n |    |    |-- Early Access: long (nullable = true)\n |    |    |-- Economy: long (nullable = true)\n |    |    |-- Education: long (nullable = true)\n |    |    |-- Electronic: long (nullable = true)\n |    |    |-- Electronic Music: long (nullable = true)\n |    |    |-- Emotional: long (nullable = true)\n |    |    |-- Epic: long (nullable = true)\n |    |    |-- Episodic: long (nullable = true)\n |    |    |-- Escape Room: long (nullable = true)\n |    |    |-- Experience: long (nullable = true)\n |    |    |-- Experimental: long (nullable = true)\n |    |    |-- Exploration: long (nullable = true)\n |    |    |-- FMV: long (nullable = true)\n |    |    |-- FPS: long (nullable = true)\n |    |    |-- Faith: long (nullable = true)\n |    |    |-- Family Friendly: long (nullable = true)\n |    |    |-- Fantasy: long (nullable = true)\n |    |    |-- Farming: long (nullable = true)\n |    |    |-- Farming Sim: long (nullable = true)\n |    |    |-- Fast-Paced: long (nullable = true)\n |    |    |-- Feature Film: long (nullable = true)\n |    |    |-- Female Protagonist: long (nullable = true)\n |    |    |-- Fighting: long (nullable = true)\n |    |    |-- First-Person: long (nullable = true)\n |    |    |-- Fishing: long (nullable = true)\n |    |    |-- Flight: long (nullable = true)\n |    |    |-- Football: long (nullable = true)\n |    |    |-- Foreign: long (nullable = true)\n |    |    |-- Free to Play: long (nullable = true)\n |    |    |-- Funny: long (nullable = true)\n |    |    |-- Futuristic: long (nullable = true)\n |    |    |-- Gambling: long (nullable = true)\n |    |    |-- Game Development: long (nullable = true)\n |    |    |-- GameMaker: long (nullable = true)\n |    |    |-- Games Workshop: long (nullable = true)\n |    |    |-- Gaming: long (nullable = true)\n |    |    |-- God Game: long (nullable = true)\n |    |    |-- Golf: long (nullable = true)\n |    |    |-- Gore: long (nullable = true)\n |    |    |-- Gothic: long (nullable = true)\n |    |    |-- Grand Strategy: long (nullable = true)\n |    |    |-- Great Soundtrack: long (nullable = true)\n |    |    |-- Grid-Based Movement: long (nullable = true)\n |    |    |-- Gun Customization: long (nullable = true)\n |    |    |-- Hack and Slash: long (nullable = true)\n |    |    |-- Hacking: long (nullable = true)\n |    |    |-- Hand-drawn: long (nullable = true)\n |    |    |-- Hardware: long (nullable = true)\n |    |    |-- Heist: long (nullable = true)\n |    |    |-- Hentai: long (nullable = true)\n |    |    |-- Hero Shooter: long (nullable = true)\n |    |    |-- Hex Grid: long (nullable = true)\n |    |    |-- Hidden Object: long (nullable = true)\n |    |    |-- Historical: long (nullable = true)\n |    |    |-- Hockey: long (nullable = true)\n |    |    |-- Horror: long (nullable = true)\n |    |    |-- Horses: long (nullable = true)\n |    |    |-- Hunting: long (nullable = true)\n |    |    |-- Idler: long (nullable = true)\n |    |    |-- Illuminati: long (nullable = true)\n |    |    |-- Immersive: long (nullable = true)\n |    |    |-- Immersive Sim: long (nullable = true)\n |    |    |-- Indie: long (nullable = true)\n |    |    |-- Instrumental Music: long (nullable = true)\n |    |    |-- Intentionally Awkward Controls: long (nullable = true)\n |    |    |-- Interactive Fiction: long (nullable = true)\n |    |    |-- Inventory Management: long (nullable = true)\n |    |    |-- Investigation: long (nullable = true)\n |    |    |-- Isometric: long (nullable = true)\n |    |    |-- JRPG: long (nullable = true)\n |    |    |-- Jet: long (nullable = true)\n |    |    |-- Job Simulator: long (nullable = true)\n |    |    |-- Jump Scare: long (nullable = true)\n |    |    |-- Kickstarter: long (nullable = true)\n |    |    |-- LEGO: long (nullable = true)\n |    |    |-- LGBTQ+: long (nullable = true)\n |    |    |-- Lemmings: long (nullable = true)\n |    |    |-- Level Editor: long (nullable = true)\n |    |    |-- Life Sim: long (nullable = true)\n |    |    |-- Linear: long (nullable = true)\n |    |    |-- Local Co-Op: long (nullable = true)\n |    |    |-- Local Multiplayer: long (nullable = true)\n |    |    |-- Logic: long (nullable = true)\n |    |    |-- Loot: long (nullable = true)\n |    |    |-- Looter Shooter: long (nullable = true)\n |    |    |-- Lore-Rich: long (nullable = true)\n |    |    |-- Lovecraftian: long (nullable = true)\n |    |    |-- MMORPG: long (nullable = true)\n |    |    |-- MOBA: long (nullable = true)\n |    |    |-- Magic: long (nullable = true)\n |    |    |-- Mahjong: long (nullable = true)\n |    |    |-- Management: long (nullable = true)\n |    |    |-- Mars: long (nullable = true)\n |    |    |-- Martial Arts: long (nullable = true)\n |    |    |-- Massively Multiplayer: long (nullable = true)\n |    |    |-- Masterpiece: long (nullable = true)\n |    |    |-- Match 3: long (nullable = true)\n |    |    |-- Mature: long (nullable = true)\n |    |    |-- Mechs: long (nullable = true)\n |    |    |-- Medical Sim: long (nullable = true)\n |    |    |-- Medieval: long (nullable = true)\n |    |    |-- Memes: long (nullable = true)\n |    |    |-- Metroidvania: long (nullable = true)\n |    |    |-- Military: long (nullable = true)\n |    |    |-- Mini Golf: long (nullable = true)\n |    |    |-- Minigames: long (nullable = true)\n |    |    |-- Minimalist: long (nullable = true)\n |    |    |-- Mining: long (nullable = true)\n |    |    |-- Mod: long (nullable = true)\n |    |    |-- Moddable: long (nullable = true)\n |    |    |-- Modern: long (nullable = true)\n |    |    |-- Motocross: long (nullable = true)\n |    |    |-- Motorbike: long (nullable = true)\n |    |    |-- Mouse only: long (nullable = true)\n |    |    |-- Movie: long (nullable = true)\n |    |    |-- Multiplayer: long (nullable = true)\n |    |    |-- Multiple Endings: long (nullable = true)\n |    |    |-- Music: long (nullable = true)\n |    |    |-- Music-Based Procedural Generation: long (nullable = true)\n |    |    |-- Musou: long (nullable = true)\n |    |    |-- Mystery: long (nullable = true)\n |    |    |-- Mystery Dungeon: long (nullable = true)\n |    |    |-- Mythology: long (nullable = true)\n |    |    |-- NSFW: long (nullable = true)\n |    |    |-- Narration: long (nullable = true)\n |    |    |-- Narrative: long (nullable = true)\n |    |    |-- Nature: long (nullable = true)\n |    |    |-- Naval: long (nullable = true)\n |    |    |-- Naval Combat: long (nullable = true)\n |    |    |-- Ninja: long (nullable = true)\n |    |    |-- Noir: long (nullable = true)\n |    |    |-- Nonlinear: long (nullable = true)\n |    |    |-- Nostalgia: long (nullable = true)\n |    |    |-- Nudity: long (nullable = true)\n |    |    |-- Offroad: long (nullable = true)\n |    |    |-- Old School: long (nullable = true)\n |    |    |-- On-Rails Shooter: long (nullable = true)\n |    |    |-- Online Co-Op: long (nullable = true)\n |    |    |-- Open World: long (nullable = true)\n |    |    |-- Open World Survival Craft: long (nullable = true)\n |    |    |-- Otome: long (nullable = true)\n |    |    |-- Outbreak Sim: long (nullable = true)\n |    |    |-- Parkour: long (nullable = true)\n |    |    |-- Parody : long (nullable = true)\n |    |    |-- Party: long (nullable = true)\n |    |    |-- Party Game: long (nullable = true)\n |    |    |-- Party-Based RPG: long (nullable = true)\n |    |    |-- Perma Death: long (nullable = true)\n |    |    |-- Philosophical: long (nullable = true)\n |    |    |-- Photo Editing: long (nullable = true)\n |    |    |-- Physics: long (nullable = true)\n |    |    |-- Pinball: long (nullable = true)\n |    |    |-- Pirates: long (nullable = true)\n |    |    |-- Pixel Graphics: long (nullable = true)\n |    |    |-- Platformer: long (nullable = true)\n |    |    |-- Point & Click: long (nullable = true)\n |    |    |-- Political: long (nullable = true)\n |    |    |-- Political Sim: long (nullable = true)\n |    |    |-- Politics: long (nullable = true)\n |    |    |-- Pool: long (nullable = true)\n |    |    |-- Post-apocalyptic: long (nullable = true)\n |    |    |-- Precision Platformer: long (nullable = true)\n |    |    |-- Procedural Generation: long (nullable = true)\n |    |    |-- Programming: long (nullable = true)\n |    |    |-- Psychedelic: long (nullable = true)\n |    |    |-- Psychological: long (nullable = true)\n |    |    |-- Psychological Horror: long (nullable = true)\n |    |    |-- Puzzle: long (nullable = true)\n |    |    |-- Puzzle-Platformer: long (nullable = true)\n |    |    |-- PvE: long (nullable = true)\n |    |    |-- PvP: long (nullable = true)\n |    |    |-- Quick-Time Events: long (nullable = true)\n |    |    |-- RPG: long (nullable = true)\n |    |    |-- RPGMaker: long (nullable = true)\n |    |    |-- RTS: long (nullable = true)\n |    |    |-- Racing: long (nullable = true)\n |    |    |-- Real Time Tactics: long (nullable = true)\n |    |    |-- Real-Time: long (nullable = true)\n |    |    |-- Real-Time with Pause: long (nullable = true)\n |    |    |-- Realistic: long (nullable = true)\n |    |    |-- Reboot: long (nullable = true)\n |    |    |-- Relaxing: long (nullable = true)\n |    |    |-- Remake: long (nullable = true)\n |    |    |-- Replay Value: long (nullable = true)\n |    |    |-- Resource Management: long (nullable = true)\n |    |    |-- Retro: long (nullable = true)\n |    |    |-- Rhythm: long (nullable = true)\n |    |    |-- Robots: long (nullable = true)\n |    |    |-- Rock Music: long (nullable = true)\n |    |    |-- Rogue-like: long (nullable = true)\n |    |    |-- Rogue-lite: long (nullable = true)\n |    |    |-- Roguelike Deckbuilder: long (nullable = true)\n |    |    |-- Roguevania: long (nullable = true)\n |    |    |-- Romance: long (nullable = true)\n |    |    |-- Rome: long (nullable = true)\n |    |    |-- Rugby: long (nullable = true)\n |    |    |-- Runner: long (nullable = true)\n |    |    |-- Sailing: long (nullable = true)\n |    |    |-- Sandbox: long (nullable = true)\n |    |    |-- Satire: long (nullable = true)\n |    |    |-- Sci-fi: long (nullable = true)\n |    |    |-- Science: long (nullable = true)\n |    |    |-- Score Attack: long (nullable = true)\n |    |    |-- Sequel: long (nullable = true)\n |    |    |-- Sexual Content: long (nullable = true)\n |    |    |-- Shoot 'Em Up: long (nullable = true)\n |    |    |-- Shooter: long (nullable = true)\n |    |    |-- Shop Keeper: long (nullable = true)\n |    |    |-- Short: long (nullable = true)\n |    |    |-- Side Scroller: long (nullable = true)\n |    |    |-- Silent Protagonist: long (nullable = true)\n |    |    |-- Simulation: long (nullable = true)\n |    |    |-- Singleplayer: long (nullable = true)\n |    |    |-- Skateboarding: long (nullable = true)\n |    |    |-- Skating: long (nullable = true)\n |    |    |-- Skiing: long (nullable = true)\n |    |    |-- Sniper: long (nullable = true)\n |    |    |-- Snooker: long (nullable = true)\n |    |    |-- Snow: long (nullable = true)\n |    |    |-- Snowboarding: long (nullable = true)\n |    |    |-- Soccer: long (nullable = true)\n |    |    |-- Social Deduction: long (nullable = true)\n |    |    |-- Software: long (nullable = true)\n |    |    |-- Software Training: long (nullable = true)\n |    |    |-- Sokoban: long (nullable = true)\n |    |    |-- Solitaire: long (nullable = true)\n |    |    |-- Souls-like: long (nullable = true)\n |    |    |-- Soundtrack: long (nullable = true)\n |    |    |-- Space: long (nullable = true)\n |    |    |-- Space Sim: long (nullable = true)\n |    |    |-- Spaceships: long (nullable = true)\n |    |    |-- Spectacle fighter: long (nullable = true)\n |    |    |-- Spelling: long (nullable = true)\n |    |    |-- Split Screen: long (nullable = true)\n |    |    |-- Sports: long (nullable = true)\n |    |    |-- Stealth: long (nullable = true)\n |    |    |-- Steam Machine: long (nullable = true)\n |    |    |-- Steampunk: long (nullable = true)\n |    |    |-- Story Rich: long (nullable = true)\n |    |    |-- Strategy: long (nullable = true)\n |    |    |-- Strategy RPG: long (nullable = true)\n |    |    |-- Stylized: long (nullable = true)\n |    |    |-- Submarine: long (nullable = true)\n |    |    |-- Superhero: long (nullable = true)\n |    |    |-- Supernatural: long (nullable = true)\n |    |    |-- Surreal: long (nullable = true)\n |    |    |-- Survival: long (nullable = true)\n |    |    |-- Survival Horror: long (nullable = true)\n |    |    |-- Swordplay: long (nullable = true)\n |    |    |-- Tabletop: long (nullable = true)\n |    |    |-- Tactical: long (nullable = true)\n |    |    |-- Tactical RPG: long (nullable = true)\n |    |    |-- Tanks: long (nullable = true)\n |    |    |-- Team-Based: long (nullable = true)\n |    |    |-- Tennis: long (nullable = true)\n |    |    |-- Text-Based: long (nullable = true)\n |    |    |-- Third Person: long (nullable = true)\n |    |    |-- Third-Person Shooter: long (nullable = true)\n |    |    |-- Thriller: long (nullable = true)\n |    |    |-- Tile-Matching: long (nullable = true)\n |    |    |-- Time Attack: long (nullable = true)\n |    |    |-- Time Management: long (nullable = true)\n |    |    |-- Time Manipulation: long (nullable = true)\n |    |    |-- Time Travel: long (nullable = true)\n |    |    |-- Top-Down: long (nullable = true)\n |    |    |-- Top-Down Shooter: long (nullable = true)\n |    |    |-- Touch-Friendly: long (nullable = true)\n |    |    |-- Tower Defense: long (nullable = true)\n |    |    |-- TrackIR: long (nullable = true)\n |    |    |-- Trading: long (nullable = true)\n |    |    |-- Trading Card Game: long (nullable = true)\n |    |    |-- Traditional Roguelike: long (nullable = true)\n |    |    |-- Trains: long (nullable = true)\n |    |    |-- Transhumanism: long (nullable = true)\n |    |    |-- Transportation: long (nullable = true)\n |    |    |-- Trivia: long (nullable = true)\n |    |    |-- Turn-Based: long (nullable = true)\n |    |    |-- Turn-Based Combat: long (nullable = true)\n |    |    |-- Turn-Based Strategy: long (nullable = true)\n |    |    |-- Turn-Based Tactics: long (nullable = true)\n |    |    |-- Tutorial: long (nullable = true)\n |    |    |-- Twin Stick Shooter: long (nullable = true)\n |    |    |-- Typing: long (nullable = true)\n |    |    |-- Underground: long (nullable = true)\n |    |    |-- Underwater: long (nullable = true)\n |    |    |-- Unforgiving: long (nullable = true)\n |    |    |-- Utilities: long (nullable = true)\n |    |    |-- VR: long (nullable = true)\n |    |    |-- VR Only: long (nullable = true)\n |    |    |-- Vampire: long (nullable = true)\n |    |    |-- Vehicular Combat: long (nullable = true)\n |    |    |-- Video Production: long (nullable = true)\n |    |    |-- Vikings: long (nullable = true)\n |    |    |-- Villain Protagonist: long (nullable = true)\n |    |    |-- Violent: long (nullable = true)\n |    |    |-- Visual Novel: long (nullable = true)\n |    |    |-- Voice Control: long (nullable = true)\n |    |    |-- Volleyball: long (nullable = true)\n |    |    |-- Voxel: long (nullable = true)\n |    |    |-- Walking Simulator: long (nullable = true)\n |    |    |-- War: long (nullable = true)\n |    |    |-- Wargame: long (nullable = true)\n |    |    |-- Warhammer 40K: long (nullable = true)\n |    |    |-- Web Publishing: long (nullable = true)\n |    |    |-- Well-Written: long (nullable = true)\n |    |    |-- Werewolves: long (nullable = true)\n |    |    |-- Western: long (nullable = true)\n |    |    |-- Wholesome: long (nullable = true)\n |    |    |-- Word Game: long (nullable = true)\n |    |    |-- World War I: long (nullable = true)\n |    |    |-- World War II: long (nullable = true)\n |    |    |-- Wrestling: long (nullable = true)\n |    |    |-- Zombies: long (nullable = true)\n |    |    |-- e-sports: long (nullable = true)\n |    |-- type: string (nullable = true)\n |    |-- website: string (nullable = true)\n |-- id: string (nullable = true)\n |-- genre: string (nullable = true)\n |-- publisher: string (nullable = true)\n |-- platforms: struct (nullable = true)\n |    |-- linux: boolean (nullable = true)\n |    |-- mac: boolean (nullable = true)\n |    |-- windows: boolean (nullable = true)\n |-- positive: long (nullable = true)\n |-- negative: long (nullable = true)\n |-- categories: array (nullable = true)\n |    |-- element: string (containsNull = true)\n |-- name: string (nullable = true)\n |-- developer: string (nullable = true)\n |-- discount: string (nullable = true)\n |-- initialprice: string (nullable = true)\n |-- ccu: long (nullable = true)\n |-- release_date: string (nullable = true)\n |-- languages: string (nullable = true)\n |-- required_age: string (nullable = true)\n |-- price: integer (nullable = true)\n |-- promo: integer (nullable = true)\n |-- pegi: integer (nullable = true)\n |-- reviewsgood: integer (nullable = true)\n\n"
     ]
    }
   ],
   "source": [
    "# Utilisez la fonction cast() pour convertir la colonne string en INTEGER\n",
    "dfint3 = dfint2.withColumn(\"reviewsgood\", col(\"positive\").cast(\"INTEGER\"))\n",
    "\n",
    "# Afficher le DataFrame résultant\n",
    "dfint3.show()\n",
    "\n",
    "dfint3.printSchema()"
   ]
  },
  {
   "cell_type": "code",
   "execution_count": 0,
   "metadata": {
    "application/vnd.databricks.v1+cell": {
     "cellMetadata": {
      "byteLimit": 2048000,
      "rowLimit": 10000
     },
     "inputWidgets": {},
     "nuid": "2dff841b-95d7-4d3a-bfca-6c052764f7cc",
     "showTitle": false,
     "title": ""
    }
   },
   "outputs": [
    {
     "output_type": "stream",
     "name": "stdout",
     "output_type": "stream",
     "text": [
      "+--------------------+-------+--------------------+----------------------------+--------------------+--------+--------+--------------------+------------------------------------+----------------------------+--------+------------+-----+------------+--------------------+------------+-----+-----+----+-----------+----------+\n|                data|     id|               genre|                   publisher|           platforms|positive|negative|          categories|                                name|                   developer|discount|initialprice|  ccu|release_date|           languages|required_age|price|promo|pegi|reviewsgood|reviewsneg|\n+--------------------+-------+--------------------+----------------------------+--------------------+--------+--------+--------------------+------------------------------------+----------------------------+--------+------------+-----+------------+--------------------+------------+-----+-----+----+-----------+----------+\n|{10, [Multi-playe...|     10|              Action|                       Valve|  {true, true, true}|  201215|    5199|[Multi-player, Va...|                      Counter-Strike|                       Valve|       0|         999|13990|   2000/11/1|English, French, ...|           0|  999|    0|   0|     201215|      5199|\n|{1000000, [Single...|1000000|Action, Adventure...|        PsychoFlux Entert...|{false, false, true}|      27|       5|[Single-player, P...|                           ASCENXION|        IndigoBlue Game S...|       0|         999|    0|  2021/05/14|English, Korean, ...|           0|  999|    0|   0|         27|         5|\n|{1000010, [Single...|1000010|Adventure, Indie,...|        Team17, NEXT Studios|{false, false, true}|    4032|     646|[Single-player, P...|                         Crown Trick|                NEXT Studios|      70|        1999|   99|  2020/10/16|Simplified Chines...|           0| 1999|   70|   0|       4032|       646|\n|{1000030, [Multi-...|1000030|Action, Indie, Si...|         Vertigo Gaming Inc.| {false, true, true}|    1575|     115|[Multi-player, Si...|                Cook, Serve, Deli...|         Vertigo Gaming Inc.|       0|        1999|   76|  2020/10/14|             English|           0| 1999|    0|   0|       1575|       115|\n|{1000040, [Single...|1000040|Action, Casual, I...|               DoubleC Games|{false, false, true}|       0|       1|     [Single-player]|                            细胞战争|               DoubleC Games|       0|         199|    0|  2019/03/30|  Simplified Chinese|           0|  199|    0|   0|          0|         1|\n|{1000080, [Multi-...|1000080|Action, Adventure...|                    2P Games| {false, true, true}|    1018|     462|[Multi-player, Si...|                             Zengeon|          IndieLeague Studio|      60|        1999|    3|  2019/06/24|Simplified Chines...|           0| 1999|   60|   0|       1018|       462|\n|{1000100, [Single...|1000100|Adventure, Indie,...|             Starship Studio|{false, false, true}|      18|       6|[Single-player, S...|干支セトラ　陽ノ卷｜干支etc.　陽之卷|                    七月九日|       0|        1299|    0|  2019/01/24|Japanese, Simplif...|           0| 1299|    0|   0|         18|         6|\n|{1000110, [Multi-...|1000110|Action, Adventure...|          重庆环游者网络科技|{false, false, true}|      50|      34|[Multi-player, Si...|            Jumping Master(跳跳大咖)|          重庆环游者网络科技|       0|           0|    0|   2019/04/8|English, Simplifi...|           0|    0|    0|   0|         50|        34|\n|{1000130, [Single...|1000130|       Casual, Indie|            Simon Codrington| {false, true, true}|       6|       0|[Single-player, S...|                       Cube Defender|            Simon Codrington|       0|         299|    0|   2019/01/6|             English|           0|  299|    0|   0|          6|         0|\n|{1000280, [Single...|1000280|          Indie, RPG|                Villain Role|{false, false, true}|      32|      12|     [Single-player]|                Tower of Origin2-...|                Villain Role|       0|        1399|    0|   2021/09/9|English, Simplifi...|           0| 1399|    0|   0|         32|        12|\n|{1000310, [Multi-...|1000310|Action, RPG, Stra...|海南众铖互娱网络科技有限公司|{false, false, true}|       1|       5|[Multi-player, Si...|                      人气动漫大乱斗|海南众铖互娱网络科技有限公司|       0|          99|    0|  2019/12/17|  Simplified Chinese|           0|   99|    0|   0|          1|         5|\n|{1000360, [Multi-...|1000360|Action, Early Access|                      Kubold|{false, false, true}|    4031|     315|[Multi-player, Si...|                       Hellish Quart|                      Kubold|       0|        1699|   59|  2021/02/16|English, Simplifi...|           0| 1699|    0|   0|       4031|       315|\n|{1000370, [Single...|1000370|               Indie|                 LFiO Studio|{false, false, true}|       0|       1|     [Single-player]|                      SurReal Subway|                 LFiO Studio|       0|           0|    0|   2019/01/3|             English|           0|    0|    0|   0|          0|         1|\n|{1000380, [Single...|1000380|Action, Adventure...|            Fireroot Studios|{false, false, true}|     309|      87|[Single-player, S...|                        Rogue Reaper|            Fireroot Studios|       0|           0|    0|   2019/02/1|             English|           0|    0|    0|   0|        309|        87|\n|{1000410, [Single...|1000410|Action, Early Access|        3D Realms, Fulqru...|{false, false, true}|    1212|     328|     [Single-player]|                 WRATH: Aeon of Ruin|                   KillPixel|       0|        2499|    6|  2019/11/22|             English|           0| 2499|    0|   0|       1212|       328|\n|{1000470, [Single...|1000470|Adventure, Indie,...|                DarkDes Labs|{false, false, true}|      55|      13|[Single-player, S...|                Drawngeon: Dungeo...|                DarkDes Labs|       0|         499|    0|  2019/05/24|English, Russian,...|           0|  499|    0|   0|         55|        13|\n|{1000480, [Single...|1000480|Action, Indie, RP...|                Meadow Games|  {true, true, true}|       9|       6|     [Single-player]|                       Battle Motion|                Meadow Games|       0|         999|    0|   2019/02/4|             English|           0|  999|    0|   0|          9|         6|\n|{1000500, [Multi-...|1000500|Action, Casual, I...|                    Amonga99|  {true, true, true}|       9|       3|[Multi-player, Si...|                The Undisputables...|                    Amonga99|       0|         699|    0|   2021/12/5|English, French, ...|           0|  699|    0|   0|          9|         3|\n|{1000510, [], 0, ...|1000510|           Education|            1337 Game Design|{false, false, true}|     104|      21|                  []|                The Marvellous Ma...|            1337 Game Design|       0|           0|    0|  2019/02/11|             English|           0|    0|    0|   0|        104|        21|\n|{1000540, [Multi-...|1000540|Casual, Free to P...|              Hellride Games|{false, false, true}|      53|      12|[Multi-player, St...|                    Tactical Control|              Hellride Games|       0|           0|    0|  2019/03/21|             English|           0|    0|    0|   0|         53|        12|\n+--------------------+-------+--------------------+----------------------------+--------------------+--------+--------+--------------------+------------------------------------+----------------------------+--------+------------+-----+------------+--------------------+------------+-----+-----+----+-----------+----------+\nonly showing top 20 rows\n\nroot\n |-- data: struct (nullable = true)\n |    |-- appid: long (nullable = true)\n |    |-- categories: array (nullable = true)\n |    |    |-- element: string (containsNull = true)\n |    |-- ccu: long (nullable = true)\n |    |-- developer: string (nullable = true)\n |    |-- discount: string (nullable = true)\n |    |-- genre: string (nullable = true)\n |    |-- header_image: string (nullable = true)\n |    |-- initialprice: string (nullable = true)\n |    |-- languages: string (nullable = true)\n |    |-- name: string (nullable = true)\n |    |-- negative: long (nullable = true)\n |    |-- owners: string (nullable = true)\n |    |-- platforms: struct (nullable = true)\n |    |    |-- linux: boolean (nullable = true)\n |    |    |-- mac: boolean (nullable = true)\n |    |    |-- windows: boolean (nullable = true)\n |    |-- positive: long (nullable = true)\n |    |-- price: string (nullable = true)\n |    |-- publisher: string (nullable = true)\n |    |-- release_date: string (nullable = true)\n |    |-- required_age: string (nullable = true)\n |    |-- short_description: string (nullable = true)\n |    |-- tags: struct (nullable = true)\n |    |    |-- 1980s: long (nullable = true)\n |    |    |-- 1990's: long (nullable = true)\n |    |    |-- 2.5D: long (nullable = true)\n |    |    |-- 2D: long (nullable = true)\n |    |    |-- 2D Fighter: long (nullable = true)\n |    |    |-- 2D Platformer: long (nullable = true)\n |    |    |-- 360 Video: long (nullable = true)\n |    |    |-- 3D: long (nullable = true)\n |    |    |-- 3D Fighter: long (nullable = true)\n |    |    |-- 3D Platformer: long (nullable = true)\n |    |    |-- 3D Vision: long (nullable = true)\n |    |    |-- 4 Player Local: long (nullable = true)\n |    |    |-- 4X: long (nullable = true)\n |    |    |-- 6DOF: long (nullable = true)\n |    |    |-- 8-bit Music: long (nullable = true)\n |    |    |-- ATV: long (nullable = true)\n |    |    |-- Abstract: long (nullable = true)\n |    |    |-- Action: long (nullable = true)\n |    |    |-- Action RPG: long (nullable = true)\n |    |    |-- Action RTS: long (nullable = true)\n |    |    |-- Action Roguelike: long (nullable = true)\n |    |    |-- Action-Adventure: long (nullable = true)\n |    |    |-- Addictive: long (nullable = true)\n |    |    |-- Adventure: long (nullable = true)\n |    |    |-- Agriculture: long (nullable = true)\n |    |    |-- Aliens: long (nullable = true)\n |    |    |-- Alternate History: long (nullable = true)\n |    |    |-- Ambient: long (nullable = true)\n |    |    |-- America: long (nullable = true)\n |    |    |-- Animation & Modeling: long (nullable = true)\n |    |    |-- Anime: long (nullable = true)\n |    |    |-- Arcade: long (nullable = true)\n |    |    |-- Archery: long (nullable = true)\n |    |    |-- Arena Shooter: long (nullable = true)\n |    |    |-- Artificial Intelligence: long (nullable = true)\n |    |    |-- Assassin: long (nullable = true)\n |    |    |-- Asymmetric VR: long (nullable = true)\n |    |    |-- Asynchronous Multiplayer: long (nullable = true)\n |    |    |-- Atmospheric: long (nullable = true)\n |    |    |-- Audio Production: long (nullable = true)\n |    |    |-- Auto Battler: long (nullable = true)\n |    |    |-- Automation: long (nullable = true)\n |    |    |-- Automobile Sim: long (nullable = true)\n |    |    |-- BMX: long (nullable = true)\n |    |    |-- Base-Building: long (nullable = true)\n |    |    |-- Baseball: long (nullable = true)\n |    |    |-- Based On A Novel: long (nullable = true)\n |    |    |-- Basketball: long (nullable = true)\n |    |    |-- Battle Royale: long (nullable = true)\n |    |    |-- Beat 'em up: long (nullable = true)\n |    |    |-- Beautiful: long (nullable = true)\n |    |    |-- Benchmark: long (nullable = true)\n |    |    |-- Bikes: long (nullable = true)\n |    |    |-- Blood: long (nullable = true)\n |    |    |-- Board Game: long (nullable = true)\n |    |    |-- Boss Rush: long (nullable = true)\n |    |    |-- Bowling: long (nullable = true)\n |    |    |-- Boxing: long (nullable = true)\n |    |    |-- Building: long (nullable = true)\n |    |    |-- Bullet Hell: long (nullable = true)\n |    |    |-- Bullet Time: long (nullable = true)\n |    |    |-- CRPG: long (nullable = true)\n |    |    |-- Capitalism: long (nullable = true)\n |    |    |-- Card Battler: long (nullable = true)\n |    |    |-- Card Game: long (nullable = true)\n |    |    |-- Cartoon: long (nullable = true)\n |    |    |-- Cartoony: long (nullable = true)\n |    |    |-- Casual: long (nullable = true)\n |    |    |-- Cats: long (nullable = true)\n |    |    |-- Character Action Game: long (nullable = true)\n |    |    |-- Character Customization: long (nullable = true)\n |    |    |-- Chess: long (nullable = true)\n |    |    |-- Choices Matter: long (nullable = true)\n |    |    |-- Choose Your Own Adventure: long (nullable = true)\n |    |    |-- Cinematic: long (nullable = true)\n |    |    |-- City Builder: long (nullable = true)\n |    |    |-- Class-Based: long (nullable = true)\n |    |    |-- Classic: long (nullable = true)\n |    |    |-- Clicker: long (nullable = true)\n |    |    |-- Co-op: long (nullable = true)\n |    |    |-- Co-op Campaign: long (nullable = true)\n |    |    |-- Coding: long (nullable = true)\n |    |    |-- Cold War: long (nullable = true)\n |    |    |-- Collectathon: long (nullable = true)\n |    |    |-- Colony Sim: long (nullable = true)\n |    |    |-- Colorful: long (nullable = true)\n |    |    |-- Combat: long (nullable = true)\n |    |    |-- Combat Racing: long (nullable = true)\n |    |    |-- Comedy: long (nullable = true)\n |    |    |-- Comic Book: long (nullable = true)\n |    |    |-- Competitive: long (nullable = true)\n |    |    |-- Conspiracy: long (nullable = true)\n |    |    |-- Controller: long (nullable = true)\n |    |    |-- Conversation: long (nullable = true)\n |    |    |-- Cooking: long (nullable = true)\n |    |    |-- Cozy: long (nullable = true)\n |    |    |-- Crafting: long (nullable = true)\n |    |    |-- Creature Collector: long (nullable = true)\n |    |    |-- Cricket: long (nullable = true)\n |    |    |-- Crime: long (nullable = true)\n |    |    |-- Crowdfunded: long (nullable = true)\n |    |    |-- Cult Classic: long (nullable = true)\n |    |    |-- Cute: long (nullable = true)\n |    |    |-- Cyberpunk: long (nullable = true)\n |    |    |-- Cycling: long (nullable = true)\n |    |    |-- Dark: long (nullable = true)\n |    |    |-- Dark Comedy: long (nullable = true)\n |    |    |-- Dark Fantasy: long (nullable = true)\n |    |    |-- Dark Humor: long (nullable = true)\n |    |    |-- Dating Sim: long (nullable = true)\n |    |    |-- Deckbuilding: long (nullable = true)\n |    |    |-- Demons: long (nullable = true)\n |    |    |-- Design & Illustration: long (nullable = true)\n |    |    |-- Destruction: long (nullable = true)\n |    |    |-- Detective: long (nullable = true)\n |    |    |-- Difficult: long (nullable = true)\n |    |    |-- Dinosaurs: long (nullable = true)\n |    |    |-- Diplomacy: long (nullable = true)\n |    |    |-- Documentary: long (nullable = true)\n |    |    |-- Dog: long (nullable = true)\n |    |    |-- Dragons: long (nullable = true)\n |    |    |-- Drama: long (nullable = true)\n |    |    |-- Driving: long (nullable = true)\n |    |    |-- Dungeon Crawler: long (nullable = true)\n |    |    |-- Dungeons & Dragons: long (nullable = true)\n |    |    |-- Dynamic Narration: long (nullable = true)\n |    |    |-- Dystopian : long (nullable = true)\n |    |    |-- Early Access: long (nullable = true)\n |    |    |-- Economy: long (nullable = true)\n |    |    |-- Education: long (nullable = true)\n |    |    |-- Electronic: long (nullable = true)\n |    |    |-- Electronic Music: long (nullable = true)\n |    |    |-- Emotional: long (nullable = true)\n |    |    |-- Epic: long (nullable = true)\n |    |    |-- Episodic: long (nullable = true)\n |    |    |-- Escape Room: long (nullable = true)\n |    |    |-- Experience: long (nullable = true)\n |    |    |-- Experimental: long (nullable = true)\n |    |    |-- Exploration: long (nullable = true)\n |    |    |-- FMV: long (nullable = true)\n |    |    |-- FPS: long (nullable = true)\n |    |    |-- Faith: long (nullable = true)\n |    |    |-- Family Friendly: long (nullable = true)\n |    |    |-- Fantasy: long (nullable = true)\n |    |    |-- Farming: long (nullable = true)\n |    |    |-- Farming Sim: long (nullable = true)\n |    |    |-- Fast-Paced: long (nullable = true)\n |    |    |-- Feature Film: long (nullable = true)\n |    |    |-- Female Protagonist: long (nullable = true)\n |    |    |-- Fighting: long (nullable = true)\n |    |    |-- First-Person: long (nullable = true)\n |    |    |-- Fishing: long (nullable = true)\n |    |    |-- Flight: long (nullable = true)\n |    |    |-- Football: long (nullable = true)\n |    |    |-- Foreign: long (nullable = true)\n |    |    |-- Free to Play: long (nullable = true)\n |    |    |-- Funny: long (nullable = true)\n |    |    |-- Futuristic: long (nullable = true)\n |    |    |-- Gambling: long (nullable = true)\n |    |    |-- Game Development: long (nullable = true)\n |    |    |-- GameMaker: long (nullable = true)\n |    |    |-- Games Workshop: long (nullable = true)\n |    |    |-- Gaming: long (nullable = true)\n |    |    |-- God Game: long (nullable = true)\n |    |    |-- Golf: long (nullable = true)\n |    |    |-- Gore: long (nullable = true)\n |    |    |-- Gothic: long (nullable = true)\n |    |    |-- Grand Strategy: long (nullable = true)\n |    |    |-- Great Soundtrack: long (nullable = true)\n |    |    |-- Grid-Based Movement: long (nullable = true)\n |    |    |-- Gun Customization: long (nullable = true)\n |    |    |-- Hack and Slash: long (nullable = true)\n |    |    |-- Hacking: long (nullable = true)\n |    |    |-- Hand-drawn: long (nullable = true)\n |    |    |-- Hardware: long (nullable = true)\n |    |    |-- Heist: long (nullable = true)\n |    |    |-- Hentai: long (nullable = true)\n |    |    |-- Hero Shooter: long (nullable = true)\n |    |    |-- Hex Grid: long (nullable = true)\n |    |    |-- Hidden Object: long (nullable = true)\n |    |    |-- Historical: long (nullable = true)\n |    |    |-- Hockey: long (nullable = true)\n |    |    |-- Horror: long (nullable = true)\n |    |    |-- Horses: long (nullable = true)\n |    |    |-- Hunting: long (nullable = true)\n |    |    |-- Idler: long (nullable = true)\n |    |    |-- Illuminati: long (nullable = true)\n |    |    |-- Immersive: long (nullable = true)\n |    |    |-- Immersive Sim: long (nullable = true)\n |    |    |-- Indie: long (nullable = true)\n |    |    |-- Instrumental Music: long (nullable = true)\n |    |    |-- Intentionally Awkward Controls: long (nullable = true)\n |    |    |-- Interactive Fiction: long (nullable = true)\n |    |    |-- Inventory Management: long (nullable = true)\n |    |    |-- Investigation: long (nullable = true)\n |    |    |-- Isometric: long (nullable = true)\n |    |    |-- JRPG: long (nullable = true)\n |    |    |-- Jet: long (nullable = true)\n |    |    |-- Job Simulator: long (nullable = true)\n |    |    |-- Jump Scare: long (nullable = true)\n |    |    |-- Kickstarter: long (nullable = true)\n |    |    |-- LEGO: long (nullable = true)\n |    |    |-- LGBTQ+: long (nullable = true)\n |    |    |-- Lemmings: long (nullable = true)\n |    |    |-- Level Editor: long (nullable = true)\n |    |    |-- Life Sim: long (nullable = true)\n |    |    |-- Linear: long (nullable = true)\n |    |    |-- Local Co-Op: long (nullable = true)\n |    |    |-- Local Multiplayer: long (nullable = true)\n |    |    |-- Logic: long (nullable = true)\n |    |    |-- Loot: long (nullable = true)\n |    |    |-- Looter Shooter: long (nullable = true)\n |    |    |-- Lore-Rich: long (nullable = true)\n |    |    |-- Lovecraftian: long (nullable = true)\n |    |    |-- MMORPG: long (nullable = true)\n |    |    |-- MOBA: long (nullable = true)\n |    |    |-- Magic: long (nullable = true)\n |    |    |-- Mahjong: long (nullable = true)\n |    |    |-- Management: long (nullable = true)\n |    |    |-- Mars: long (nullable = true)\n |    |    |-- Martial Arts: long (nullable = true)\n |    |    |-- Massively Multiplayer: long (nullable = true)\n |    |    |-- Masterpiece: long (nullable = true)\n |    |    |-- Match 3: long (nullable = true)\n |    |    |-- Mature: long (nullable = true)\n |    |    |-- Mechs: long (nullable = true)\n |    |    |-- Medical Sim: long (nullable = true)\n |    |    |-- Medieval: long (nullable = true)\n |    |    |-- Memes: long (nullable = true)\n |    |    |-- Metroidvania: long (nullable = true)\n |    |    |-- Military: long (nullable = true)\n |    |    |-- Mini Golf: long (nullable = true)\n |    |    |-- Minigames: long (nullable = true)\n |    |    |-- Minimalist: long (nullable = true)\n |    |    |-- Mining: long (nullable = true)\n |    |    |-- Mod: long (nullable = true)\n |    |    |-- Moddable: long (nullable = true)\n |    |    |-- Modern: long (nullable = true)\n |    |    |-- Motocross: long (nullable = true)\n |    |    |-- Motorbike: long (nullable = true)\n |    |    |-- Mouse only: long (nullable = true)\n |    |    |-- Movie: long (nullable = true)\n |    |    |-- Multiplayer: long (nullable = true)\n |    |    |-- Multiple Endings: long (nullable = true)\n |    |    |-- Music: long (nullable = true)\n |    |    |-- Music-Based Procedural Generation: long (nullable = true)\n |    |    |-- Musou: long (nullable = true)\n |    |    |-- Mystery: long (nullable = true)\n |    |    |-- Mystery Dungeon: long (nullable = true)\n |    |    |-- Mythology: long (nullable = true)\n |    |    |-- NSFW: long (nullable = true)\n |    |    |-- Narration: long (nullable = true)\n |    |    |-- Narrative: long (nullable = true)\n |    |    |-- Nature: long (nullable = true)\n |    |    |-- Naval: long (nullable = true)\n |    |    |-- Naval Combat: long (nullable = true)\n |    |    |-- Ninja: long (nullable = true)\n |    |    |-- Noir: long (nullable = true)\n |    |    |-- Nonlinear: long (nullable = true)\n |    |    |-- Nostalgia: long (nullable = true)\n |    |    |-- Nudity: long (nullable = true)\n |    |    |-- Offroad: long (nullable = true)\n |    |    |-- Old School: long (nullable = true)\n |    |    |-- On-Rails Shooter: long (nullable = true)\n |    |    |-- Online Co-Op: long (nullable = true)\n |    |    |-- Open World: long (nullable = true)\n |    |    |-- Open World Survival Craft: long (nullable = true)\n |    |    |-- Otome: long (nullable = true)\n |    |    |-- Outbreak Sim: long (nullable = true)\n |    |    |-- Parkour: long (nullable = true)\n |    |    |-- Parody : long (nullable = true)\n |    |    |-- Party: long (nullable = true)\n |    |    |-- Party Game: long (nullable = true)\n |    |    |-- Party-Based RPG: long (nullable = true)\n |    |    |-- Perma Death: long (nullable = true)\n |    |    |-- Philosophical: long (nullable = true)\n |    |    |-- Photo Editing: long (nullable = true)\n |    |    |-- Physics: long (nullable = true)\n |    |    |-- Pinball: long (nullable = true)\n |    |    |-- Pirates: long (nullable = true)\n |    |    |-- Pixel Graphics: long (nullable = true)\n |    |    |-- Platformer: long (nullable = true)\n |    |    |-- Point & Click: long (nullable = true)\n |    |    |-- Political: long (nullable = true)\n |    |    |-- Political Sim: long (nullable = true)\n |    |    |-- Politics: long (nullable = true)\n |    |    |-- Pool: long (nullable = true)\n |    |    |-- Post-apocalyptic: long (nullable = true)\n |    |    |-- Precision Platformer: long (nullable = true)\n |    |    |-- Procedural Generation: long (nullable = true)\n |    |    |-- Programming: long (nullable = true)\n |    |    |-- Psychedelic: long (nullable = true)\n |    |    |-- Psychological: long (nullable = true)\n |    |    |-- Psychological Horror: long (nullable = true)\n |    |    |-- Puzzle: long (nullable = true)\n |    |    |-- Puzzle-Platformer: long (nullable = true)\n |    |    |-- PvE: long (nullable = true)\n |    |    |-- PvP: long (nullable = true)\n |    |    |-- Quick-Time Events: long (nullable = true)\n |    |    |-- RPG: long (nullable = true)\n |    |    |-- RPGMaker: long (nullable = true)\n |    |    |-- RTS: long (nullable = true)\n |    |    |-- Racing: long (nullable = true)\n |    |    |-- Real Time Tactics: long (nullable = true)\n |    |    |-- Real-Time: long (nullable = true)\n |    |    |-- Real-Time with Pause: long (nullable = true)\n |    |    |-- Realistic: long (nullable = true)\n |    |    |-- Reboot: long (nullable = true)\n |    |    |-- Relaxing: long (nullable = true)\n |    |    |-- Remake: long (nullable = true)\n |    |    |-- Replay Value: long (nullable = true)\n |    |    |-- Resource Management: long (nullable = true)\n |    |    |-- Retro: long (nullable = true)\n |    |    |-- Rhythm: long (nullable = true)\n |    |    |-- Robots: long (nullable = true)\n |    |    |-- Rock Music: long (nullable = true)\n |    |    |-- Rogue-like: long (nullable = true)\n |    |    |-- Rogue-lite: long (nullable = true)\n |    |    |-- Roguelike Deckbuilder: long (nullable = true)\n |    |    |-- Roguevania: long (nullable = true)\n |    |    |-- Romance: long (nullable = true)\n |    |    |-- Rome: long (nullable = true)\n |    |    |-- Rugby: long (nullable = true)\n |    |    |-- Runner: long (nullable = true)\n |    |    |-- Sailing: long (nullable = true)\n |    |    |-- Sandbox: long (nullable = true)\n |    |    |-- Satire: long (nullable = true)\n |    |    |-- Sci-fi: long (nullable = true)\n |    |    |-- Science: long (nullable = true)\n |    |    |-- Score Attack: long (nullable = true)\n |    |    |-- Sequel: long (nullable = true)\n |    |    |-- Sexual Content: long (nullable = true)\n |    |    |-- Shoot 'Em Up: long (nullable = true)\n |    |    |-- Shooter: long (nullable = true)\n |    |    |-- Shop Keeper: long (nullable = true)\n |    |    |-- Short: long (nullable = true)\n |    |    |-- Side Scroller: long (nullable = true)\n |    |    |-- Silent Protagonist: long (nullable = true)\n |    |    |-- Simulation: long (nullable = true)\n |    |    |-- Singleplayer: long (nullable = true)\n |    |    |-- Skateboarding: long (nullable = true)\n |    |    |-- Skating: long (nullable = true)\n |    |    |-- Skiing: long (nullable = true)\n |    |    |-- Sniper: long (nullable = true)\n |    |    |-- Snooker: long (nullable = true)\n |    |    |-- Snow: long (nullable = true)\n |    |    |-- Snowboarding: long (nullable = true)\n |    |    |-- Soccer: long (nullable = true)\n |    |    |-- Social Deduction: long (nullable = true)\n |    |    |-- Software: long (nullable = true)\n |    |    |-- Software Training: long (nullable = true)\n |    |    |-- Sokoban: long (nullable = true)\n |    |    |-- Solitaire: long (nullable = true)\n |    |    |-- Souls-like: long (nullable = true)\n |    |    |-- Soundtrack: long (nullable = true)\n |    |    |-- Space: long (nullable = true)\n |    |    |-- Space Sim: long (nullable = true)\n |    |    |-- Spaceships: long (nullable = true)\n |    |    |-- Spectacle fighter: long (nullable = true)\n |    |    |-- Spelling: long (nullable = true)\n |    |    |-- Split Screen: long (nullable = true)\n |    |    |-- Sports: long (nullable = true)\n |    |    |-- Stealth: long (nullable = true)\n |    |    |-- Steam Machine: long (nullable = true)\n |    |    |-- Steampunk: long (nullable = true)\n |    |    |-- Story Rich: long (nullable = true)\n |    |    |-- Strategy: long (nullable = true)\n |    |    |-- Strategy RPG: long (nullable = true)\n |    |    |-- Stylized: long (nullable = true)\n |    |    |-- Submarine: long (nullable = true)\n |    |    |-- Superhero: long (nullable = true)\n |    |    |-- Supernatural: long (nullable = true)\n |    |    |-- Surreal: long (nullable = true)\n |    |    |-- Survival: long (nullable = true)\n |    |    |-- Survival Horror: long (nullable = true)\n |    |    |-- Swordplay: long (nullable = true)\n |    |    |-- Tabletop: long (nullable = true)\n |    |    |-- Tactical: long (nullable = true)\n |    |    |-- Tactical RPG: long (nullable = true)\n |    |    |-- Tanks: long (nullable = true)\n |    |    |-- Team-Based: long (nullable = true)\n |    |    |-- Tennis: long (nullable = true)\n |    |    |-- Text-Based: long (nullable = true)\n |    |    |-- Third Person: long (nullable = true)\n |    |    |-- Third-Person Shooter: long (nullable = true)\n |    |    |-- Thriller: long (nullable = true)\n |    |    |-- Tile-Matching: long (nullable = true)\n |    |    |-- Time Attack: long (nullable = true)\n |    |    |-- Time Management: long (nullable = true)\n |    |    |-- Time Manipulation: long (nullable = true)\n |    |    |-- Time Travel: long (nullable = true)\n |    |    |-- Top-Down: long (nullable = true)\n |    |    |-- Top-Down Shooter: long (nullable = true)\n |    |    |-- Touch-Friendly: long (nullable = true)\n |    |    |-- Tower Defense: long (nullable = true)\n |    |    |-- TrackIR: long (nullable = true)\n |    |    |-- Trading: long (nullable = true)\n |    |    |-- Trading Card Game: long (nullable = true)\n |    |    |-- Traditional Roguelike: long (nullable = true)\n |    |    |-- Trains: long (nullable = true)\n |    |    |-- Transhumanism: long (nullable = true)\n |    |    |-- Transportation: long (nullable = true)\n |    |    |-- Trivia: long (nullable = true)\n |    |    |-- Turn-Based: long (nullable = true)\n |    |    |-- Turn-Based Combat: long (nullable = true)\n |    |    |-- Turn-Based Strategy: long (nullable = true)\n |    |    |-- Turn-Based Tactics: long (nullable = true)\n |    |    |-- Tutorial: long (nullable = true)\n |    |    |-- Twin Stick Shooter: long (nullable = true)\n |    |    |-- Typing: long (nullable = true)\n |    |    |-- Underground: long (nullable = true)\n |    |    |-- Underwater: long (nullable = true)\n |    |    |-- Unforgiving: long (nullable = true)\n |    |    |-- Utilities: long (nullable = true)\n |    |    |-- VR: long (nullable = true)\n |    |    |-- VR Only: long (nullable = true)\n |    |    |-- Vampire: long (nullable = true)\n |    |    |-- Vehicular Combat: long (nullable = true)\n |    |    |-- Video Production: long (nullable = true)\n |    |    |-- Vikings: long (nullable = true)\n |    |    |-- Villain Protagonist: long (nullable = true)\n |    |    |-- Violent: long (nullable = true)\n |    |    |-- Visual Novel: long (nullable = true)\n |    |    |-- Voice Control: long (nullable = true)\n |    |    |-- Volleyball: long (nullable = true)\n |    |    |-- Voxel: long (nullable = true)\n |    |    |-- Walking Simulator: long (nullable = true)\n |    |    |-- War: long (nullable = true)\n |    |    |-- Wargame: long (nullable = true)\n |    |    |-- Warhammer 40K: long (nullable = true)\n |    |    |-- Web Publishing: long (nullable = true)\n |    |    |-- Well-Written: long (nullable = true)\n |    |    |-- Werewolves: long (nullable = true)\n |    |    |-- Western: long (nullable = true)\n |    |    |-- Wholesome: long (nullable = true)\n |    |    |-- Word Game: long (nullable = true)\n |    |    |-- World War I: long (nullable = true)\n |    |    |-- World War II: long (nullable = true)\n |    |    |-- Wrestling: long (nullable = true)\n |    |    |-- Zombies: long (nullable = true)\n |    |    |-- e-sports: long (nullable = true)\n |    |-- type: string (nullable = true)\n |    |-- website: string (nullable = true)\n |-- id: string (nullable = true)\n |-- genre: string (nullable = true)\n |-- publisher: string (nullable = true)\n |-- platforms: struct (nullable = true)\n |    |-- linux: boolean (nullable = true)\n |    |-- mac: boolean (nullable = true)\n |    |-- windows: boolean (nullable = true)\n |-- positive: long (nullable = true)\n |-- negative: long (nullable = true)\n |-- categories: array (nullable = true)\n |    |-- element: string (containsNull = true)\n |-- name: string (nullable = true)\n |-- developer: string (nullable = true)\n |-- discount: string (nullable = true)\n |-- initialprice: string (nullable = true)\n |-- ccu: long (nullable = true)\n |-- release_date: string (nullable = true)\n |-- languages: string (nullable = true)\n |-- required_age: string (nullable = true)\n |-- price: integer (nullable = true)\n |-- promo: integer (nullable = true)\n |-- pegi: integer (nullable = true)\n |-- reviewsgood: integer (nullable = true)\n |-- reviewsneg: integer (nullable = true)\n\n"
     ]
    }
   ],
   "source": [
    "# Utilisez la fonction cast() pour convertir la colonne string en INTEGER\n",
    "dfint4 = dfint3.withColumn(\"reviewsneg\", col(\"negative\").cast(\"INTEGER\"))\n",
    "\n",
    "# Afficher le DataFrame résultant\n",
    "dfint4.show()\n",
    "\n",
    "dfint4.printSchema()"
   ]
  },
  {
   "cell_type": "code",
   "execution_count": 0,
   "metadata": {
    "application/vnd.databricks.v1+cell": {
     "cellMetadata": {
      "byteLimit": 2048000,
      "rowLimit": 10000
     },
     "inputWidgets": {},
     "nuid": "cf35c024-8957-4726-99c2-869b75a196f8",
     "showTitle": false,
     "title": ""
    }
   },
   "outputs": [],
   "source": [
    "from pyspark.sql.functions import to_date\n",
    "\n",
    "# Suppose df est votre DataFrame contenant les données\n",
    "# Utilisez la fonction to_date() pour convertir la chaîne en date\n",
    "dftets = dfint4.withColumn(\"date_column\", to_date(steam[\"release_date\"], \"yyyy/MM/d\"))"
   ]
  },
  {
   "cell_type": "code",
   "execution_count": 0,
   "metadata": {
    "application/vnd.databricks.v1+cell": {
     "cellMetadata": {
      "byteLimit": 2048000,
      "rowLimit": 10000
     },
     "inputWidgets": {},
     "nuid": "fc23ffc7-459a-4e75-8be1-af20533a14b4",
     "showTitle": false,
     "title": ""
    }
   },
   "outputs": [],
   "source": [
    "from pyspark.sql.functions import year, col\n",
    "\n",
    "# Suppose df est votre DataFrame contenant les données\n",
    "# Utilisez la fonction year() pour extraire l'année à partir de la colonne release_date\n",
    "dftt = dftets.withColumn(\"year\", year(col(\"date_column\")))"
   ]
  },
  {
   "cell_type": "code",
   "execution_count": 0,
   "metadata": {
    "application/vnd.databricks.v1+cell": {
     "cellMetadata": {
      "byteLimit": 2048000,
      "rowLimit": 10000
     },
     "inputWidgets": {},
     "nuid": "12eca44a-caea-4c74-8322-e1f3d97d4490",
     "showTitle": false,
     "title": ""
    }
   },
   "outputs": [
    {
     "output_type": "stream",
     "name": "stdout",
     "output_type": "stream",
     "text": [
      "+--------------------+-------+--------------------+----------------------------+--------------------+--------+--------+--------------------+------------------------------------+----------------------------+--------+------------+-----+------------+--------------------+------------+-----+-----+----+-----------+----------+-----------+----+\n|                data|     id|               genre|                   publisher|           platforms|positive|negative|          categories|                                name|                   developer|discount|initialprice|  ccu|release_date|           languages|required_age|price|promo|pegi|reviewsgood|reviewsneg|date_column|year|\n+--------------------+-------+--------------------+----------------------------+--------------------+--------+--------+--------------------+------------------------------------+----------------------------+--------+------------+-----+------------+--------------------+------------+-----+-----+----+-----------+----------+-----------+----+\n|{10, [Multi-playe...|     10|              Action|                       Valve|  {true, true, true}|  201215|    5199|[Multi-player, Va...|                      Counter-Strike|                       Valve|       0|         999|13990|   2000/11/1|English, French, ...|           0|  999|    0|   0|     201215|      5199| 2000-11-01|2000|\n|{1000000, [Single...|1000000|Action, Adventure...|        PsychoFlux Entert...|{false, false, true}|      27|       5|[Single-player, P...|                           ASCENXION|        IndigoBlue Game S...|       0|         999|    0|  2021/05/14|English, Korean, ...|           0|  999|    0|   0|         27|         5| 2021-05-14|2021|\n|{1000010, [Single...|1000010|Adventure, Indie,...|        Team17, NEXT Studios|{false, false, true}|    4032|     646|[Single-player, P...|                         Crown Trick|                NEXT Studios|      70|        1999|   99|  2020/10/16|Simplified Chines...|           0| 1999|   70|   0|       4032|       646| 2020-10-16|2020|\n|{1000030, [Multi-...|1000030|Action, Indie, Si...|         Vertigo Gaming Inc.| {false, true, true}|    1575|     115|[Multi-player, Si...|                Cook, Serve, Deli...|         Vertigo Gaming Inc.|       0|        1999|   76|  2020/10/14|             English|           0| 1999|    0|   0|       1575|       115| 2020-10-14|2020|\n|{1000040, [Single...|1000040|Action, Casual, I...|               DoubleC Games|{false, false, true}|       0|       1|     [Single-player]|                            细胞战争|               DoubleC Games|       0|         199|    0|  2019/03/30|  Simplified Chinese|           0|  199|    0|   0|          0|         1| 2019-03-30|2019|\n|{1000080, [Multi-...|1000080|Action, Adventure...|                    2P Games| {false, true, true}|    1018|     462|[Multi-player, Si...|                             Zengeon|          IndieLeague Studio|      60|        1999|    3|  2019/06/24|Simplified Chines...|           0| 1999|   60|   0|       1018|       462| 2019-06-24|2019|\n|{1000100, [Single...|1000100|Adventure, Indie,...|             Starship Studio|{false, false, true}|      18|       6|[Single-player, S...|干支セトラ　陽ノ卷｜干支etc.　陽之卷|                    七月九日|       0|        1299|    0|  2019/01/24|Japanese, Simplif...|           0| 1299|    0|   0|         18|         6| 2019-01-24|2019|\n|{1000110, [Multi-...|1000110|Action, Adventure...|          重庆环游者网络科技|{false, false, true}|      50|      34|[Multi-player, Si...|            Jumping Master(跳跳大咖)|          重庆环游者网络科技|       0|           0|    0|   2019/04/8|English, Simplifi...|           0|    0|    0|   0|         50|        34| 2019-04-08|2019|\n|{1000130, [Single...|1000130|       Casual, Indie|            Simon Codrington| {false, true, true}|       6|       0|[Single-player, S...|                       Cube Defender|            Simon Codrington|       0|         299|    0|   2019/01/6|             English|           0|  299|    0|   0|          6|         0| 2019-01-06|2019|\n|{1000280, [Single...|1000280|          Indie, RPG|                Villain Role|{false, false, true}|      32|      12|     [Single-player]|                Tower of Origin2-...|                Villain Role|       0|        1399|    0|   2021/09/9|English, Simplifi...|           0| 1399|    0|   0|         32|        12| 2021-09-09|2021|\n|{1000310, [Multi-...|1000310|Action, RPG, Stra...|海南众铖互娱网络科技有限公司|{false, false, true}|       1|       5|[Multi-player, Si...|                      人气动漫大乱斗|海南众铖互娱网络科技有限公司|       0|          99|    0|  2019/12/17|  Simplified Chinese|           0|   99|    0|   0|          1|         5| 2019-12-17|2019|\n|{1000360, [Multi-...|1000360|Action, Early Access|                      Kubold|{false, false, true}|    4031|     315|[Multi-player, Si...|                       Hellish Quart|                      Kubold|       0|        1699|   59|  2021/02/16|English, Simplifi...|           0| 1699|    0|   0|       4031|       315| 2021-02-16|2021|\n|{1000370, [Single...|1000370|               Indie|                 LFiO Studio|{false, false, true}|       0|       1|     [Single-player]|                      SurReal Subway|                 LFiO Studio|       0|           0|    0|   2019/01/3|             English|           0|    0|    0|   0|          0|         1| 2019-01-03|2019|\n|{1000380, [Single...|1000380|Action, Adventure...|            Fireroot Studios|{false, false, true}|     309|      87|[Single-player, S...|                        Rogue Reaper|            Fireroot Studios|       0|           0|    0|   2019/02/1|             English|           0|    0|    0|   0|        309|        87| 2019-02-01|2019|\n|{1000410, [Single...|1000410|Action, Early Access|        3D Realms, Fulqru...|{false, false, true}|    1212|     328|     [Single-player]|                 WRATH: Aeon of Ruin|                   KillPixel|       0|        2499|    6|  2019/11/22|             English|           0| 2499|    0|   0|       1212|       328| 2019-11-22|2019|\n|{1000470, [Single...|1000470|Adventure, Indie,...|                DarkDes Labs|{false, false, true}|      55|      13|[Single-player, S...|                Drawngeon: Dungeo...|                DarkDes Labs|       0|         499|    0|  2019/05/24|English, Russian,...|           0|  499|    0|   0|         55|        13| 2019-05-24|2019|\n|{1000480, [Single...|1000480|Action, Indie, RP...|                Meadow Games|  {true, true, true}|       9|       6|     [Single-player]|                       Battle Motion|                Meadow Games|       0|         999|    0|   2019/02/4|             English|           0|  999|    0|   0|          9|         6| 2019-02-04|2019|\n|{1000500, [Multi-...|1000500|Action, Casual, I...|                    Amonga99|  {true, true, true}|       9|       3|[Multi-player, Si...|                The Undisputables...|                    Amonga99|       0|         699|    0|   2021/12/5|English, French, ...|           0|  699|    0|   0|          9|         3| 2021-12-05|2021|\n|{1000510, [], 0, ...|1000510|           Education|            1337 Game Design|{false, false, true}|     104|      21|                  []|                The Marvellous Ma...|            1337 Game Design|       0|           0|    0|  2019/02/11|             English|           0|    0|    0|   0|        104|        21| 2019-02-11|2019|\n|{1000540, [Multi-...|1000540|Casual, Free to P...|              Hellride Games|{false, false, true}|      53|      12|[Multi-player, St...|                    Tactical Control|              Hellride Games|       0|           0|    0|  2019/03/21|             English|           0|    0|    0|   0|         53|        12| 2019-03-21|2019|\n+--------------------+-------+--------------------+----------------------------+--------------------+--------+--------+--------------------+------------------------------------+----------------------------+--------+------------+-----+------------+--------------------+------------+-----+-----+----+-----------+----------+-----------+----+\nonly showing top 20 rows\n\n"
     ]
    }
   ],
   "source": [
    "dftt.show()"
   ]
  },
  {
   "cell_type": "code",
   "execution_count": 0,
   "metadata": {
    "application/vnd.databricks.v1+cell": {
     "cellMetadata": {
      "byteLimit": 2048000,
      "rowLimit": 10000
     },
     "inputWidgets": {},
     "nuid": "204dca77-7038-4447-97ca-b4752e62fa29",
     "showTitle": false,
     "title": ""
    }
   },
   "outputs": [
    {
     "output_type": "stream",
     "name": "stdout",
     "output_type": "stream",
     "text": [
      "+--------------------+----------------------------+--------------------+--------------------+------------------------------------+----------------------------+-----+--------------------+-----+-----+----+-----------+----------+-----------+----+\n|               genre|                   publisher|           platforms|          categories|                                name|                   developer|  ccu|           languages|price|promo|pegi|reviewsgood|reviewsneg|date_column|year|\n+--------------------+----------------------------+--------------------+--------------------+------------------------------------+----------------------------+-----+--------------------+-----+-----+----+-----------+----------+-----------+----+\n|              Action|                       Valve|  {true, true, true}|[Multi-player, Va...|                      Counter-Strike|                       Valve|13990|English, French, ...|  999|    0|   0|     201215|      5199| 2000-11-01|2000|\n|Action, Adventure...|        PsychoFlux Entert...|{false, false, true}|[Single-player, P...|                           ASCENXION|        IndigoBlue Game S...|    0|English, Korean, ...|  999|    0|   0|         27|         5| 2021-05-14|2021|\n|Adventure, Indie,...|        Team17, NEXT Studios|{false, false, true}|[Single-player, P...|                         Crown Trick|                NEXT Studios|   99|Simplified Chines...| 1999|   70|   0|       4032|       646| 2020-10-16|2020|\n|Action, Indie, Si...|         Vertigo Gaming Inc.| {false, true, true}|[Multi-player, Si...|                Cook, Serve, Deli...|         Vertigo Gaming Inc.|   76|             English| 1999|    0|   0|       1575|       115| 2020-10-14|2020|\n|Action, Casual, I...|               DoubleC Games|{false, false, true}|     [Single-player]|                            细胞战争|               DoubleC Games|    0|  Simplified Chinese|  199|    0|   0|          0|         1| 2019-03-30|2019|\n|Action, Adventure...|                    2P Games| {false, true, true}|[Multi-player, Si...|                             Zengeon|          IndieLeague Studio|    3|Simplified Chines...| 1999|   60|   0|       1018|       462| 2019-06-24|2019|\n|Adventure, Indie,...|             Starship Studio|{false, false, true}|[Single-player, S...|干支セトラ　陽ノ卷｜干支etc.　陽之卷|                    七月九日|    0|Japanese, Simplif...| 1299|    0|   0|         18|         6| 2019-01-24|2019|\n|Action, Adventure...|          重庆环游者网络科技|{false, false, true}|[Multi-player, Si...|            Jumping Master(跳跳大咖)|          重庆环游者网络科技|    0|English, Simplifi...|    0|    0|   0|         50|        34| 2019-04-08|2019|\n|       Casual, Indie|            Simon Codrington| {false, true, true}|[Single-player, S...|                       Cube Defender|            Simon Codrington|    0|             English|  299|    0|   0|          6|         0| 2019-01-06|2019|\n|          Indie, RPG|                Villain Role|{false, false, true}|     [Single-player]|                Tower of Origin2-...|                Villain Role|    0|English, Simplifi...| 1399|    0|   0|         32|        12| 2021-09-09|2021|\n|Action, RPG, Stra...|海南众铖互娱网络科技有限公司|{false, false, true}|[Multi-player, Si...|                      人气动漫大乱斗|海南众铖互娱网络科技有限公司|    0|  Simplified Chinese|   99|    0|   0|          1|         5| 2019-12-17|2019|\n|Action, Early Access|                      Kubold|{false, false, true}|[Multi-player, Si...|                       Hellish Quart|                      Kubold|   59|English, Simplifi...| 1699|    0|   0|       4031|       315| 2021-02-16|2021|\n|               Indie|                 LFiO Studio|{false, false, true}|     [Single-player]|                      SurReal Subway|                 LFiO Studio|    0|             English|    0|    0|   0|          0|         1| 2019-01-03|2019|\n|Action, Adventure...|            Fireroot Studios|{false, false, true}|[Single-player, S...|                        Rogue Reaper|            Fireroot Studios|    0|             English|    0|    0|   0|        309|        87| 2019-02-01|2019|\n|Action, Early Access|        3D Realms, Fulqru...|{false, false, true}|     [Single-player]|                 WRATH: Aeon of Ruin|                   KillPixel|    6|             English| 2499|    0|   0|       1212|       328| 2019-11-22|2019|\n|Adventure, Indie,...|                DarkDes Labs|{false, false, true}|[Single-player, S...|                Drawngeon: Dungeo...|                DarkDes Labs|    0|English, Russian,...|  499|    0|   0|         55|        13| 2019-05-24|2019|\n|Action, Indie, RP...|                Meadow Games|  {true, true, true}|     [Single-player]|                       Battle Motion|                Meadow Games|    0|             English|  999|    0|   0|          9|         6| 2019-02-04|2019|\n|Action, Casual, I...|                    Amonga99|  {true, true, true}|[Multi-player, Si...|                The Undisputables...|                    Amonga99|    0|English, French, ...|  699|    0|   0|          9|         3| 2021-12-05|2021|\n|           Education|            1337 Game Design|{false, false, true}|                  []|                The Marvellous Ma...|            1337 Game Design|    0|             English|    0|    0|   0|        104|        21| 2019-02-11|2019|\n|Casual, Free to P...|              Hellride Games|{false, false, true}|[Multi-player, St...|                    Tactical Control|              Hellride Games|    0|             English|    0|    0|   0|         53|        12| 2019-03-21|2019|\n+--------------------+----------------------------+--------------------+--------------------+------------------------------------+----------------------------+-----+--------------------+-----+-----+----+-----------+----------+-----------+----+\nonly showing top 20 rows\n\n"
     ]
    }
   ],
   "source": [
    "# Supprimez les colonnes non nécessaires\n",
    "columns_to_drop = ['data', 'id','release_date','initialprice','discount','required_age','positive','negative']  # Ajoutez les colonnes à supprimer ici\n",
    "steam = dftt.drop(*columns_to_drop)\n",
    "\n",
    "# Affichez le DataFrame résultant\n",
    "steam.show()"
   ]
  },
  {
   "cell_type": "markdown",
   "metadata": {
    "application/vnd.databricks.v1+cell": {
     "cellMetadata": {
      "byteLimit": 2048000,
      "rowLimit": 10000
     },
     "inputWidgets": {},
     "nuid": "9897b83f-0d31-4e6e-8512-4414ec6a00b9",
     "showTitle": false,
     "title": ""
    }
   },
   "source": [
    "## <div style=\"text-align: center;text-decoration: underline;\">Analyse au niveau « macro »<br><br> ![Analyse au niveau « macro »](https://eminence.ch/wp-content/uploads/2023/09/Data_Analytics_2-3.png) </div> "
   ]
  },
  {
   "cell_type": "code",
   "execution_count": 0,
   "metadata": {
    "application/vnd.databricks.v1+cell": {
     "cellMetadata": {
      "byteLimit": 2048000,
      "rowLimit": 10000
     },
     "inputWidgets": {},
     "nuid": "4a9fe5ed-ef9f-46a6-9b58-65a5be8656d8",
     "showTitle": false,
     "title": ""
    }
   },
   "outputs": [
    {
     "output_type": "stream",
     "name": "stdout",
     "output_type": "stream",
     "text": [
      "+----+----------+\n|year|count_year|\n+----+----------+\n|2021|      8805|\n|2020|      8287|\n|2018|      7663|\n|2022|      7451|\n|2019|      6949|\n|2017|      6006|\n|2016|      4176|\n|2015|      2566|\n|2014|      1550|\n|2013|       469|\n|2012|       344|\n|2009|       309|\n|2010|       281|\n|2011|       267|\n|null|       222|\n|2008|       159|\n|2007|        98|\n|2006|        61|\n|2004|         6|\n|2005|         6|\n+----+----------+\nonly showing top 20 rows\n\n"
     ]
    }
   ],
   "source": [
    "#####  Y a-t-il des années avec plus de sorties ? Y a-t-il eu plus ou moins de sorties de jeux pendant le Covid par exemple ?\n",
    "\n",
    "# Utilisez groupBy() pour grouper par une colonne et appliquer une opération d'agrégation\n",
    "resultannee = steam.groupBy(\"year\").agg(count(\"*\").alias(\"count_year\"))\n",
    "\n",
    "# Triez les résultats par ordre décroissant\n",
    "resultannee = resultannee.orderBy(\"count_year\", ascending=False)\n",
    "\n",
    "# Affichez le résultat\n",
    "resultannee.show()\n"
   ]
  },
  {
   "cell_type": "code",
   "execution_count": 0,
   "metadata": {
    "application/vnd.databricks.v1+cell": {
     "cellMetadata": {
      "byteLimit": 2048000,
      "rowLimit": 10000
     },
     "inputWidgets": {},
     "nuid": "14b8a4c2-f7cc-44c9-bb4d-6815a8894167",
     "showTitle": false,
     "title": ""
    }
   },
   "outputs": [
    {
     "output_type": "display_data",
     "data": {
      "text/html": [
       "<style scoped>\n",
       "  .table-result-container {\n",
       "    max-height: 300px;\n",
       "    overflow: auto;\n",
       "  }\n",
       "  table, th, td {\n",
       "    border: 1px solid black;\n",
       "    border-collapse: collapse;\n",
       "  }\n",
       "  th, td {\n",
       "    padding: 5px;\n",
       "  }\n",
       "  th {\n",
       "    text-align: left;\n",
       "  }\n",
       "</style><div class='table-result-container'><table class='table-result'><thead style='background-color: white'><tr><th>year</th><th>count_year</th></tr></thead><tbody><tr><td>2021</td><td>8805</td></tr><tr><td>2020</td><td>8287</td></tr><tr><td>2018</td><td>7663</td></tr><tr><td>2022</td><td>7451</td></tr><tr><td>2019</td><td>6949</td></tr><tr><td>2017</td><td>6006</td></tr><tr><td>2016</td><td>4176</td></tr><tr><td>2015</td><td>2566</td></tr><tr><td>2014</td><td>1550</td></tr><tr><td>2013</td><td>469</td></tr><tr><td>2012</td><td>344</td></tr><tr><td>2009</td><td>309</td></tr><tr><td>2010</td><td>281</td></tr><tr><td>2011</td><td>267</td></tr><tr><td>null</td><td>222</td></tr><tr><td>2008</td><td>159</td></tr><tr><td>2007</td><td>98</td></tr><tr><td>2006</td><td>61</td></tr><tr><td>2004</td><td>6</td></tr><tr><td>2005</td><td>6</td></tr><tr><td>2001</td><td>4</td></tr><tr><td>2003</td><td>3</td></tr><tr><td>1999</td><td>3</td></tr><tr><td>1997</td><td>2</td></tr><tr><td>2000</td><td>2</td></tr><tr><td>1998</td><td>1</td></tr><tr><td>2002</td><td>1</td></tr></tbody></table></div>"
      ]
     },
     "metadata": {
      "application/vnd.databricks.v1+output": {
       "addedWidgets": {},
       "aggData": [],
       "aggError": "",
       "aggOverflow": false,
       "aggSchema": [],
       "aggSeriesLimitReached": false,
       "aggType": "",
       "arguments": {},
       "columnCustomDisplayInfos": {},
       "data": [
        [
         2021,
         8805
        ],
        [
         2020,
         8287
        ],
        [
         2018,
         7663
        ],
        [
         2022,
         7451
        ],
        [
         2019,
         6949
        ],
        [
         2017,
         6006
        ],
        [
         2016,
         4176
        ],
        [
         2015,
         2566
        ],
        [
         2014,
         1550
        ],
        [
         2013,
         469
        ],
        [
         2012,
         344
        ],
        [
         2009,
         309
        ],
        [
         2010,
         281
        ],
        [
         2011,
         267
        ],
        [
         null,
         222
        ],
        [
         2008,
         159
        ],
        [
         2007,
         98
        ],
        [
         2006,
         61
        ],
        [
         2004,
         6
        ],
        [
         2005,
         6
        ],
        [
         2001,
         4
        ],
        [
         2003,
         3
        ],
        [
         1999,
         3
        ],
        [
         1997,
         2
        ],
        [
         2000,
         2
        ],
        [
         1998,
         1
        ],
        [
         2002,
         1
        ]
       ],
       "datasetInfos": [],
       "dbfsResultPath": null,
       "isJsonSchema": true,
       "metadata": {},
       "overflow": false,
       "plotOptions": {
        "customPlotOptions": {},
        "displayType": "table",
        "pivotAggregation": null,
        "pivotColumns": null,
        "xColumns": null,
        "yColumns": null
       },
       "removedWidgets": [],
       "schema": [
        {
         "metadata": "{}",
         "name": "year",
         "type": "\"integer\""
        },
        {
         "metadata": "{}",
         "name": "count_year",
         "type": "\"long\""
        }
       ],
       "type": "table"
      }
     },
     "output_type": "display_data"
    },
    {
     "output_type": "display_data",
     "data": {
      "text/plain": [
       "Databricks visualization. Run in Databricks to view."
      ]
     },
     "metadata": {
      "application/vnd.databricks.v1.subcommand+json": {
       "baseErrorDetails": null,
       "bindings": {},
       "collapsed": false,
       "command": "%python\n__backend_agg_display_orig = display\n__backend_agg_dfs = []\ndef __backend_agg_display_new(df):\n    __backend_agg_df_modules = [\"pandas.core.frame\", \"databricks.koalas.frame\", \"pyspark.sql.dataframe\", \"pyspark.pandas.frame\", \"pyspark.sql.connect.dataframe\"]\n    if (type(df).__module__ in __backend_agg_df_modules and type(df).__name__ == 'DataFrame') or isinstance(df, list):\n        __backend_agg_dfs.append(df)\n\ndisplay = __backend_agg_display_new\n\ndef __backend_agg_user_code_fn():\n    import base64\n    exec(base64.standard_b64decode(\"ZGlzcGxheShyZXN1bHRhbm5lZSk=\").decode())\n\ntry:\n    # run user code\n    __backend_agg_user_code_fn()\n\n    #reset display function\n    display = __backend_agg_display_orig\n\n    if len(__backend_agg_dfs) > 0:\n        # create a temp view\n        if type(__backend_agg_dfs[0]).__module__ == \"databricks.koalas.frame\":\n            # koalas dataframe\n            __backend_agg_dfs[0].to_spark().createOrReplaceTempView(\"DatabricksViewad1adcd\")\n        elif type(__backend_agg_dfs[0]).__module__ == \"pandas.core.frame\" or isinstance(__backend_agg_dfs[0], list):\n            # pandas dataframe\n            spark.createDataFrame(__backend_agg_dfs[0]).createOrReplaceTempView(\"DatabricksViewad1adcd\")\n        else:\n            __backend_agg_dfs[0].createOrReplaceTempView(\"DatabricksViewad1adcd\")\n        #run backend agg\n        display(spark.sql(\"\"\"WITH q AS (select * from DatabricksViewad1adcd) SELECT `year`,SUM(`count_year`) `column_c32aa87d29` FROM q GROUP BY `year`\"\"\"))\n    else:\n        displayHTML(\"dataframe no longer exists. If you're using dataframe.display(), use display(dataframe) instead.\")\n\n\nfinally:\n    spark.sql(\"drop view if exists DatabricksViewad1adcd\")\n    display = __backend_agg_display_orig\n    del __backend_agg_display_new\n    del __backend_agg_display_orig\n    del __backend_agg_dfs\n    del __backend_agg_user_code_fn\n\n",
       "commandTitle": "Visualisation 1",
       "commandType": "auto",
       "commandVersion": 0,
       "commentThread": [],
       "commentsVisible": false,
       "contentSha256Hex": null,
       "customPlotOptions": {
        "redashChart": [
         {
          "key": "type",
          "value": "CHART"
         },
         {
          "key": "options",
          "value": {
           "alignYAxesAtZero": true,
           "coefficient": 1,
           "columnConfigurationMap": {
            "x": {
             "column": "year",
             "id": "column_c32aa87d28"
            },
            "y": [
             {
              "column": "count_year",
              "id": "column_c32aa87d29",
              "transform": "SUM"
             }
            ]
           },
           "dateTimeFormat": "DD/MM/YYYY",
           "direction": {
            "type": "counterclockwise"
           },
           "error_y": {
            "type": "data",
            "visible": true
           },
           "globalSeriesType": "column",
           "hideXAxis": false,
           "isAggregationOn": true,
           "legend": {
            "traceorder": "normal"
           },
           "missingValuesAsZero": true,
           "numberFormat": "0,0.[00000]",
           "percentFormat": "0[.]00%",
           "reverseX": false,
           "series": {
            "error_y": {
             "type": "data",
             "visible": true
            },
            "stacking": null
           },
           "seriesOptions": {
            "column_c32aa87d29": {
             "name": "count_year",
             "type": "column",
             "yAxis": 0,
             "zIndex": 0
            }
           },
           "showDataLabels": true,
           "sizemode": "diameter",
           "sortX": true,
           "sortY": true,
           "swappedAxes": false,
           "textFormat": "",
           "useAggregationsUi": true,
           "valuesOptions": {},
           "version": 2,
           "xAxis": {
            "labels": {
             "enabled": true
            },
            "title": {
             "text": "Years"
            },
            "type": "category"
           },
           "yAxis": [
            {
             "title": {
              "text": "Nnumber of games per year"
             },
             "type": "-"
            },
            {
             "opposite": true,
             "title": {
              "text": null
             },
             "type": "-"
            }
           ]
          }
         }
        ]
       },
       "datasetPreviewNameToCmdIdMap": {},
       "diffDeletes": [],
       "diffInserts": [],
       "displayType": "redashChart",
       "error": null,
       "errorDetails": null,
       "errorSummary": null,
       "errorTraceType": null,
       "finishTime": 0,
       "globalVars": {},
       "guid": "",
       "height": "auto",
       "hideCommandCode": false,
       "hideCommandResult": false,
       "iPythonMetadata": null,
       "inputWidgets": {},
       "isLockedInExamMode": false,
       "latestUser": "a user",
       "latestUserId": null,
       "listResultMetadata": null,
       "metadata": {
        "byteLimit": 2048000,
        "rowLimit": 10000
       },
       "nuid": "2a575918-1b06-4267-b3bc-7619cbda82b1",
       "origId": 0,
       "parentHierarchy": [],
       "pivotAggregation": null,
       "pivotColumns": null,
       "position": 8.5,
       "resultDbfsErrorMessage": null,
       "resultDbfsStatus": "INLINED_IN_TREE",
       "results": null,
       "showCommandTitle": false,
       "startTime": 0,
       "state": "finished",
       "streamStates": {},
       "subcommandOptions": {
        "queryPlan": {
         "groups": [
          {
           "column": "year",
           "type": "column"
          }
         ],
         "selects": [
          {
           "column": "year",
           "type": "column"
          },
          {
           "alias": "column_c32aa87d29",
           "args": [
            {
             "column": "count_year",
             "type": "column"
            }
           ],
           "function": "SUM",
           "type": "function"
          }
         ]
        }
       },
       "submitTime": 0,
       "subtype": "tableResultSubCmd.visualization",
       "tableResultIndex": 0,
       "useConsistentColors": false,
       "version": "CommandV1",
       "width": "auto",
       "workflows": [],
       "xColumns": null,
       "yColumns": null
      }
     },
     "output_type": "display_data"
    }
   ],
   "source": [
    "display(resultannee)"
   ]
  },
  {
   "cell_type": "code",
   "execution_count": 0,
   "metadata": {
    "application/vnd.databricks.v1+cell": {
     "cellMetadata": {
      "byteLimit": 2048000,
      "rowLimit": 10000
     },
     "inputWidgets": {},
     "nuid": "bacf9872-12f9-4b18-9974-79345c949385",
     "showTitle": false,
     "title": ""
    }
   },
   "outputs": [
    {
     "output_type": "stream",
     "name": "stdout",
     "output_type": "stream",
     "text": [
      "+--------------------+-----+\n|           publisher|count|\n+--------------------+-----+\n|      Big Fish Games|  422|\n|              8floor|  202|\n|                SEGA|  165|\n|      Strategy First|  151|\n|         Square Enix|  141|\n|     Choice of Games|  140|\n|       Sekai Project|  132|\n|            HH-Games|  132|\n|                    |  132|\n|             Ubisoft|  127|\n|        Laush Studio|  126|\n|          THQ Nordic|  125|\n|Alawar Entertainment|  107|\n|  Fulqrum Publishing|  104|\n|     Plug In Digital|  101|\n|            Ziggurat|  100|\n|     Slitherine Ltd.|   99|\n|   Sokpop Collective|   99|\n|    Devolver Digital|   98|\n|KOEI TECMO GAMES ...|   90|\n+--------------------+-----+\nonly showing top 20 rows\n\n"
     ]
    }
   ],
   "source": [
    "#####  Quel éditeur a sorti le plus de jeux sur Steam ?\n",
    "\n",
    "# Utilisez groupBy() pour grouper par une colonne et appliquer une opération d'agrégation\n",
    "result = steam.groupBy(\"publisher\").agg(count(\"*\").alias(\"count\"))\n",
    "\n",
    "# Triez les résultats par ordre décroissant\n",
    "result = result.orderBy(\"count\", ascending=False)\n",
    "\n",
    "# Affichez le résultat\n",
    "result.show()\n"
   ]
  },
  {
   "cell_type": "code",
   "execution_count": 0,
   "metadata": {
    "application/vnd.databricks.v1+cell": {
     "cellMetadata": {
      "byteLimit": 2048000,
      "rowLimit": 10000
     },
     "inputWidgets": {},
     "nuid": "fb439bce-48cb-4dd4-8b6e-ccd1d75d6745",
     "showTitle": false,
     "title": ""
    }
   },
   "outputs": [
    {
     "output_type": "stream",
     "name": "stdout",
     "output_type": "stream",
     "text": [
      "+--------------------+-----------+--------+\n|                name|reviewsgood|count(1)|\n+--------------------+-----------+--------+\n|Counter-Strike: G...|    5943345|       1|\n|              Dota 2|    1534895|       1|\n|  Grand Theft Auto V|    1229265|       1|\n| PUBG: BATTLEGROUNDS|    1185361|       1|\n|            Terraria|    1014711|       1|\n|Tom Clancy's Rain...|     942910|       1|\n|         Garry's Mod|     861240|       1|\n|     Team Fortress 2|     846407|       1|\n|                Rust|     732513|       1|\n|       Left 4 Dead 2|     643836|       1|\n|The Witcher 3: Wi...|     632627|       1|\n|            Among Us|     586302|       1|\n|Euro Truck Simula...|     572368|       1|\n|    Wallpaper Engine|     561096|       1|\n|            PAYDAY 2|     532013|       1|\n|    Dead by Daylight|     509637|       1|\n|      Stardew Valley|     497558|       1|\n|       Rocket League|     496499|       1|\n|          ELDEN RING|     490203|       1|\n|ARK: Survival Evo...|     481318|       1|\n+--------------------+-----------+--------+\nonly showing top 20 rows\n\n"
     ]
    }
   ],
   "source": [
    "#####  Quels sont les jeux les mieux notés ?\n",
    "\n",
    "# Utilisez groupBy() pour grouper par une colonne et appliquer une opération d'agrégation\n",
    "result1 = steam.groupBy(\"name\", \"reviewsgood\").agg(count(\"*\"))\n",
    "\n",
    "# Triez les résultats par ordre décroissant\n",
    "result1 = result1.orderBy(\"reviewsgood\", ascending=False)\n",
    "\n",
    "# Affichez le résultat\n",
    "result1.show()"
   ]
  },
  {
   "cell_type": "code",
   "execution_count": 0,
   "metadata": {
    "application/vnd.databricks.v1+cell": {
     "cellMetadata": {
      "byteLimit": 2048000,
      "rowLimit": 10000
     },
     "inputWidgets": {},
     "nuid": "86c2a29c-cc1d-4f3f-a147-a4b497b8d74f",
     "showTitle": false,
     "title": ""
    }
   },
   "outputs": [
    {
     "output_type": "stream",
     "name": "stdout",
     "output_type": "stream",
     "text": [
      "+-----+-----+\n|price|count|\n+-----+-----+\n|    0| 7780|\n|  499| 6518|\n|  999| 6336|\n|   99| 5441|\n|  199| 4285|\n|  299| 3738|\n| 1499| 3027|\n| 1999| 2992|\n|  399| 2591|\n|  699| 1964|\n|  599| 1926|\n|  799| 1631|\n| 2499|  936|\n| 2999|  906|\n| 1299|  851|\n| 1199|  850|\n|  899|  756|\n| 1099|  460|\n| 3999|  447|\n| 1799|  297|\n+-----+-----+\nonly showing top 20 rows\n\n"
     ]
    }
   ],
   "source": [
    "#####  Comment sont distribués les prix ?\n",
    "\n",
    "# Calculer la distribution des prix en termes de fréquence\n",
    "result2 = steam.groupBy(\"price\").agg(count(\"*\").alias(\"count\"))\n",
    "                                                              \n",
    "# Triez\n",
    "distribution_prix = result2.orderBy(\"count\", ascending=False)                 \n",
    "\n",
    "# Afficher le résultat\n",
    "distribution_prix.show()"
   ]
  },
  {
   "cell_type": "code",
   "execution_count": 0,
   "metadata": {
    "application/vnd.databricks.v1+cell": {
     "cellMetadata": {
      "byteLimit": 2048000,
      "rowLimit": 10000
     },
     "inputWidgets": {},
     "nuid": "44b48889-2ebd-45fa-b499-040f207ad5e8",
     "showTitle": false,
     "title": ""
    }
   },
   "outputs": [
    {
     "output_type": "display_data",
     "data": {
      "text/html": [
       "<style scoped>\n",
       "  .table-result-container {\n",
       "    max-height: 300px;\n",
       "    overflow: auto;\n",
       "  }\n",
       "  table, th, td {\n",
       "    border: 1px solid black;\n",
       "    border-collapse: collapse;\n",
       "  }\n",
       "  th, td {\n",
       "    padding: 5px;\n",
       "  }\n",
       "  th {\n",
       "    text-align: left;\n",
       "  }\n",
       "</style><div class='table-result-container'><table class='table-result'><thead style='background-color: white'><tr><th>price</th><th>count</th></tr></thead><tbody><tr><td>0</td><td>7780</td></tr><tr><td>499</td><td>6518</td></tr><tr><td>999</td><td>6336</td></tr><tr><td>99</td><td>5441</td></tr><tr><td>199</td><td>4285</td></tr><tr><td>299</td><td>3738</td></tr><tr><td>1499</td><td>3027</td></tr><tr><td>1999</td><td>2992</td></tr><tr><td>399</td><td>2591</td></tr><tr><td>699</td><td>1964</td></tr><tr><td>599</td><td>1926</td></tr><tr><td>799</td><td>1631</td></tr><tr><td>2499</td><td>936</td></tr><tr><td>2999</td><td>906</td></tr><tr><td>1299</td><td>851</td></tr><tr><td>1199</td><td>850</td></tr><tr><td>899</td><td>756</td></tr><tr><td>1099</td><td>460</td></tr><tr><td>3999</td><td>447</td></tr><tr><td>1799</td><td>297</td></tr><tr><td>1399</td><td>272</td></tr><tr><td>1599</td><td>228</td></tr><tr><td>4999</td><td>200</td></tr><tr><td>5999</td><td>194</td></tr><tr><td>1699</td><td>189</td></tr><tr><td>3499</td><td>161</td></tr><tr><td>1899</td><td>150</td></tr><tr><td>4499</td><td>47</td></tr><tr><td>90</td><td>34</td></tr><tr><td>6999</td><td>27</td></tr><tr><td>9999</td><td>24</td></tr><tr><td>500</td><td>20</td></tr><tr><td>19999</td><td>18</td></tr><tr><td>100</td><td>17</td></tr><tr><td>5499</td><td>15</td></tr><tr><td>7999</td><td>14</td></tr><tr><td>2199</td><td>12</td></tr><tr><td>249</td><td>12</td></tr><tr><td>1500</td><td>10</td></tr><tr><td>1000</td><td>10</td></tr><tr><td>300</td><td>9</td></tr><tr><td>149</td><td>9</td></tr><tr><td>420</td><td>8</td></tr><tr><td>7499</td><td>7</td></tr><tr><td>6499</td><td>7</td></tr><tr><td>200</td><td>7</td></tr><tr><td>14999</td><td>6</td></tr><tr><td>1249</td><td>6</td></tr><tr><td>2299</td><td>6</td></tr><tr><td>400</td><td>6</td></tr><tr><td>990</td><td>6</td></tr><tr><td>150</td><td>6</td></tr><tr><td>8999</td><td>5</td></tr><tr><td>250</td><td>5</td></tr><tr><td>2399</td><td>5</td></tr><tr><td>600</td><td>5</td></tr><tr><td>349</td><td>5</td></tr><tr><td>12999</td><td>5</td></tr><tr><td>2000</td><td>5</td></tr><tr><td>129</td><td>4</td></tr><tr><td>1200</td><td>4</td></tr><tr><td>9499</td><td>4</td></tr><tr><td>749</td><td>4</td></tr><tr><td>529</td><td>4</td></tr><tr><td>2699</td><td>3</td></tr><tr><td>666</td><td>3</td></tr><tr><td>2099</td><td>3</td></tr><tr><td>800</td><td>3</td></tr><tr><td>449</td><td>3</td></tr><tr><td>2500</td><td>3</td></tr><tr><td>9900</td><td>2</td></tr><tr><td>1990</td><td>2</td></tr><tr><td>3595</td><td>2</td></tr><tr><td>995</td><td>2</td></tr><tr><td>2998</td><td>2</td></tr><tr><td>397</td><td>2</td></tr><tr><td>900</td><td>2</td></tr><tr><td>2899</td><td>2</td></tr><tr><td>98</td><td>2</td></tr><tr><td>1995</td><td>2</td></tr><tr><td>639</td><td>2</td></tr><tr><td>147</td><td>2</td></tr><tr><td>379</td><td>2</td></tr><tr><td>11999</td><td>2</td></tr><tr><td>1449</td><td>2</td></tr><tr><td>1900</td><td>2</td></tr><tr><td>1025</td><td>1</td></tr><tr><td>3000</td><td>1</td></tr><tr><td>4000</td><td>1</td></tr><tr><td>898</td><td>1</td></tr><tr><td>5995</td><td>1</td></tr><tr><td>133</td><td>1</td></tr><tr><td>2479</td><td>1</td></tr><tr><td>1510</td><td>1</td></tr><tr><td>577</td><td>1</td></tr><tr><td>159</td><td>1</td></tr><tr><td>329</td><td>1</td></tr><tr><td>350</td><td>1</td></tr><tr><td>24900</td><td>1</td></tr><tr><td>3196</td><td>1</td></tr><tr><td>3990</td><td>1</td></tr><tr><td>3500</td><td>1</td></tr><tr><td>388</td><td>1</td></tr><tr><td>6495</td><td>1</td></tr><tr><td>1777</td><td>1</td></tr><tr><td>1290</td><td>1</td></tr><tr><td>333</td><td>1</td></tr><tr><td>222</td><td>1</td></tr><tr><td>1295</td><td>1</td></tr><tr><td>230</td><td>1</td></tr><tr><td>360</td><td>1</td></tr><tr><td>519</td><td>1</td></tr><tr><td>140</td><td>1</td></tr><tr><td>4498</td><td>1</td></tr><tr><td>2109</td><td>1</td></tr><tr><td>386</td><td>1</td></tr><tr><td>259</td><td>1</td></tr><tr><td>777</td><td>1</td></tr><tr><td>1190</td><td>1</td></tr><tr><td>631</td><td>1</td></tr><tr><td>998</td><td>1</td></tr><tr><td>142</td><td>1</td></tr><tr><td>1997</td><td>1</td></tr><tr><td>169</td><td>1</td></tr><tr><td>479</td><td>1</td></tr><tr><td>5274</td><td>1</td></tr><tr><td>969</td><td>1</td></tr><tr><td>1029</td><td>1</td></tr><tr><td>430</td><td>1</td></tr><tr><td>929</td><td>1</td></tr><tr><td>1240</td><td>1</td></tr><tr><td>590</td><td>1</td></tr><tr><td>179</td><td>1</td></tr><tr><td>189</td><td>1</td></tr><tr><td>819</td><td>1</td></tr><tr><td>3199</td><td>1</td></tr><tr><td>1949</td><td>1</td></tr><tr><td>2004</td><td>1</td></tr><tr><td>1600</td><td>1</td></tr><tr><td>1969</td><td>1</td></tr><tr><td>4500</td><td>1</td></tr><tr><td>610</td><td>1</td></tr><tr><td>3900</td><td>1</td></tr><tr><td>698</td><td>1</td></tr><tr><td>290</td><td>1</td></tr><tr><td>4495</td><td>1</td></tr><tr><td>229</td><td>1</td></tr><tr><td>5795</td><td>1</td></tr><tr><td>890</td><td>1</td></tr><tr><td>495</td><td>1</td></tr><tr><td>1996</td><td>1</td></tr><tr><td>549</td><td>1</td></tr><tr><td>136</td><td>1</td></tr><tr><td>14900</td><td>1</td></tr><tr><td>565</td><td>1</td></tr><tr><td>1495</td><td>1</td></tr><tr><td>649</td><td>1</td></tr><tr><td>1313</td><td>1</td></tr><tr><td>706</td><td>1</td></tr><tr><td>389</td><td>1</td></tr><tr><td>459</td><td>1</td></tr><tr><td>2397</td><td>1</td></tr><tr><td>750</td><td>1</td></tr><tr><td>50</td><td>1</td></tr><tr><td>293</td><td>1</td></tr><tr><td>26999</td><td>1</td></tr><tr><td>288</td><td>1</td></tr><tr><td>245</td><td>1</td></tr><tr><td>795</td><td>1</td></tr><tr><td>1558</td><td>1</td></tr><tr><td>2260</td><td>1</td></tr><tr><td>1666</td><td>1</td></tr><tr><td>558</td><td>1</td></tr><tr><td>3599</td><td>1</td></tr><tr><td>550</td><td>1</td></tr><tr><td>2449</td><td>1</td></tr><tr><td>1337</td><td>1</td></tr><tr><td>1450</td><td>1</td></tr><tr><td>195</td><td>1</td></tr><tr><td>8499</td><td>1</td></tr><tr><td>433</td><td>1</td></tr><tr><td>6903</td><td>1</td></tr><tr><td>680</td><td>1</td></tr><tr><td>12499</td><td>1</td></tr><tr><td>488</td><td>1</td></tr><tr><td>145</td><td>1</td></tr><tr><td>1149</td><td>1</td></tr><tr><td>2990</td><td>1</td></tr><tr><td>188</td><td>1</td></tr><tr><td>888</td><td>1</td></tr><tr><td>369</td><td>1</td></tr><tr><td>198</td><td>1</td></tr><tr><td>29990</td><td>1</td></tr><tr><td>99900</td><td>1</td></tr><tr><td>1984</td><td>1</td></tr><tr><td>3299</td><td>1</td></tr><tr><td>700</td><td>1</td></tr><tr><td>2995</td><td>1</td></tr><tr><td>3939</td><td>1</td></tr><tr><td>2799</td><td>1</td></tr><tr><td>6995</td><td>1</td></tr><tr><td>2599</td><td>1</td></tr><tr><td>187</td><td>1</td></tr></tbody></table></div>"
      ]
     },
     "metadata": {
      "application/vnd.databricks.v1+output": {
       "addedWidgets": {},
       "aggData": [],
       "aggError": "",
       "aggOverflow": false,
       "aggSchema": [],
       "aggSeriesLimitReached": false,
       "aggType": "",
       "arguments": {},
       "columnCustomDisplayInfos": {},
       "data": [
        [
         0,
         7780
        ],
        [
         499,
         6518
        ],
        [
         999,
         6336
        ],
        [
         99,
         5441
        ],
        [
         199,
         4285
        ],
        [
         299,
         3738
        ],
        [
         1499,
         3027
        ],
        [
         1999,
         2992
        ],
        [
         399,
         2591
        ],
        [
         699,
         1964
        ],
        [
         599,
         1926
        ],
        [
         799,
         1631
        ],
        [
         2499,
         936
        ],
        [
         2999,
         906
        ],
        [
         1299,
         851
        ],
        [
         1199,
         850
        ],
        [
         899,
         756
        ],
        [
         1099,
         460
        ],
        [
         3999,
         447
        ],
        [
         1799,
         297
        ],
        [
         1399,
         272
        ],
        [
         1599,
         228
        ],
        [
         4999,
         200
        ],
        [
         5999,
         194
        ],
        [
         1699,
         189
        ],
        [
         3499,
         161
        ],
        [
         1899,
         150
        ],
        [
         4499,
         47
        ],
        [
         90,
         34
        ],
        [
         6999,
         27
        ],
        [
         9999,
         24
        ],
        [
         500,
         20
        ],
        [
         19999,
         18
        ],
        [
         100,
         17
        ],
        [
         5499,
         15
        ],
        [
         7999,
         14
        ],
        [
         2199,
         12
        ],
        [
         249,
         12
        ],
        [
         1500,
         10
        ],
        [
         1000,
         10
        ],
        [
         300,
         9
        ],
        [
         149,
         9
        ],
        [
         420,
         8
        ],
        [
         7499,
         7
        ],
        [
         6499,
         7
        ],
        [
         200,
         7
        ],
        [
         14999,
         6
        ],
        [
         1249,
         6
        ],
        [
         2299,
         6
        ],
        [
         400,
         6
        ],
        [
         990,
         6
        ],
        [
         150,
         6
        ],
        [
         8999,
         5
        ],
        [
         250,
         5
        ],
        [
         2399,
         5
        ],
        [
         600,
         5
        ],
        [
         349,
         5
        ],
        [
         12999,
         5
        ],
        [
         2000,
         5
        ],
        [
         129,
         4
        ],
        [
         1200,
         4
        ],
        [
         9499,
         4
        ],
        [
         749,
         4
        ],
        [
         529,
         4
        ],
        [
         2699,
         3
        ],
        [
         666,
         3
        ],
        [
         2099,
         3
        ],
        [
         800,
         3
        ],
        [
         449,
         3
        ],
        [
         2500,
         3
        ],
        [
         9900,
         2
        ],
        [
         1990,
         2
        ],
        [
         3595,
         2
        ],
        [
         995,
         2
        ],
        [
         2998,
         2
        ],
        [
         397,
         2
        ],
        [
         900,
         2
        ],
        [
         2899,
         2
        ],
        [
         98,
         2
        ],
        [
         1995,
         2
        ],
        [
         639,
         2
        ],
        [
         147,
         2
        ],
        [
         379,
         2
        ],
        [
         11999,
         2
        ],
        [
         1449,
         2
        ],
        [
         1900,
         2
        ],
        [
         1025,
         1
        ],
        [
         3000,
         1
        ],
        [
         4000,
         1
        ],
        [
         898,
         1
        ],
        [
         5995,
         1
        ],
        [
         133,
         1
        ],
        [
         2479,
         1
        ],
        [
         1510,
         1
        ],
        [
         577,
         1
        ],
        [
         159,
         1
        ],
        [
         329,
         1
        ],
        [
         350,
         1
        ],
        [
         24900,
         1
        ],
        [
         3196,
         1
        ],
        [
         3990,
         1
        ],
        [
         3500,
         1
        ],
        [
         388,
         1
        ],
        [
         6495,
         1
        ],
        [
         1777,
         1
        ],
        [
         1290,
         1
        ],
        [
         333,
         1
        ],
        [
         222,
         1
        ],
        [
         1295,
         1
        ],
        [
         230,
         1
        ],
        [
         360,
         1
        ],
        [
         519,
         1
        ],
        [
         140,
         1
        ],
        [
         4498,
         1
        ],
        [
         2109,
         1
        ],
        [
         386,
         1
        ],
        [
         259,
         1
        ],
        [
         777,
         1
        ],
        [
         1190,
         1
        ],
        [
         631,
         1
        ],
        [
         998,
         1
        ],
        [
         142,
         1
        ],
        [
         1997,
         1
        ],
        [
         169,
         1
        ],
        [
         479,
         1
        ],
        [
         5274,
         1
        ],
        [
         969,
         1
        ],
        [
         1029,
         1
        ],
        [
         430,
         1
        ],
        [
         929,
         1
        ],
        [
         1240,
         1
        ],
        [
         590,
         1
        ],
        [
         179,
         1
        ],
        [
         189,
         1
        ],
        [
         819,
         1
        ],
        [
         3199,
         1
        ],
        [
         1949,
         1
        ],
        [
         2004,
         1
        ],
        [
         1600,
         1
        ],
        [
         1969,
         1
        ],
        [
         4500,
         1
        ],
        [
         610,
         1
        ],
        [
         3900,
         1
        ],
        [
         698,
         1
        ],
        [
         290,
         1
        ],
        [
         4495,
         1
        ],
        [
         229,
         1
        ],
        [
         5795,
         1
        ],
        [
         890,
         1
        ],
        [
         495,
         1
        ],
        [
         1996,
         1
        ],
        [
         549,
         1
        ],
        [
         136,
         1
        ],
        [
         14900,
         1
        ],
        [
         565,
         1
        ],
        [
         1495,
         1
        ],
        [
         649,
         1
        ],
        [
         1313,
         1
        ],
        [
         706,
         1
        ],
        [
         389,
         1
        ],
        [
         459,
         1
        ],
        [
         2397,
         1
        ],
        [
         750,
         1
        ],
        [
         50,
         1
        ],
        [
         293,
         1
        ],
        [
         26999,
         1
        ],
        [
         288,
         1
        ],
        [
         245,
         1
        ],
        [
         795,
         1
        ],
        [
         1558,
         1
        ],
        [
         2260,
         1
        ],
        [
         1666,
         1
        ],
        [
         558,
         1
        ],
        [
         3599,
         1
        ],
        [
         550,
         1
        ],
        [
         2449,
         1
        ],
        [
         1337,
         1
        ],
        [
         1450,
         1
        ],
        [
         195,
         1
        ],
        [
         8499,
         1
        ],
        [
         433,
         1
        ],
        [
         6903,
         1
        ],
        [
         680,
         1
        ],
        [
         12499,
         1
        ],
        [
         488,
         1
        ],
        [
         145,
         1
        ],
        [
         1149,
         1
        ],
        [
         2990,
         1
        ],
        [
         188,
         1
        ],
        [
         888,
         1
        ],
        [
         369,
         1
        ],
        [
         198,
         1
        ],
        [
         29990,
         1
        ],
        [
         99900,
         1
        ],
        [
         1984,
         1
        ],
        [
         3299,
         1
        ],
        [
         700,
         1
        ],
        [
         2995,
         1
        ],
        [
         3939,
         1
        ],
        [
         2799,
         1
        ],
        [
         6995,
         1
        ],
        [
         2599,
         1
        ],
        [
         187,
         1
        ]
       ],
       "datasetInfos": [],
       "dbfsResultPath": null,
       "isJsonSchema": true,
       "metadata": {},
       "overflow": false,
       "plotOptions": {
        "customPlotOptions": {},
        "displayType": "table",
        "pivotAggregation": null,
        "pivotColumns": null,
        "xColumns": null,
        "yColumns": null
       },
       "removedWidgets": [],
       "schema": [
        {
         "metadata": "{}",
         "name": "price",
         "type": "\"integer\""
        },
        {
         "metadata": "{}",
         "name": "count",
         "type": "\"long\""
        }
       ],
       "type": "table"
      }
     },
     "output_type": "display_data"
    }
   ],
   "source": [
    "display(distribution_prix)"
   ]
  },
  {
   "cell_type": "code",
   "execution_count": 0,
   "metadata": {
    "application/vnd.databricks.v1+cell": {
     "cellMetadata": {
      "byteLimit": 2048000,
      "rowLimit": 10000
     },
     "inputWidgets": {},
     "nuid": "22dfa4c2-d833-4347-b20f-46e6f3a3c8ce",
     "showTitle": false,
     "title": ""
    }
   },
   "outputs": [
    {
     "output_type": "stream",
     "name": "stdout",
     "output_type": "stream",
     "text": [
      "+-----+-----+\n|promo|count|\n+-----+-----+\n|    0|53173|\n|   50|  350|\n|   90|  239|\n|   80|  228|\n|   75|  223|\n|   40|  164|\n|   51|  146|\n|   70|  137|\n|   60|  137|\n|   30|  131|\n|   20|  112|\n|   25|   85|\n|   10|   53|\n|   15|   45|\n|   35|   39|\n|   65|   37|\n|   87|   36|\n|   85|   34|\n|   83|   26|\n|   48|   25|\n+-----+-----+\nonly showing top 20 rows\n\nNombre de jeux en promotion 'promo': 2518\n"
     ]
    }
   ],
   "source": [
    "#####  Y a-t-il beaucoup de jeux avec une réduction ?  \"discount\"\n",
    "\n",
    "# Calculer la distribution des prix en termes de fréquence\n",
    "result3 = steam.groupBy(\"promo\").agg(count(\"*\").alias(\"count\"))\n",
    "                                                              \n",
    "# Triez\n",
    "distribution_discount = result3.orderBy(\"count\", ascending=False)                 \n",
    "\n",
    "# Afficher le résultat\n",
    "distribution_discount.show()\n",
    "\n",
    "# Nom de la colonne pour laquelle vous voulez compter les éléments\n",
    "column_name = \"promo\" # Remplacer \"votre_colonne\" par le nom de votre colonne\n",
    "\n",
    "# Filtrer les éléments différents de zéro dans la colonne spécifiée\n",
    "filtered = steam.filter(steam[column_name] != 0)\n",
    "\n",
    "# Compter le nombre d'éléments différents de zéro dans la colonne spécifiée\n",
    "count_elements = filtered.select(column_name).count()\n",
    "\n",
    "# Afficher le nombre d'éléments différents de zéro dans la colonne spécifiée\n",
    "print(f\"Nombre de jeux en promotion '{column_name}': {count_elements}\")"
   ]
  },
  {
   "cell_type": "code",
   "execution_count": 0,
   "metadata": {
    "application/vnd.databricks.v1+cell": {
     "cellMetadata": {
      "byteLimit": 2048000,
      "rowLimit": 10000
     },
     "inputWidgets": {},
     "nuid": "7555a17c-6a7b-400d-91cd-329f82c442eb",
     "showTitle": false,
     "title": ""
    }
   },
   "outputs": [
    {
     "output_type": "stream",
     "name": "stdout",
     "output_type": "stream",
     "text": [
      "Langues les plus représentées :\n+--------------------+-----+\n|            language|count|\n+--------------------+-----+\n|             English|55116|\n|              German|14019|\n|              French|13426|\n|             Russian|12922|\n|  Simplified Chinese|12782|\n|     Spanish - Spain|12233|\n|            Japanese|10368|\n|             Italian| 9304|\n| Portuguese - Brazil| 6750|\n|              Korean| 6600|\n| Traditional Chinese| 6307|\n|              Polish| 5376|\n|Portuguese - Port...| 4011|\n|             Turkish| 3602|\n|               Dutch| 3080|\n|Spanish - Latin A...| 2732|\n|               Czech| 2352|\n|             Swedish| 2047|\n|           Ukrainian| 1928|\n|           Hungarian| 1923|\n+--------------------+-----+\nonly showing top 20 rows\n\n"
     ]
    }
   ],
   "source": [
    "#####  Quelles sont les langues les plus représentées ?\n",
    "\n",
    "# Diviser la colonne languages en une liste de langues, puis utiliser explode pour obtenir une ligne par langue\n",
    "df_lang = steam.withColumn(\"language\", explode(split(steam[\"languages\"], \",\\s*\")))\n",
    "\n",
    "# Compter le nombre d'occurrences de chaque langue et trier les résultats par ordre décroissant\n",
    "lang_counts = df_lang.groupBy(\"language\").count().orderBy(desc(\"count\"))\n",
    "\n",
    "# Afficher les langues les plus représentées\n",
    "print(\"Langues les plus représentées :\")\n",
    "lang_counts.show()"
   ]
  },
  {
   "cell_type": "code",
   "execution_count": 0,
   "metadata": {
    "application/vnd.databricks.v1+cell": {
     "cellMetadata": {
      "byteLimit": 2048000,
      "rowLimit": 10000
     },
     "inputWidgets": {},
     "nuid": "c8d4a8fc-eca5-4009-8f4b-b18458f6a68a",
     "showTitle": false,
     "title": ""
    }
   },
   "outputs": [
    {
     "output_type": "stream",
     "name": "stdout",
     "output_type": "stream",
     "text": [
      "+----+-----+\n|pegi|count|\n+----+-----+\n|   0|55030|\n|  15|  264|\n|  18|  223|\n|  16|   38|\n|  17|   38|\n|  12|   32|\n|  13|   26|\n|  14|   10|\n|  10|    7|\n|   6|    4|\n| 180|    4|\n|null|    3|\n|   3|    3|\n|   8|    3|\n|   7|    2|\n|  20|    1|\n|   5|    1|\n|   9|    1|\n|  35|    1|\n+----+-----+\n\nNombre d'éléments entre 16 et 18 inclusivement : 299\n"
     ]
    }
   ],
   "source": [
    "#####  Existe-t-il de nombreux jeux interdits aux moins de 16/18 ans ?\n",
    "\n",
    "# Calculer la distribution des prix en termes de fréquence\n",
    "result4 = steam.groupBy(\"pegi\").agg(count(\"*\").alias(\"count\"))\n",
    "                                                              \n",
    "# Triez\n",
    "distribution_pegi = result4.orderBy(\"count\", ascending=False)                 \n",
    "\n",
    "# Afficher le résultat\n",
    "distribution_pegi.show()\n",
    "\n",
    "# Filtrer les lignes où la valeur de la colonne \"pegi\" est entre 16 et 18 inclusivement\n",
    "jeux_interdits = distribution_pegi.filter((distribution_pegi[\"pegi\"] >= 16) & (distribution_pegi[\"pegi\"] <= 18)).agg({\"count\": \"sum\"}).collect()[0][0]\n",
    "\n",
    "# Afficher le nombre d'éléments entre 16 et 18 inclusivement\n",
    "print(f\"Nombre d'éléments entre 16 et 18 inclusivement : {jeux_interdits}\")"
   ]
  },
  {
   "cell_type": "markdown",
   "metadata": {
    "application/vnd.databricks.v1+cell": {
     "cellMetadata": {
      "byteLimit": 2048000,
      "rowLimit": 10000
     },
     "inputWidgets": {},
     "nuid": "23a8b4c5-3bfe-4505-9c55-434411bad9c6",
     "showTitle": false,
     "title": ""
    }
   },
   "source": [
    "<div style=\"text-align: center;text-decoration: underline;font-weight: 700;font-size: 1.75em;line-height: 1.225;\">Analyse des genres<br><br>\n",
    "    <img src=\"https://www.games-geeks.fr/wp-content/uploads/2023/12/sorties-jeux-video-decembre-2023.jpg\" style=\"width: 50%;\" alt=\"Analyse des genres\">\n",
    "</div>\n"
   ]
  },
  {
   "cell_type": "code",
   "execution_count": 0,
   "metadata": {
    "application/vnd.databricks.v1+cell": {
     "cellMetadata": {
      "byteLimit": 2048000,
      "rowLimit": 10000
     },
     "inputWidgets": {},
     "nuid": "d0d96266-7fb2-49ee-be8b-f661bafc937a",
     "showTitle": false,
     "title": ""
    }
   },
   "outputs": [
    {
     "output_type": "stream",
     "name": "stdout",
     "output_type": "stream",
     "text": [
      "Les genres de jeux les plus représentées :\n+--------------------+-----+\n|         genre_games|count|\n+--------------------+-----+\n|               Indie|39681|\n|              Action|23759|\n|              Casual|22086|\n|           Adventure|21431|\n|            Strategy|10895|\n|          Simulation|10836|\n|                 RPG| 9534|\n|        Early Access| 6145|\n|        Free to Play| 3393|\n|              Sports| 2666|\n|              Racing| 2155|\n|Massively Multipl...| 1460|\n|           Utilities|  682|\n|Design & Illustra...|  406|\n|Animation & Modeling|  322|\n|           Education|  317|\n|    Video Production|  247|\n|    Audio Production|  195|\n|             Violent|  168|\n|   Software Training|  164|\n+--------------------+-----+\nonly showing top 20 rows\n\n"
     ]
    }
   ],
   "source": [
    "#####  Quels sont les genres les plus représentés ?\n",
    "\n",
    "# Diviser la colonne languages en une liste de langues, puis utiliser explode pour obtenir une ligne par langue\n",
    "df_genres = steam.withColumn(\"genre_games\", explode(split(steam[\"genre\"], \",\\s*\")))\n",
    "\n",
    "# Compter le nombre d'occurrences de chaque langue et trier les résultats par ordre décroissant\n",
    "genres_counts = df_genres.groupBy(\"genre_games\").count().orderBy(desc(\"count\"))\n",
    "\n",
    "# Afficher les langues les plus représentées\n",
    "print(\"Les genres de jeux les plus représentées :\")\n",
    "genres_counts.show()"
   ]
  },
  {
   "cell_type": "code",
   "execution_count": 0,
   "metadata": {
    "application/vnd.databricks.v1+cell": {
     "cellMetadata": {
      "byteLimit": 2048000,
      "rowLimit": 10000
     },
     "inputWidgets": {},
     "nuid": "58ecbc9b-b203-4cbd-acf3-fa9fbef79f4a",
     "showTitle": false,
     "title": ""
    }
   },
   "outputs": [
    {
     "output_type": "stream",
     "name": "stdout",
     "output_type": "stream",
     "text": [
      "+------------+-----------------------+\n| genre_games|ratio_positifs_negatifs|\n+------------+-----------------------+\n|      Casual|                  937.0|\n|      Action|                  264.0|\n|       Indie|                  264.0|\n|      Casual|                  252.0|\n|Early Access|                  252.0|\n|      Casual|                  247.0|\n|      Action|                  227.0|\n|   Adventure|                  227.0|\n|       Indie|                  227.0|\n|       Indie|                  226.0|\n|   Adventure|                  226.0|\n|         RPG|                  219.0|\n|   Adventure|                  203.5|\n|       Indie|                  203.5|\n|       Indie|                  196.0|\n|   Adventure|                  196.0|\n|      Action|                  196.0|\n|   Adventure|                  196.0|\n|       Indie|                  196.0|\n|      Casual|                  192.0|\n+------------+-----------------------+\nonly showing top 20 rows\n\nVoici les genres avec les meilleurs ration :\n+--------------------+-----+\n|         genre_games|count|\n+--------------------+-----+\n|               Indie|39681|\n|              Action|23759|\n|              Casual|22086|\n|           Adventure|21431|\n|            Strategy|10895|\n|          Simulation|10836|\n|                 RPG| 9534|\n|        Early Access| 6145|\n|        Free to Play| 3393|\n|              Sports| 2666|\n|              Racing| 2155|\n|Massively Multipl...| 1460|\n|           Utilities|  682|\n|Design & Illustra...|  406|\n|Animation & Modeling|  322|\n|           Education|  317|\n|    Video Production|  247|\n|    Audio Production|  195|\n|             Violent|  168|\n|   Software Training|  164|\n+--------------------+-----+\nonly showing top 20 rows\n\n"
     ]
    }
   ],
   "source": [
    "#####  Existe-t-il des genres qui ont un meilleur ratio d'avis positifs/négatifs ?\n",
    "\n",
    "# Calculer le ratio des genres avec les reviews positis et négatifs\n",
    "ratio_positifs_negatifs = df_genres.select(\n",
    "    col(\"genre_games\"),\n",
    "    (col(\"reviewsgood\") / col(\"reviewsneg\")).alias(\"ratio_positifs_negatifs\")\n",
    ")\n",
    "\n",
    "# Trier le résultat par ordre décroissant du ratio\n",
    "ratio_positifs_negatifs = ratio_positifs_negatifs.orderBy(col(\"ratio_positifs_negatifs\").desc())\n",
    "\n",
    "# Afficher le résultat\n",
    "ratio_positifs_negatifs.show()\n",
    "\n",
    "# Calculer la distribution des ratio par genres\n",
    "positifs_negatifs = ratio_positifs_negatifs.groupBy(\"genre_games\").agg(count(\"*\").alias(\"count\"))\n",
    "\n",
    "# Trier le résultat par ordre décroissant\n",
    "positifs_negatifs = positifs_negatifs.orderBy(col(\"count\").desc())\n",
    "\n",
    "print(\"Voici les genres avec les meilleurs ration :\")\n",
    "positifs_negatifs.show()"
   ]
  },
  {
   "cell_type": "code",
   "execution_count": 0,
   "metadata": {
    "application/vnd.databricks.v1+cell": {
     "cellMetadata": {
      "byteLimit": 2048000,
      "rowLimit": 10000
     },
     "inputWidgets": {},
     "nuid": "96339178-35b7-4d81-bb6a-7ec5d2cd9a15",
     "showTitle": false,
     "title": ""
    }
   },
   "outputs": [
    {
     "output_type": "stream",
     "name": "stdout",
     "output_type": "stream",
     "text": [
      "+--------------------+------------+\n|           publisher| genre_games|\n+--------------------+------------+\n|           AK Studio|       Indie|\n|         Alon Zubina|       Indie|\n|        Appnori Inc.|Early Access|\n| Art Games Studio...|      Casual|\n|      Asterion Games|       Indie|\n|           BBB Games|       Indie|\n|   Beach Day Studios|       Indie|\n|               CGevo|   Adventure|\n| Dipl. Ing. Rolf-...|  Simulation|\n|        FurGoldGames|      Action|\n|     Game for people|      Sports|\n|  Genuine Studio Ltd|   Adventure|\n| H2 Interactive C...|   Adventure|\n| Hangover Cat Pur...|      Casual|\n|             Iful GS|       Indie|\n| Indevelopment Pr...|Early Access|\n|            MV Games|   Adventure|\n|           Metal Fox|       Indie|\n| Paper Bunker s.r.o.|      Racing|\n|      PeriScope Game|      Casual|\n+--------------------+------------+\nonly showing top 20 rows\n\n"
     ]
    }
   ],
   "source": [
    "#####  Certains éditeurs ont-ils des genres favoris ?\n",
    "\n",
    "# Définir la fenêtre de partition par éditeur et trier par le nombre d'occurrences de chaque genre\n",
    "windowSpec = Window.partitionBy(\"publisher\").orderBy(desc(\"count\"))\n",
    "\n",
    "# Ajouter une colonne de rang pour chaque genre par éditeur\n",
    "df_with_rank = df_genres.groupBy(\"publisher\", \"genre_games\").count().withColumn(\"rank\", row_number().over(windowSpec))\n",
    "\n",
    "# Filtrer pour ne conserver que le genre avec le rang 1 pour chaque éditeur (le genre le plus représenté)\n",
    "genre_plus_represente_par_editeur = df_with_rank.filter(col(\"rank\") == 1).drop(\"count\", \"rank\")\n",
    "\n",
    "# Afficher le résultat\n",
    "genre_plus_represente_par_editeur.show()"
   ]
  },
  {
   "cell_type": "code",
   "execution_count": 0,
   "metadata": {
    "application/vnd.databricks.v1+cell": {
     "cellMetadata": {
      "byteLimit": 2048000,
      "rowLimit": 10000
     },
     "inputWidgets": {},
     "nuid": "66c9643a-7717-452e-822c-457bf4a2ddef",
     "showTitle": false,
     "title": ""
    }
   },
   "outputs": [
    {
     "output_type": "stream",
     "name": "stdout",
     "output_type": "stream",
     "text": [
      "+--------------------+------------+\n|         genre_games|revenu_total|\n+--------------------+------------+\n|               Indie|    26979710|\n|              Action|    18954145|\n|           Adventure|    17802060|\n|              Casual|    12816307|\n|          Simulation|    10164599|\n|            Strategy|     9440421|\n|                 RPG|     8928394|\n|        Early Access|     5452918|\n|              Sports|     2468279|\n|              Racing|     1826089|\n|           Utilities|      798741|\n|Design & Illustra...|      793390|\n|Massively Multipl...|      759845|\n|Animation & Modeling|      615387|\n|    Video Production|      489352|\n|           Education|      462432|\n|    Audio Production|      405198|\n|    Game Development|      339612|\n|   Software Training|      323893|\n|       Photo Editing|      214405|\n+--------------------+------------+\nonly showing top 20 rows\n\n"
     ]
    }
   ],
   "source": [
    "#####  Quels sont les genres les plus lucratifs ?\n",
    "\n",
    "# Calculer le revenu total généré par chaque genre\n",
    "revenu_par_genre = df_genres.groupBy(\"genre_games\").agg(sum(\"price\").alias(\"revenu_total\"))\n",
    "\n",
    "# Trier le résultat par ordre décroissant du revenu total\n",
    "genres_lucratifs = revenu_par_genre.orderBy(col(\"revenu_total\").desc())\n",
    "\n",
    "# Afficher le résultat\n",
    "genres_lucratifs.show()"
   ]
  },
  {
   "cell_type": "markdown",
   "metadata": {
    "application/vnd.databricks.v1+cell": {
     "cellMetadata": {
      "byteLimit": 2048000,
      "rowLimit": 10000
     },
     "inputWidgets": {},
     "nuid": "54786dc7-2e82-4bc4-96af-a499c5b39689",
     "showTitle": false,
     "title": ""
    }
   },
   "source": [
    "<div style=\"text-align: center;text-decoration: underline;font-weight: 700;font-size: 1.75em;line-height: 1.225;\">Analyse de la plateforme<br><br>\n",
    "    <img src=\"https://cdn.mos.cms.futurecdn.net/T3ZiBaJpMbQ64uodndXQ8Q-1200-80.jpg\" style=\"width:40%;\" alt=\"Analyse de la plateforme\">\n",
    "</div>"
   ]
  },
  {
   "cell_type": "code",
   "execution_count": 0,
   "metadata": {
    "application/vnd.databricks.v1+cell": {
     "cellMetadata": {
      "byteLimit": 2048000,
      "rowLimit": 10000
     },
     "inputWidgets": {},
     "nuid": "35c1c902-d37d-431d-aa1e-9ebe583207df",
     "showTitle": false,
     "title": ""
    }
   },
   "outputs": [
    {
     "output_type": "stream",
     "name": "stdout",
     "output_type": "stream",
     "text": [
      "+--------------------+--------------------+--------------------+--------------------+-----+--------------------+-----+-----+----+-----------+----------+-----------+----+-----------+-----+-----+-------+\n|           publisher|          categories|                name|           developer|  ccu|           languages|price|promo|pegi|reviewsgood|reviewsneg|date_column|year|genre_games|linux|  mac|windows|\n+--------------------+--------------------+--------------------+--------------------+-----+--------------------+-----+-----+----+-----------+----------+-----------+----+-----------+-----+-----+-------+\n|               Valve|[Multi-player, Va...|      Counter-Strike|               Valve|13990|English, French, ...|  999|    0|   0|     201215|      5199| 2000-11-01|2000|     Action| true| true|   true|\n|PsychoFlux Entert...|[Single-player, P...|           ASCENXION|IndigoBlue Game S...|    0|English, Korean, ...|  999|    0|   0|         27|         5| 2021-05-14|2021|     Action|false|false|   true|\n|PsychoFlux Entert...|[Single-player, P...|           ASCENXION|IndigoBlue Game S...|    0|English, Korean, ...|  999|    0|   0|         27|         5| 2021-05-14|2021|  Adventure|false|false|   true|\n|PsychoFlux Entert...|[Single-player, P...|           ASCENXION|IndigoBlue Game S...|    0|English, Korean, ...|  999|    0|   0|         27|         5| 2021-05-14|2021|      Indie|false|false|   true|\n|Team17, NEXT Studios|[Single-player, P...|         Crown Trick|        NEXT Studios|   99|Simplified Chines...| 1999|   70|   0|       4032|       646| 2020-10-16|2020|  Adventure|false|false|   true|\n|Team17, NEXT Studios|[Single-player, P...|         Crown Trick|        NEXT Studios|   99|Simplified Chines...| 1999|   70|   0|       4032|       646| 2020-10-16|2020|      Indie|false|false|   true|\n|Team17, NEXT Studios|[Single-player, P...|         Crown Trick|        NEXT Studios|   99|Simplified Chines...| 1999|   70|   0|       4032|       646| 2020-10-16|2020|        RPG|false|false|   true|\n|Team17, NEXT Studios|[Single-player, P...|         Crown Trick|        NEXT Studios|   99|Simplified Chines...| 1999|   70|   0|       4032|       646| 2020-10-16|2020|   Strategy|false|false|   true|\n| Vertigo Gaming Inc.|[Multi-player, Si...|Cook, Serve, Deli...| Vertigo Gaming Inc.|   76|             English| 1999|    0|   0|       1575|       115| 2020-10-14|2020|     Action|false| true|   true|\n| Vertigo Gaming Inc.|[Multi-player, Si...|Cook, Serve, Deli...| Vertigo Gaming Inc.|   76|             English| 1999|    0|   0|       1575|       115| 2020-10-14|2020|      Indie|false| true|   true|\n| Vertigo Gaming Inc.|[Multi-player, Si...|Cook, Serve, Deli...| Vertigo Gaming Inc.|   76|             English| 1999|    0|   0|       1575|       115| 2020-10-14|2020| Simulation|false| true|   true|\n| Vertigo Gaming Inc.|[Multi-player, Si...|Cook, Serve, Deli...| Vertigo Gaming Inc.|   76|             English| 1999|    0|   0|       1575|       115| 2020-10-14|2020|   Strategy|false| true|   true|\n|       DoubleC Games|     [Single-player]|            细胞战争|       DoubleC Games|    0|  Simplified Chinese|  199|    0|   0|          0|         1| 2019-03-30|2019|     Action|false|false|   true|\n|       DoubleC Games|     [Single-player]|            细胞战争|       DoubleC Games|    0|  Simplified Chinese|  199|    0|   0|          0|         1| 2019-03-30|2019|     Casual|false|false|   true|\n|       DoubleC Games|     [Single-player]|            细胞战争|       DoubleC Games|    0|  Simplified Chinese|  199|    0|   0|          0|         1| 2019-03-30|2019|      Indie|false|false|   true|\n|       DoubleC Games|     [Single-player]|            细胞战争|       DoubleC Games|    0|  Simplified Chinese|  199|    0|   0|          0|         1| 2019-03-30|2019| Simulation|false|false|   true|\n|            2P Games|[Multi-player, Si...|             Zengeon|  IndieLeague Studio|    3|Simplified Chines...| 1999|   60|   0|       1018|       462| 2019-06-24|2019|     Action|false| true|   true|\n|            2P Games|[Multi-player, Si...|             Zengeon|  IndieLeague Studio|    3|Simplified Chines...| 1999|   60|   0|       1018|       462| 2019-06-24|2019|  Adventure|false| true|   true|\n|            2P Games|[Multi-player, Si...|             Zengeon|  IndieLeague Studio|    3|Simplified Chines...| 1999|   60|   0|       1018|       462| 2019-06-24|2019|      Indie|false| true|   true|\n|            2P Games|[Multi-player, Si...|             Zengeon|  IndieLeague Studio|    3|Simplified Chines...| 1999|   60|   0|       1018|       462| 2019-06-24|2019|        RPG|false| true|   true|\n+--------------------+--------------------+--------------------+--------------------+-----+--------------------+-----+-----+----+-----------+----------+-----------+----+-----------+-----+-----+-------+\nonly showing top 20 rows\n\n+--------------------+--------------------+--------------------+--------------------+-----+--------------------+-----+-----+----+-----------+----------+-----------+----+-----------+-----+---+-------+\n|           publisher|          categories|                name|           developer|  ccu|           languages|price|promo|pegi|reviewsgood|reviewsneg|date_column|year|genre_games|linux|mac|windows|\n+--------------------+--------------------+--------------------+--------------------+-----+--------------------+-----+-----+----+-----------+----------+-----------+----+-----------+-----+---+-------+\n|               Valve|[Multi-player, Va...|      Counter-Strike|               Valve|13990|English, French, ...|  999|    0|   0|     201215|      5199| 2000-11-01|2000|     Action|  oui|oui|    oui|\n|PsychoFlux Entert...|[Single-player, P...|           ASCENXION|IndigoBlue Game S...|    0|English, Korean, ...|  999|    0|   0|         27|         5| 2021-05-14|2021|     Action|  non|non|    oui|\n|PsychoFlux Entert...|[Single-player, P...|           ASCENXION|IndigoBlue Game S...|    0|English, Korean, ...|  999|    0|   0|         27|         5| 2021-05-14|2021|  Adventure|  non|non|    oui|\n|PsychoFlux Entert...|[Single-player, P...|           ASCENXION|IndigoBlue Game S...|    0|English, Korean, ...|  999|    0|   0|         27|         5| 2021-05-14|2021|      Indie|  non|non|    oui|\n|Team17, NEXT Studios|[Single-player, P...|         Crown Trick|        NEXT Studios|   99|Simplified Chines...| 1999|   70|   0|       4032|       646| 2020-10-16|2020|  Adventure|  non|non|    oui|\n|Team17, NEXT Studios|[Single-player, P...|         Crown Trick|        NEXT Studios|   99|Simplified Chines...| 1999|   70|   0|       4032|       646| 2020-10-16|2020|      Indie|  non|non|    oui|\n|Team17, NEXT Studios|[Single-player, P...|         Crown Trick|        NEXT Studios|   99|Simplified Chines...| 1999|   70|   0|       4032|       646| 2020-10-16|2020|        RPG|  non|non|    oui|\n|Team17, NEXT Studios|[Single-player, P...|         Crown Trick|        NEXT Studios|   99|Simplified Chines...| 1999|   70|   0|       4032|       646| 2020-10-16|2020|   Strategy|  non|non|    oui|\n| Vertigo Gaming Inc.|[Multi-player, Si...|Cook, Serve, Deli...| Vertigo Gaming Inc.|   76|             English| 1999|    0|   0|       1575|       115| 2020-10-14|2020|     Action|  non|oui|    oui|\n| Vertigo Gaming Inc.|[Multi-player, Si...|Cook, Serve, Deli...| Vertigo Gaming Inc.|   76|             English| 1999|    0|   0|       1575|       115| 2020-10-14|2020|      Indie|  non|oui|    oui|\n| Vertigo Gaming Inc.|[Multi-player, Si...|Cook, Serve, Deli...| Vertigo Gaming Inc.|   76|             English| 1999|    0|   0|       1575|       115| 2020-10-14|2020| Simulation|  non|oui|    oui|\n| Vertigo Gaming Inc.|[Multi-player, Si...|Cook, Serve, Deli...| Vertigo Gaming Inc.|   76|             English| 1999|    0|   0|       1575|       115| 2020-10-14|2020|   Strategy|  non|oui|    oui|\n|       DoubleC Games|     [Single-player]|            细胞战争|       DoubleC Games|    0|  Simplified Chinese|  199|    0|   0|          0|         1| 2019-03-30|2019|     Action|  non|non|    oui|\n|       DoubleC Games|     [Single-player]|            细胞战争|       DoubleC Games|    0|  Simplified Chinese|  199|    0|   0|          0|         1| 2019-03-30|2019|     Casual|  non|non|    oui|\n|       DoubleC Games|     [Single-player]|            细胞战争|       DoubleC Games|    0|  Simplified Chinese|  199|    0|   0|          0|         1| 2019-03-30|2019|      Indie|  non|non|    oui|\n|       DoubleC Games|     [Single-player]|            细胞战争|       DoubleC Games|    0|  Simplified Chinese|  199|    0|   0|          0|         1| 2019-03-30|2019| Simulation|  non|non|    oui|\n|            2P Games|[Multi-player, Si...|             Zengeon|  IndieLeague Studio|    3|Simplified Chines...| 1999|   60|   0|       1018|       462| 2019-06-24|2019|     Action|  non|oui|    oui|\n|            2P Games|[Multi-player, Si...|             Zengeon|  IndieLeague Studio|    3|Simplified Chines...| 1999|   60|   0|       1018|       462| 2019-06-24|2019|  Adventure|  non|oui|    oui|\n|            2P Games|[Multi-player, Si...|             Zengeon|  IndieLeague Studio|    3|Simplified Chines...| 1999|   60|   0|       1018|       462| 2019-06-24|2019|      Indie|  non|oui|    oui|\n|            2P Games|[Multi-player, Si...|             Zengeon|  IndieLeague Studio|    3|Simplified Chines...| 1999|   60|   0|       1018|       462| 2019-06-24|2019|        RPG|  non|oui|    oui|\n+--------------------+--------------------+--------------------+--------------------+-----+--------------------+-----+-----+----+-----------+----------+-----------+----+-----------+-----+---+-------+\nonly showing top 20 rows\n\nVoici le nombres de jeux disponible par plateforme :\nLinux: 24031\nMac: 35957\nWindows: 157235\n"
     ]
    }
   ],
   "source": [
    "#####  La plupart des jeux sont-ils plutôt disponibles sur Windows/Mac/Linux ?\n",
    "\n",
    "# Séparation de la colonne platforms\n",
    "df = df_genres.withColumn(\"linux\", col(\"platforms.linux\"))\n",
    "df = df.withColumn(\"mac\", col(\"platforms.mac\"))\n",
    "df = df.withColumn(\"windows\", col(\"platforms.windows\"))\n",
    "\n",
    "# Suppression de la colonne platforms d'origine si nécessaire\n",
    "df = df.drop(\"platforms\",\"genre\")\n",
    "\n",
    "# Afficher le résultat\n",
    "df.show()\n",
    "\n",
    "# Remplacer les valeurs True/False par Oui/Non dans les colonnes linux, mac et windows\n",
    "df = df.withColumn(\"linux\", when(col(\"linux\"), \"oui\").otherwise(\"non\"))\n",
    "df = df.withColumn(\"mac\", when(col(\"mac\"), \"oui\").otherwise(\"non\"))\n",
    "df = df.withColumn(\"windows\", when(col(\"windows\"), \"oui\").otherwise(\"non\"))\n",
    "\n",
    "# Afficher le résultat\n",
    "df.show()\n",
    "\n",
    "# Calculer le nombre de \"oui\" dans les colonnes linux, mac et windows\n",
    "count_linux = df.filter(col(\"linux\") == \"oui\").count()\n",
    "count_mac = df.filter(col(\"mac\") == \"oui\").count()\n",
    "count_windows = df.filter(col(\"windows\") == \"oui\").count()\n",
    "\n",
    "\n",
    "print(\"Voici le nombres de jeux disponible par plateforme :\")\n",
    "\n",
    "print(\"Linux:\", count_linux)\n",
    "print(\"Mac:\", count_mac)\n",
    "print(\"Windows:\", count_windows)"
   ]
  }
 ],
 "metadata": {
  "application/vnd.databricks.v1+notebook": {
   "dashboards": [
    {
     "elements": [
      {
       "dashboardResultIndex": 0,
       "elementNUID": "14b8a4c2-f7cc-44c9-bb4d-6815a8894167",
       "elementType": "command",
       "guid": "e9ce38b6-5993-425c-9956-9993b2b00df7",
       "options": null,
       "position": {
        "height": 6,
        "width": 12,
        "x": 0,
        "y": 0,
        "z": null
       },
       "resultIndex": null
      }
     ],
     "globalVars": {},
     "guid": "",
     "layoutOption": {
      "grid": true,
      "stack": true
     },
     "nuid": "2275d938-8f8f-49c7-a92e-717749aaab69",
     "origId": 3046250479767842,
     "title": "Untitled",
     "version": "DashboardViewV1",
     "width": 1024
    }
   ],
   "language": "python",
   "notebookMetadata": {
    "pythonIndentUnit": 4
   },
   "notebookName": "Steam_s_videogames_platform",
   "widgets": {}
  }
 },
 "nbformat": 4,
 "nbformat_minor": 0
}
